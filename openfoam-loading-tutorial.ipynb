{
 "cells": [
  {
   "cell_type": "code",
   "execution_count": 1,
   "metadata": {},
   "outputs": [],
   "source": [
    "import pyvista\n",
    "from pyvista import examples"
   ]
  },
  {
   "cell_type": "code",
   "execution_count": 2,
   "metadata": {},
   "outputs": [],
   "source": [
    "filename = examples.download_cavity(load=False)\n",
    "reader = pyvista.POpenFOAMReader(filename)"
   ]
  },
  {
   "cell_type": "code",
   "execution_count": 3,
   "metadata": {},
   "outputs": [
    {
     "name": "stdout",
     "output_type": "stream",
     "text": [
      "All patch names: ['internalMesh', 'patch/movingWall', 'patch/fixedWalls', 'patch/frontAndBack']\n",
      "All patch status: {'internalMesh': True, 'patch/movingWall': True, 'patch/fixedWalls': True, 'patch/frontAndBack': True}\n"
     ]
    }
   ],
   "source": [
    "print(f\"All patch names: {reader.patch_array_names}\")\n",
    "print(f\"All patch status: {reader.all_patch_arrays_status}\")"
   ]
  },
  {
   "cell_type": "code",
   "execution_count": 4,
   "metadata": {},
   "outputs": [
    {
     "name": "stdout",
     "output_type": "stream",
     "text": [
      "Mesh patches: ['internalMesh', 'boundary']\n"
     ]
    }
   ],
   "source": [
    "mesh = reader.read()\n",
    "print(f\"Mesh patches: {mesh.keys()}\")\n",
    "internal_mesh = mesh[\"internalMesh\"]  # or internal_mesh = mesh[0]"
   ]
  },
  {
   "cell_type": "code",
   "execution_count": 5,
   "metadata": {},
   "outputs": [
    {
     "name": "stdout",
     "output_type": "stream",
     "text": [
      "UnstructuredGrid (0x1043c4d60)\n",
      "  N Cells:    400\n",
      "  N Points:   882\n",
      "  X Bounds:   0.000e+00, 1.000e-01\n",
      "  Y Bounds:   0.000e+00, 1.000e-01\n",
      "  Z Bounds:   0.000e+00, 1.000e-02\n",
      "  N Arrays:   4\n"
     ]
    }
   ],
   "source": [
    "print(internal_mesh)"
   ]
  },
  {
   "cell_type": "code",
   "execution_count": 6,
   "metadata": {},
   "outputs": [
    {
     "name": "stdout",
     "output_type": "stream",
     "text": [
      "MultiBlock (0x15707fac0)\n",
      "  N Blocks    3\n",
      "  X Bounds    0.000, 0.100\n",
      "  Y Bounds    0.000, 0.100\n",
      "  Z Bounds    0.000, 0.010\n",
      "Boundaries patches: ['movingWall', 'fixedWalls', 'frontAndBack']\n",
      "PolyData (0x15707ffa0)\n",
      "  N Cells:    20\n",
      "  N Points:   42\n",
      "  N Strips:   0\n",
      "  X Bounds:   0.000e+00, 1.000e-01\n",
      "  Y Bounds:   1.000e-01, 1.000e-01\n",
      "  Z Bounds:   0.000e+00, 1.000e-02\n",
      "  N Arrays:   4\n"
     ]
    }
   ],
   "source": [
    "boundaries = mesh[\"boundary\"]\n",
    "print(boundaries)\n",
    "print(f\"Boundaries patches: {boundaries.keys()}\")\n",
    "print(boundaries[\"movingWall\"])"
   ]
  },
  {
   "cell_type": "code",
   "execution_count": 7,
   "metadata": {},
   "outputs": [
    {
     "name": "stdout",
     "output_type": "stream",
     "text": [
      "Cell Data:\n",
      "pyvista DataSetAttributes\n",
      "Association     : CELL\n",
      "Active Scalars  : p\n",
      "Active Vectors  : U\n",
      "Active Texture  : None\n",
      "Active Normals  : None\n",
      "Contains arrays :\n",
      "    U                       float32    (400, 3)             VECTORS\n",
      "    p                       float32    (400,)               SCALARS\n",
      "\n",
      "Point Data:\n",
      "pyvista DataSetAttributes\n",
      "Association     : POINT\n",
      "Active Scalars  : p\n",
      "Active Vectors  : U\n",
      "Active Texture  : None\n",
      "Active Normals  : None\n",
      "Contains arrays :\n",
      "    U                       float32    (882, 3)             VECTORS\n",
      "    p                       float32    (882,)               SCALARS\n"
     ]
    }
   ],
   "source": [
    "print(\"Cell Data:\")\n",
    "print(internal_mesh.cell_data)\n",
    "print(\"\\nPoint Data:\")\n",
    "print(internal_mesh.point_data)"
   ]
  },
  {
   "cell_type": "code",
   "execution_count": 8,
   "metadata": {},
   "outputs": [
    {
     "name": "stdout",
     "output_type": "stream",
     "text": [
      "Cell Data:\n",
      "pyvista DataSetAttributes\n",
      "Association     : CELL\n",
      "Active Scalars  : p\n",
      "Active Vectors  : U\n",
      "Active Texture  : None\n",
      "Active Normals  : None\n",
      "Contains arrays :\n",
      "    U                       float32    (400, 3)             VECTORS\n",
      "    p                       float32    (400,)               SCALARS\n",
      "\n",
      "Point Data:\n",
      "pyvista DataSetAttributes\n",
      "Association     : POINT\n",
      "Active Scalars  : None\n",
      "Active Vectors  : None\n",
      "Active Texture  : None\n",
      "Active Normals  : None\n",
      "Contains arrays : None\n"
     ]
    }
   ],
   "source": [
    "reader.cell_to_point_creation = False\n",
    "internal_mesh = reader.read()[\"internalMesh\"]\n",
    "print(\"Cell Data:\")\n",
    "print(internal_mesh.cell_data)\n",
    "print(\"\\nPoint Data:\")\n",
    "print(internal_mesh.point_data)"
   ]
  },
  {
   "cell_type": "code",
   "execution_count": 9,
   "metadata": {},
   "outputs": [
    {
     "name": "stdout",
     "output_type": "stream",
     "text": [
      "Available Time Values: [0.0, 0.5, 1.0, 1.5, 2.0, 2.5]\n"
     ]
    }
   ],
   "source": [
    "print(f\"Available Time Values: {reader.time_values}\")\n",
    "reader.set_active_time_value(2.5)\n",
    "reader.cell_to_point_creation = True  # Need point data for streamlines\n",
    "mesh = reader.read()\n",
    "internal_mesh = mesh[\"internalMesh\"]\n",
    "boundaries = mesh[\"boundary\"]"
   ]
  },
  {
   "cell_type": "code",
   "execution_count": 10,
   "metadata": {},
   "outputs": [],
   "source": [
    "def slice_z_center(mesh):\n",
    "    \"\"\"Slice mesh through center in z normal direction, move to z=0.\"\"\"\n",
    "    slice_mesh = mesh.slice(normal='z')\n",
    "    slice_mesh.translate((0, 0, -slice_mesh.center[-1]), inplace=True)\n",
    "    return slice_mesh\n",
    "\n",
    "\n",
    "slice_internal_mesh = slice_z_center(internal_mesh)\n",
    "slice_boundaries = pyvista.MultiBlock(\n",
    "    {key: slice_z_center(boundaries[key]) for key in boundaries.keys()}\n",
    ")"
   ]
  },
  {
   "cell_type": "code",
   "execution_count": 11,
   "metadata": {},
   "outputs": [],
   "source": [
    "streamlines = slice_internal_mesh.streamlines_evenly_spaced_2D(\n",
    "    vectors='U',\n",
    "    start_position=(0.05, 0.05, 0),\n",
    "    separating_distance=1,\n",
    "    separating_distance_ratio=0.1,\n",
    ")"
   ]
  },
  {
   "cell_type": "code",
   "execution_count": 12,
   "metadata": {},
   "outputs": [
    {
     "data": {
      "application/vnd.jupyter.widget-view+json": {
       "model_id": "e011f1a6de8c40f2b667bfcac656bb9b",
       "version_major": 2,
       "version_minor": 0
      },
      "text/plain": [
       "Widget(value=\"<iframe src='http://localhost:64381/index.html?ui=P_0x15706b850_0&reconnect=auto' style='width: …"
      ]
     },
     "metadata": {},
     "output_type": "display_data"
    }
   ],
   "source": [
    "plotter = pyvista.Plotter()\n",
    "plotter.add_mesh(slice_boundaries[\"movingWall\"], color='red', line_width=3)\n",
    "plotter.add_mesh(slice_boundaries[\"fixedWalls\"], color='black', line_width=3)\n",
    "plotter.add_mesh(streamlines.tube(radius=0.0005), scalars=\"U\")\n",
    "plotter.view_xy()\n",
    "plotter.enable_parallel_projection()\n",
    "plotter.show()"
   ]
  },
  {
   "cell_type": "code",
   "execution_count": null,
   "metadata": {},
   "outputs": [],
   "source": []
  }
 ],
 "metadata": {
  "kernelspec": {
   "display_name": "venv",
   "language": "python",
   "name": "python3"
  },
  "language_info": {
   "codemirror_mode": {
    "name": "ipython",
    "version": 3
   },
   "file_extension": ".py",
   "mimetype": "text/x-python",
   "name": "python",
   "nbconvert_exporter": "python",
   "pygments_lexer": "ipython3",
   "version": "3.11.3"
  },
  "orig_nbformat": 4
 },
 "nbformat": 4,
 "nbformat_minor": 2
}
