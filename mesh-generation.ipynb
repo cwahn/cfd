{
 "cells": [
  {
   "cell_type": "code",
   "execution_count": 1,
   "metadata": {},
   "outputs": [],
   "source": [
    "BACKGROUND_PATH = \"./data/marine-city-2.obj\"\n",
    "DESIGNS_DIR = \"./data/designs/\"\n",
    "OUTPUT_DIR = \"./data/results/meshes/\""
   ]
  },
  {
   "cell_type": "code",
   "execution_count": 2,
   "metadata": {},
   "outputs": [
    {
     "data": {
      "text/plain": [
       "['./data/designs/1-90.obj',\n",
       " './data/designs/8-360.obj',\n",
       " './data/designs/9-360.obj',\n",
       " './data/designs/3-90.obj',\n",
       " './data/designs/10-360.obj',\n",
       " './data/designs/7-180.obj',\n",
       " './data/designs/5-90.obj',\n",
       " './data/designs/6-360.obj',\n",
       " './data/designs/2-90.obj',\n",
       " './data/designs/4-90.obj']"
      ]
     },
     "execution_count": 2,
     "metadata": {},
     "output_type": "execute_result"
    }
   ],
   "source": [
    "from os import listdir\n",
    "import os\n",
    "\n",
    "\n",
    "design_file_names = listdir(DESIGNS_DIR)\n",
    "design_paths = list(map(lambda f: os.path.join(DESIGNS_DIR, f), design_file_names))\n",
    "design_paths"
   ]
  },
  {
   "cell_type": "code",
   "execution_count": 3,
   "metadata": {},
   "outputs": [
    {
     "data": {
      "text/plain": [
       "[90.0, 360.0, 360.0, 90.0, 360.0, 180.0, 90.0, 360.0, 90.0, 90.0]"
      ]
     },
     "execution_count": 3,
     "metadata": {},
     "output_type": "execute_result"
    }
   ],
   "source": [
    "max_rotations = list(map(lambda f: float(f.split(\"-\")[1].replace(\".obj\", \"\")), design_file_names))\n",
    "max_rotations"
   ]
  },
  {
   "cell_type": "code",
   "execution_count": 4,
   "metadata": {},
   "outputs": [],
   "source": [
    "from random import uniform\n",
    "\n",
    "\n",
    "def random(max: float) -> float:\n",
    "    return uniform(0, max)"
   ]
  },
  {
   "cell_type": "code",
   "execution_count": 5,
   "metadata": {},
   "outputs": [],
   "source": [
    "from functools import partial\n",
    "from itertools import repeat\n",
    "\n",
    "\n",
    "max_rotation_repeats = map(lambda f: [f]*10, max_rotations)\n",
    "rotationss = map(lambda rs: list(map(random, rs)), max_rotation_repeats)\n"
   ]
  },
  {
   "cell_type": "code",
   "execution_count": 6,
   "metadata": {},
   "outputs": [],
   "source": [
    "wind_dir_maxss =  map(lambda a: [a] * 36, [360] * 10)\n",
    "wind_dirss = map(lambda ms: list(map(lambda m: random(m), ms)), wind_dir_maxss)\n",
    "# list(wind_dirss)\n"
   ]
  },
  {
   "cell_type": "code",
   "execution_count": 7,
   "metadata": {},
   "outputs": [],
   "source": [
    "ziped = list(zip(design_paths, rotationss, wind_dirss))"
   ]
  },
  {
   "cell_type": "code",
   "execution_count": 8,
   "metadata": {},
   "outputs": [],
   "source": [
    "from itertools import product\n",
    "\n",
    "\n",
    "combs =map(lambda t: list(product([t[0]], t[1], t[2])), ziped)"
   ]
  },
  {
   "cell_type": "code",
   "execution_count": 9,
   "metadata": {},
   "outputs": [],
   "source": [
    "# list(combs)"
   ]
  },
  {
   "cell_type": "code",
   "execution_count": 10,
   "metadata": {},
   "outputs": [],
   "source": [
    "from more_itertools import flatten\n",
    "\n",
    "\n",
    "side_effects = flatten(combs)\n",
    "# len(list(args))"
   ]
  },
  {
   "cell_type": "code",
   "execution_count": 11,
   "metadata": {},
   "outputs": [],
   "source": [
    "def get_output_path(in_path:str, rel_rot: float, wind_rot: float) -> str:\n",
    "    return in_path.replace(\".obj\", f\"-{rel_rot}-{wind_rot}.stl\").replace(\"./data/designs/\", \"./data/outputs/meshes/\")\n",
    "\n",
    "arg_with_outpaths = map(lambda t: (t[0], get_output_path(t[0], t[1], t[2]), t[1], t[2]), side_effects)\n",
    "# list(arg_with_outpaths)"
   ]
  },
  {
   "cell_type": "code",
   "execution_count": 12,
   "metadata": {},
   "outputs": [],
   "source": [
    "from itertools import islice\n",
    "from more_itertools import consume, side_effect\n",
    "\n",
    "from openfoam.mesh import BoundingBox, prepare_mesh, read_mesh\n",
    "\n",
    "from cProfile import Profile\n",
    "\n",
    "background =  read_mesh(BACKGROUND_PATH)\n",
    "b_box = [-1e3, 1e3, 1e-2, 1e3, -1e3, 1e3]\n",
    "\n",
    "# side_effects = side_effect(lambda t: prepare_mesh(t[0], t[1], background, t[2], t[3], b_box), islice(arg_with_outpaths, 10))\n",
    "# profiler = Profile()\n",
    "# profiler.run(\"consume(side_effects)\")\n",
    "\n",
    "\n",
    "# Heavy computation\n",
    "# consume(side_effect(lambda t: prepare_mesh(t[0], t[1], background, t[2], t[3], b_box), arg_with_outpaths))"
   ]
  },
  {
   "cell_type": "code",
   "execution_count": 13,
   "metadata": {},
   "outputs": [],
   "source": [
    "# from pstats import Stats\n",
    "\n",
    "\n",
    "# stats = Stats(profiler)\n",
    "# stats.strip_dirs() \n",
    "# stats.sort_stats('cumulative')\n",
    "# stats.print_stats()\n"
   ]
  },
  {
   "cell_type": "code",
   "execution_count": null,
   "metadata": {},
   "outputs": [],
   "source": []
  },
  {
   "cell_type": "code",
   "execution_count": null,
   "metadata": {},
   "outputs": [],
   "source": []
  }
 ],
 "metadata": {
  "kernelspec": {
   "display_name": "venv",
   "language": "python",
   "name": "python3"
  },
  "language_info": {
   "codemirror_mode": {
    "name": "ipython",
    "version": 3
   },
   "file_extension": ".py",
   "mimetype": "text/x-python",
   "name": "python",
   "nbconvert_exporter": "python",
   "pygments_lexer": "ipython3",
   "version": "3.11.3"
  },
  "orig_nbformat": 4
 },
 "nbformat": 4,
 "nbformat_minor": 2
}
