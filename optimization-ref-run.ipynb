{
 "cells": [
  {
   "cell_type": "code",
   "execution_count": 7,
   "metadata": {},
   "outputs": [
    {
     "name": "stdout",
     "output_type": "stream",
     "text": [
      "Config(open_foam_img='gerlero/openfoam-default', local_volum_path='/Users/chanwooahn/openfoam/', container_mount_path='/home/openfoam/', rel_case_path='OpenFOAM/openfoam-2212/run/refCase/', script_file_name='run.sh', log_file_name='log', local_case_dir_path='/Users/chanwooahn/openfoam/OpenFOAM/openfoam-2212/run/refCase/', container_case_dir_path='/home/openfoam/OpenFOAM/openfoam-2212/run/refCase/', local_script_file_path='/Users/chanwooahn/openfoam/OpenFOAM/openfoam-2212/run/refCase/run.sh', container_script_file_path='/home/openfoam/OpenFOAM/openfoam-2212/run/refCase/run.sh', local_log_file_path='/Users/chanwooahn/openfoam/OpenFOAM/openfoam-2212/run/refCase/log', container_log_file_path='/home/openfoam/OpenFOAM/openfoam-2212/run/refCase/log', num_proc=10)\n"
     ]
    }
   ],
   "source": [
    "from openfoam.core import configure, time_process\n",
    "\n",
    "# OPENFOAM_IMG = \"opencfd/openfoam-default\"\n",
    "# LOCAL_VOL_PATH = \"/home/ubuntu/openfoam/\"\n",
    "# CONTAINER_MNT_PATH = \"/home/sudofoam/\"\n",
    "# REL_CASE_PATH = \"OpenFOAM/openfoam-v2212/run/testCase/\"\n",
    "# SCRIPT_FILE_NAME = \"run.sh\"\n",
    "# LOG_FILE_NAME = \"log\"\n",
    "\n",
    "OPENFOAM_IMG = \"gerlero/openfoam-default\"\n",
    "LOCAL_VOL_PATH = \"/Users/chanwooahn/openfoam/\"\n",
    "CONTAINER_MNT_PATH = \"/home/openfoam/\"\n",
    "REL_CASE_PATH = \"OpenFOAM/openfoam-2212/run/refCase/\"\n",
    "SCRIPT_FILE_NAME = \"run.sh\"\n",
    "LOG_FILE_NAME = \"log\"\n",
    "\n",
    "\n",
    "c = configure(\n",
    "    OPENFOAM_IMG,\n",
    "    LOCAL_VOL_PATH,\n",
    "    CONTAINER_MNT_PATH,\n",
    "    REL_CASE_PATH,\n",
    "    SCRIPT_FILE_NAME,\n",
    "    LOG_FILE_NAME,\n",
    ")\n",
    "\n",
    "# * Need rel shape file\n",
    "\n",
    "print(c)"
   ]
  },
  {
   "cell_type": "code",
   "execution_count": 9,
   "metadata": {},
   "outputs": [
    {
     "ename": "NameError",
     "evalue": "name 'res' is not defined",
     "output_type": "error",
     "traceback": [
      "\u001b[0;31m---------------------------------------------------------------------------\u001b[0m",
      "\u001b[0;31mNameError\u001b[0m                                 Traceback (most recent call last)",
      "Cell \u001b[0;32mIn[9], line 19\u001b[0m\n\u001b[1;32m      1\u001b[0m \u001b[39mfrom\u001b[39;00m \u001b[39mopenfoam\u001b[39;00m\u001b[39m.\u001b[39;00m\u001b[39mcore\u001b[39;00m \u001b[39mimport\u001b[39;00m run_case\n\u001b[1;32m      3\u001b[0m entries \u001b[39m=\u001b[39m [\n\u001b[1;32m      4\u001b[0m     (\u001b[39m\"\u001b[39m\u001b[39m0/U\u001b[39m\u001b[39m\"\u001b[39m, [\u001b[39m\"\u001b[39m\u001b[39mUinlet\u001b[39m\u001b[39m\"\u001b[39m], \u001b[39m\"\u001b[39m\u001b[39m(10 0 0)\u001b[39m\u001b[39m\"\u001b[39m),\n\u001b[1;32m      5\u001b[0m     (\u001b[39m\"\u001b[39m\u001b[39msystem/meshDict\u001b[39m\u001b[39m\"\u001b[39m, [\u001b[39m\"\u001b[39m\u001b[39msurfaceFile\u001b[39m\u001b[39m\"\u001b[39m], \u001b[39m10\u001b[39m),\n\u001b[0;32m   (...)\u001b[0m\n\u001b[1;32m     16\u001b[0m     (\u001b[39m\"\u001b[39m\u001b[39msystem/decomposeParDict\u001b[39m\u001b[39m\"\u001b[39m, [\u001b[39m\"\u001b[39m\u001b[39mnumberOfSubdomains\u001b[39m\u001b[39m\"\u001b[39m], c\u001b[39m.\u001b[39mnum_proc),\n\u001b[1;32m     17\u001b[0m ]\n\u001b[0;32m---> 19\u001b[0m run_case(c, entries, \u001b[39m100\u001b[39;49m)\n",
      "File \u001b[0;32m~/Documents/college/applied-fluid-dynamics-lee-junsang/python/openfoam/core.py:219\u001b[0m, in \u001b[0;36mrun_case\u001b[0;34m(c, entries, timeout_s)\u001b[0m\n\u001b[1;32m    215\u001b[0m set_case(c, entries)\n\u001b[1;32m    217\u001b[0m \u001b[39m# res = run_all(c, timeout_s)\u001b[39;00m\n\u001b[0;32m--> 219\u001b[0m \u001b[39mif\u001b[39;00m res \u001b[39m!=\u001b[39m \u001b[39mNone\u001b[39;00m:\n\u001b[1;32m    220\u001b[0m     \u001b[39mreturn\u001b[39;00m (c\u001b[39m.\u001b[39mlocal_case_dir_path, res)\n\u001b[1;32m    221\u001b[0m \u001b[39melse\u001b[39;00m:\n",
      "\u001b[0;31mNameError\u001b[0m: name 'res' is not defined"
     ]
    }
   ],
   "source": [
    "from openfoam.core import run_case\n",
    "\n",
    "entries = [\n",
    "    (\"0/U\", [\"Uinlet\"], \"(10 0 0)\"),\n",
    "    (\"system/meshDict\", [\"surfaceFile\"], 10),\n",
    "    (\"system/meshDict\", [\"maxCellSize\"], 10),\n",
    "    (\"system/meshDict\", [\"boundaryCellSize\"], 0.5),\n",
    "    (\"system/meshDict\", [\"localRefinement\", \"object.*\", \"cellSize\"], 0.2),\n",
    "    (\"system/meshDict\", [\"boundaryLayers\", \"patchBoundaryLayers\", \"object.*\", \"nLayers\"], 10),\n",
    "    (\"system/meshDict\", [\"boundaryLayers\", \"patchBoundaryLayers\", \"object.*\", \"thicknessRatio\"], 1.2),\n",
    "    (\"system/meshDict\", [\"boundaryCellSize\"], 0.5),\n",
    "    (\"system/meshDict\", [\"boundaryCellSize\"], 0.5),\n",
    "    (\"system/fvSolution\", [\"SIMPLE\", \"residualControl\", \"p\"], 1e-4),\n",
    "    (\"system/fvSolution\", [\"SIMPLE\", \"residualControl\", \"U\"], 1e-4),\n",
    "    (\"system/fvSolution\", [\"SIMPLE\", \"residualControl\", \"(k|omega|epsilon)\"], 1e-4),\n",
    "    (\"system/decomposeParDict\", [\"numberOfSubdomains\"], c.num_proc),\n",
    "]\n",
    "\n",
    "run_case(c, entries, 100)"
   ]
  },
  {
   "cell_type": "code",
   "execution_count": null,
   "metadata": {},
   "outputs": [],
   "source": []
  }
 ],
 "metadata": {
  "kernelspec": {
   "display_name": "venv",
   "language": "python",
   "name": "python3"
  },
  "language_info": {
   "codemirror_mode": {
    "name": "ipython",
    "version": 3
   },
   "file_extension": ".py",
   "mimetype": "text/x-python",
   "name": "python",
   "nbconvert_exporter": "python",
   "pygments_lexer": "ipython3",
   "version": "3.11.3"
  },
  "orig_nbformat": 4
 },
 "nbformat": 4,
 "nbformat_minor": 2
}
