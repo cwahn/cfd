{
 "cells": [
  {
   "cell_type": "code",
   "execution_count": 1,
   "metadata": {},
   "outputs": [
    {
     "name": "stdout",
     "output_type": "stream",
     "text": [
      "All patch names: ['internalMesh', 'patch/inlet', 'patch/outlet', 'patch/ground', 'patch/object', 'patch/fixedWalls']\n",
      "All patch status: {'internalMesh': True, 'patch/inlet': True, 'patch/outlet': True, 'patch/ground': True, 'patch/object': True, 'patch/fixedWalls': True}\n",
      "Available Time Values: [0.0, 41.0]\n"
     ]
    }
   ],
   "source": [
    "from pyvista import OpenFOAMReader\n",
    "\n",
    "\n",
    "ref_file_path = \"/home/ubuntu/openfoam/OpenFOAM/openfoam-v2212/run/refCaseSolved3/open.foam\"\n",
    "\n",
    "reader = OpenFOAMReader(ref_file_path)\n",
    "print(f\"All patch names: {reader.patch_array_names}\")\n",
    "print(f\"All patch status: {reader.all_patch_arrays_status}\")\n",
    "print(f\"Available Time Values: {reader.time_values}\")"
   ]
  },
  {
   "cell_type": "code",
   "execution_count": 2,
   "metadata": {},
   "outputs": [
    {
     "name": "stdout",
     "output_type": "stream",
     "text": [
      "Mesh patches: ['internalMesh', 'boundary']\n"
     ]
    }
   ],
   "source": [
    "reader.set_active_time_value(41)\n",
    "mesh = reader.read()\n",
    "print(f\"Mesh patches: {mesh.keys()}\")"
   ]
  },
  {
   "cell_type": "code",
   "execution_count": 3,
   "metadata": {},
   "outputs": [
    {
     "name": "stdout",
     "output_type": "stream",
     "text": [
      "UnstructuredGrid (0x7f6cf7b3a140)\n",
      "  N Cells:    1287059\n",
      "  N Points:   1461370\n",
      "  X Bounds:   -5.000e+02, 5.000e+02\n",
      "  Y Bounds:   -4.211e-01, 5.000e+02\n",
      "  Z Bounds:   -5.000e+02, 5.000e+02\n",
      "  N Arrays:   10\n"
     ]
    }
   ],
   "source": [
    "internal_mesh = mesh[\"internalMesh\"]\n",
    "print(internal_mesh)"
   ]
  },
  {
   "cell_type": "code",
   "execution_count": 4,
   "metadata": {},
   "outputs": [
    {
     "data": {
      "text/html": [
       "<table><tr><th>Header</th><th>Data Arrays</th></tr><tr><td>\n",
       "<table>\n",
       "<tr><th>StructuredGrid</th><th>Information</th></tr>\n",
       "<tr><td>N Cells</td><td>8258175</td></tr>\n",
       "<tr><td>N Points</td><td>8388608</td></tr>\n",
       "<tr><td>X Bounds</td><td>-4.972e+02, 4.972e+02</td></tr>\n",
       "<tr><td>Y Bounds</td><td>1.950e+00, 4.972e+02</td></tr>\n",
       "<tr><td>Z Bounds</td><td>-4.972e+02, 4.972e+02</td></tr>\n",
       "<tr><td>Dimensions</td><td>128, 256, 256</td></tr>\n",
       "<tr><td>N Arrays</td><td>5</td></tr>\n",
       "</table>\n",
       "\n",
       "</td><td>\n",
       "<table>\n",
       "<tr><th>Name</th><th>Field</th><th>Type</th><th>N Comp</th><th>Min</th><th>Max</th></tr>\n",
       "<tr><td>U</td><td>Points</td><td>float32</td><td>3</td><td>-1.584e+01</td><td>1.982e+01</td></tr>\n",
       "<tr><td>epsilon</td><td>Points</td><td>float32</td><td>1</td><td>0.000e+00</td><td>2.184e+02</td></tr>\n",
       "<tr><td>k</td><td>Points</td><td>float32</td><td>1</td><td>0.000e+00</td><td>2.846e+01</td></tr>\n",
       "<tr><td>nut</td><td>Points</td><td>float32</td><td>1</td><td>0.000e+00</td><td>2.815e+01</td></tr>\n",
       "<tr><td><b>p</b></td><td>Points</td><td>float32</td><td>1</td><td>-2.114e+02</td><td>1.726e+02</td></tr>\n",
       "</table>\n",
       "\n",
       "</td></tr> </table>"
      ],
      "text/plain": [
       "StructuredGrid (0x7f6c3ee75c00)\n",
       "  N Cells:      8258175\n",
       "  N Points:     8388608\n",
       "  X Bounds:     -4.972e+02, 4.972e+02\n",
       "  Y Bounds:     1.950e+00, 4.972e+02\n",
       "  Z Bounds:     -4.972e+02, 4.972e+02\n",
       "  Dimensions:   128, 256, 256\n",
       "  N Arrays:     5"
      ]
     },
     "execution_count": 4,
     "metadata": {},
     "output_type": "execute_result"
    }
   ],
   "source": [
    "from openfoam.post import spatial_sample_case, spatial_sample_case_even\n",
    "\n",
    "\n",
    "b_box = [-500, 500, 1e-2, 500, -500, 500]\n",
    "\n",
    "sampled = spatial_sample_case_even(ref_file_path, b_box, 3.9)\n",
    "sampled"
   ]
  },
  {
   "cell_type": "code",
   "execution_count": null,
   "metadata": {},
   "outputs": [],
   "source": []
  },
  {
   "cell_type": "code",
   "execution_count": null,
   "metadata": {},
   "outputs": [],
   "source": []
  }
 ],
 "metadata": {
  "kernelspec": {
   "display_name": "venv",
   "language": "python",
   "name": "python3"
  },
  "language_info": {
   "codemirror_mode": {
    "name": "ipython",
    "version": 3
   },
   "file_extension": ".py",
   "mimetype": "text/x-python",
   "name": "python",
   "nbconvert_exporter": "python",
   "pygments_lexer": "ipython3",
   "version": "3.11.3"
  },
  "orig_nbformat": 4
 },
 "nbformat": 4,
 "nbformat_minor": 2
}
