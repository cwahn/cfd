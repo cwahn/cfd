{
 "cells": [
  {
   "cell_type": "code",
   "execution_count": 1,
   "metadata": {},
   "outputs": [
    {
     "name": "stdout",
     "output_type": "stream",
     "text": [
      "Config(open_foam_img='opencfd/openfoam-default', local_volum_path='/home/ubuntu/openfoam/', container_mount_path='/home/sudofoam/', rel_case_path='OpenFOAM/openfoam-v2212/run/refCase/', script_file_name='run.sh', log_file_name='log', local_case_dir_path='/home/ubuntu/openfoam/OpenFOAM/openfoam-v2212/run/refCase/', container_case_dir_path='/home/sudofoam/OpenFOAM/openfoam-v2212/run/refCase/', local_script_file_path='/home/ubuntu/openfoam/OpenFOAM/openfoam-v2212/run/refCase/run.sh', container_script_file_path='/home/sudofoam/OpenFOAM/openfoam-v2212/run/refCase/run.sh', local_log_file_path='/home/ubuntu/openfoam/OpenFOAM/openfoam-v2212/run/refCase/log', container_log_file_path='/home/sudofoam/OpenFOAM/openfoam-v2212/run/refCase/log', num_proc=96)\n"
     ]
    }
   ],
   "source": [
    "from openfoam.core import configure, time_process\n",
    "\n",
    "OPENFOAM_IMG = \"opencfd/openfoam-default\"\n",
    "LOCAL_VOL_PATH = \"/home/ubuntu/openfoam/\"\n",
    "CONTAINER_MNT_PATH = \"/home/sudofoam/\"\n",
    "REL_CASE_PATH = \"OpenFOAM/openfoam-v2212/run/refCase/\"\n",
    "SCRIPT_FILE_NAME = \"run.sh\"\n",
    "LOG_FILE_NAME = \"log\"\n",
    "\n",
    "# OPENFOAM_IMG = \"gerlero/openfoam-default\"\n",
    "# LOCAL_VOL_PATH = \"/Users/chanwooahn/openfoam/\"\n",
    "# CONTAINER_MNT_PATH = \"/home/openfoam/\"\n",
    "# REL_CASE_PATH = \"OpenFOAM/openfoam-2212/run/refCase/\"\n",
    "# SCRIPT_FILE_NAME = \"run.sh\"\n",
    "# LOG_FILE_NAME = \"log\"\n",
    "\n",
    "\n",
    "c = configure(\n",
    "    OPENFOAM_IMG,\n",
    "    LOCAL_VOL_PATH,\n",
    "    CONTAINER_MNT_PATH,\n",
    "    REL_CASE_PATH,\n",
    "    SCRIPT_FILE_NAME,\n",
    "    LOG_FILE_NAME,\n",
    ")\n",
    "\n",
    "# * Need rel shape file\n",
    "\n",
    "print(c)"
   ]
  },
  {
   "cell_type": "code",
   "execution_count": 2,
   "metadata": {},
   "outputs": [
    {
     "name": "stdout",
     "output_type": "stream",
     "text": [
      "cmd:  docker run --rm -u 1000 --volume=/home/ubuntu/openfoam/:/home/sudofoam/ opencfd/openfoam-default timeout 300 bash -lc \"/home/sudofoam/OpenFOAM/openfoam-v2212/run/refCase/run.sh\"\n",
      "/home/sudofoam/OpenFOAM/openfoam-v2212/run/refCase\n",
      "Retcode:  0\n",
      "Time:  49.55630850791931\n"
     ]
    },
    {
     "data": {
      "text/plain": [
       "('/home/ubuntu/openfoam/OpenFOAM/openfoam-v2212/run/refCase/',\n",
       " 49.55630850791931)"
      ]
     },
     "execution_count": 2,
     "metadata": {},
     "output_type": "execute_result"
    }
   ],
   "source": [
    "from openfoam.core import run_case\n",
    "\n",
    "entries = [\n",
    "    (\"0/U\", [\"Uinlet\"], \"(10 0 0)\"),\n",
    "    (\"system/meshDict\", [\"surfaceFile\"], \"constant/triSurface/background3.stl\"),\n",
    "    (\"system/meshDict\", [\"maxCellSize\"], 100),\n",
    "    (\"system/meshDict\", [\"boundaryCellSize\"], 50),\n",
    "    (\"system/meshDict\", [\"localRefinement\", \"object.*\", \"cellSize\"], 4),\n",
    "    (\"system/meshDict\", [\"boundaryLayers\", \"patchBoundaryLayers\", \"object.*\", \"nLayers\"], 5),\n",
    "    (\"system/meshDict\", [\"boundaryLayers\", \"patchBoundaryLayers\", \"object.*\", \"thicknessRatio\"], 1.2),\n",
    "    (\"system/fvSolution\", [\"SIMPLE\", \"residualControl\", \"p\"], 1e-1),\n",
    "    (\"system/fvSolution\", [\"SIMPLE\", \"residualControl\", \"U\"], 1e-2),\n",
    "    (\"system/fvSolution\", [\"SIMPLE\", \"residualControl\", \"k\"], 1e-2),\n",
    "    (\"system/fvSolution\", [\"SIMPLE\", \"residualControl\", \"omega\"], 1e-2),\n",
    "    (\"system/fvSolution\", [\"SIMPLE\", \"residualControl\", \"epsilon\"], 1e-2),\n",
    "    (\"system/decomposeParDict\", [\"numberOfSubdomains\"], c.num_proc),\n",
    "]\n",
    "\n",
    "run_case(c, entries, 300)"
   ]
  },
  {
   "cell_type": "code",
   "execution_count": null,
   "metadata": {},
   "outputs": [],
   "source": []
  }
 ],
 "metadata": {
  "kernelspec": {
   "display_name": "venv",
   "language": "python",
   "name": "python3"
  },
  "language_info": {
   "codemirror_mode": {
    "name": "ipython",
    "version": 3
   },
   "file_extension": ".py",
   "mimetype": "text/x-python",
   "name": "python",
   "nbconvert_exporter": "python",
   "pygments_lexer": "ipython3",
   "version": "3.11.4"
  },
  "orig_nbformat": 4
 },
 "nbformat": 4,
 "nbformat_minor": 2
}
