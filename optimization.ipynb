{
 "cells": [
  {
   "cell_type": "code",
   "execution_count": 7,
   "metadata": {},
   "outputs": [],
   "source": [
    "from openfoam.post import spatial_sample_case_even\n",
    "\n",
    "ref_file_path = \"/home/ubuntu/openfoam/OpenFOAM/openfoam-v2212/run/refCaseSolved3/open.foam\"\n",
    "# ref_file_path = \"/Users/chanwooahn/openfoam/OpenFOAM/openfoam-2212/run/refCaseSolved3/open.foam\"\n",
    "\n",
    "b_box = [-500, 500, 1e-2, 500, -500, 500]\n",
    "\n",
    "grid_size = 3.9\n",
    "\n",
    "sampled_ref = spatial_sample_case_even(ref_file_path, b_box, 3.9)"
   ]
  },
  {
   "cell_type": "code",
   "execution_count": 8,
   "metadata": {},
   "outputs": [
    {
     "name": "stdout",
     "output_type": "stream",
     "text": [
      "Config(open_foam_img='opencfd/openfoam-default', local_volum_path='/home/ubuntu/openfoam/', container_mount_path='/home/sudofoam/', rel_case_path='OpenFOAM/openfoam-v2212/run/optCase/', script_file_name='run.sh', log_file_name='log', local_case_dir_path='/home/ubuntu/openfoam/OpenFOAM/openfoam-v2212/run/optCase/', container_case_dir_path='/home/sudofoam/OpenFOAM/openfoam-v2212/run/optCase/', local_script_file_path='/home/ubuntu/openfoam/OpenFOAM/openfoam-v2212/run/optCase/run.sh', container_script_file_path='/home/sudofoam/OpenFOAM/openfoam-v2212/run/optCase/run.sh', local_log_file_path='/home/ubuntu/openfoam/OpenFOAM/openfoam-v2212/run/optCase/log', container_log_file_path='/home/sudofoam/OpenFOAM/openfoam-v2212/run/optCase/log', num_proc=96)\n"
     ]
    }
   ],
   "source": [
    "OPENFOAM_IMG = \"opencfd/openfoam-default\"\n",
    "LOCAL_VOL_PATH = \"/home/ubuntu/openfoam/\"\n",
    "CONTAINER_MNT_PATH = \"/home/sudofoam/\"\n",
    "REL_CASE_PATH = \"OpenFOAM/openfoam-v2212/run/optCase/\"\n",
    "SCRIPT_FILE_NAME = \"run.sh\"\n",
    "LOG_FILE_NAME = \"log\"\n",
    "\n",
    "from openfoam.core import configure\n",
    "\n",
    "\n",
    "# OPENFOAM_IMG = \"gerlero/openfoam-default\"\n",
    "# LOCAL_VOL_PATH = \"/Users/chanwooahn/openfoam/\"\n",
    "# CONTAINER_MNT_PATH = \"/home/openfoam/\"\n",
    "# REL_CASE_PATH = \"OpenFOAM/openfoam-2212/run/optCase/\"\n",
    "# SCRIPT_FILE_NAME = \"run.sh\"\n",
    "# LOG_FILE_NAME = \"log\"\n",
    "\n",
    "\n",
    "c = configure(\n",
    "    OPENFOAM_IMG,\n",
    "    LOCAL_VOL_PATH,\n",
    "    CONTAINER_MNT_PATH,\n",
    "    REL_CASE_PATH,\n",
    "    SCRIPT_FILE_NAME,\n",
    "    LOG_FILE_NAME,\n",
    ")\n",
    "\n",
    "# * Need rel shape file\n",
    "\n",
    "print(c)"
   ]
  },
  {
   "cell_type": "code",
   "execution_count": 9,
   "metadata": {},
   "outputs": [],
   "source": [
    "# maxCellSize, boundaryCellSize, localRefCellSize, residualP, residualOthers\n",
    "\n",
    "from copy import deepcopy\n",
    "from math import isnan, sqrt\n",
    "from os import path\n",
    "from typing import List\n",
    "from openfoam.core import run_case\n",
    "\n",
    "from openfoam.optimizer import T, last\n",
    "from openfoam.post import rms_of_sampled\n",
    "\n",
    "FLOAT_MACHINE_EPSILON = 2.22e-16\n",
    "FLOAT_EPSILON = sqrt(FLOAT_MACHINE_EPSILON)\n",
    "\n",
    "class FloatAdam(T):\n",
    "    def __init__(\n",
    "            self, inner: float, \n",
    "            alpha: float, \n",
    "            beta1: float = 0.9, \n",
    "            beta2: float=0.99\n",
    "            ) -> None:\n",
    "        \n",
    "        super().__init__()\n",
    "        self.inner = inner\n",
    "        self.alpha = alpha\n",
    "        self.beta1 = beta1\n",
    "        self.beta2 = beta2\n",
    "        self.m1 = 0.\n",
    "        self.m2 = 0.\n",
    "\n",
    "    def succ(self) -> \"FloatAdam\":\n",
    "        new = deepcopy(self)\n",
    "        new.inner = self.inner + FLOAT_EPSILON\n",
    "        return new\n",
    "\n",
    "    def partial_diff(self, y: float, succ_y: float) -> float:\n",
    "        pd = (succ_y - y)/FLOAT_EPSILON\n",
    "        return pd\n",
    "    \n",
    "    def update(self, pds: List[float]) -> T:\n",
    "        pd = last(pds)\n",
    "        m1_ = self.beta1 * self.m1 + (1-self.beta1) * pd\n",
    "        m2_ = self.beta2 * self.m2 + (1-self.beta2) * (pd**2)\n",
    "        inner_ = self.inner - self.alpha * (m1_ / sqrt(m2_ + FLOAT_EPSILON))\n",
    "\n",
    "        new = deepcopy(self)\n",
    "        new.m1 = m1_\n",
    "        new.m2 = m2_\n",
    "        new.inner = inner_\n",
    "\n",
    "        return new\n",
    "\n",
    "    def __repr__(self):\n",
    "        return f\"Float<inner: {self.inner}>\"\n",
    "\n",
    "\n",
    "def opt_run(ts: List[T]) -> float:\n",
    "    maxCellSize, boundaryCellSize, localRefCellSize, residualP, residualOthers = tuple(ts)\n",
    "\n",
    "    entries = [\n",
    "        (\"0/U\", [\"Uinlet\"], \"(10 0 0)\"),\n",
    "        (\"system/meshDict\", [\"surfaceFile\"], \"constant/triSurface/background3.stl\"),\n",
    "        (\"system/meshDict\", [\"maxCellSize\"], maxCellSize.inner),\n",
    "        (\"system/meshDict\", [\"boundaryCellSize\"], boundaryCellSize.inner),\n",
    "        (\"system/meshDict\", [\"localRefinement\", \"object.*\", \"cellSize\"], localRefCellSize.inner),\n",
    "        (\"system/meshDict\", [\"boundaryLayers\", \"patchBoundaryLayers\", \"object.*\", \"nLayers\"], 5),\n",
    "        (\"system/meshDict\", [\"boundaryLayers\", \"patchBoundaryLayers\", \"object.*\", \"thicknessRatio\"], 1.2),\n",
    "        (\"system/fvSolution\", [\"SIMPLE\", \"residualControl\", \"p\"], residualP.inner),\n",
    "        (\"system/fvSolution\", [\"SIMPLE\", \"residualControl\", \"U\"], residualOthers.inner),\n",
    "        (\"system/fvSolution\", [\"SIMPLE\", \"residualControl\", \"k\"], residualOthers.inner),\n",
    "        (\"system/fvSolution\", [\"SIMPLE\", \"residualControl\", \"omega\"], residualOthers.inner),\n",
    "        (\"system/fvSolution\", [\"SIMPLE\", \"residualControl\", \"epsilon\"], residualOthers.inner),\n",
    "        (\"system/decomposeParDict\", [\"numberOfSubdomains\"], c.num_proc),\n",
    "    ]\n",
    "\n",
    "    res = run_case(c, entries, 120)\n",
    "\n",
    "    if res == None:\n",
    "        return 120 * 1\n",
    "    \n",
    "    _, time = res\n",
    "    foam_file_path = path.join(c.local_case_dir_path, \"open.foam\")\n",
    "    sampled = spatial_sample_case_even(foam_file_path, b_box, grid_size)\n",
    "    error = rms_of_sampled(sampled, sampled_ref)\n",
    "    loss = time * error\n",
    "\n",
    "    print(\"Theta: \", ts)\n",
    "    print(f\"Error: {error}, Time: {time}, loss: {loss}\")\n",
    "\n",
    "    return time * error\n",
    "\n"
   ]
  },
  {
   "cell_type": "code",
   "execution_count": 10,
   "metadata": {},
   "outputs": [],
   "source": [
    "from openfoam.graph import to_csv\n",
    "\n",
    "\n",
    "def stop_if_small_y(_thetas, ys, _pdss) -> bool:\n",
    "    return last(ys) < 0.01\n",
    "\n",
    "def keep_go(_thetas, _ys, _pdss) -> bool:\n",
    "    return False\n",
    "\n",
    "# def log_by_print(i, ts, y, pds):\n",
    "#     print(\"Interation: \", i)\n",
    "#     print(\"Theta: \", ts)\n",
    "#     print(\"y: \", y)\n",
    "#     print(\"pds: \",pds, \"\\n\")\n",
    "\n",
    "logger = to_csv(\n",
    "    \"./optimize.csv\", \n",
    "    [\n",
    "        \"maxCellSize\", \n",
    "        \"boundaryCellSize\", \n",
    "        \"localRefCellSize\", \n",
    "        \"residualP\", \n",
    "        \"residualOthers\", \n",
    "        \"y\", \n",
    "        \"maxCellSizeD\", \n",
    "        \"boundaryCellSizeD\", \n",
    "        \"localRefCellSizeD\", \n",
    "        \"residualPD\", \n",
    "        \"residualOthersD\"\n",
    "    ])\n"
   ]
  },
  {
   "cell_type": "code",
   "execution_count": 11,
   "metadata": {},
   "outputs": [
    {
     "name": "stderr",
     "output_type": "stream",
     "text": [
      "bash: line 1: ./run.sh: No such file or directory\n"
     ]
    },
    {
     "name": "stdout",
     "output_type": "stream",
     "text": [
      "Retcode:  127\n",
      "Time:  0.7823121547698975\n"
     ]
    },
    {
     "name": "stderr",
     "output_type": "stream",
     "text": [
      "bash: line 1: ./run.sh: No such file or directory\n"
     ]
    },
    {
     "name": "stdout",
     "output_type": "stream",
     "text": [
      "Retcode:  127\n",
      "Time:  0.7457106113433838\n"
     ]
    },
    {
     "name": "stderr",
     "output_type": "stream",
     "text": [
      "bash: line 1: ./run.sh: No such file or directory\n"
     ]
    },
    {
     "name": "stdout",
     "output_type": "stream",
     "text": [
      "Retcode:  127\n",
      "Time:  0.706310510635376\n"
     ]
    },
    {
     "name": "stderr",
     "output_type": "stream",
     "text": [
      "bash: line 1: ./run.sh: No such file or directory\n"
     ]
    },
    {
     "name": "stdout",
     "output_type": "stream",
     "text": [
      "Retcode:  127\n",
      "Time:  0.6964001655578613\n"
     ]
    },
    {
     "name": "stderr",
     "output_type": "stream",
     "text": [
      "bash: line 1: ./run.sh: No such file or directory\n"
     ]
    },
    {
     "name": "stdout",
     "output_type": "stream",
     "text": [
      "Retcode:  127\n",
      "Time:  0.6962614059448242\n"
     ]
    },
    {
     "name": "stderr",
     "output_type": "stream",
     "text": [
      "bash: line 1: ./run.sh: No such file or directory\n"
     ]
    },
    {
     "name": "stdout",
     "output_type": "stream",
     "text": [
      "Retcode:  127\n",
      "Time:  0.6837031841278076\n"
     ]
    },
    {
     "name": "stderr",
     "output_type": "stream",
     "text": [
      "bash: line 1: ./run.sh: No such file or directory\n"
     ]
    },
    {
     "name": "stdout",
     "output_type": "stream",
     "text": [
      "Retcode:  127\n",
      "Time:  0.6979007720947266\n"
     ]
    },
    {
     "name": "stderr",
     "output_type": "stream",
     "text": [
      "bash: line 1: ./run.sh: No such file or directory\n"
     ]
    },
    {
     "name": "stdout",
     "output_type": "stream",
     "text": [
      "Retcode:  127\n",
      "Time:  0.7350187301635742\n"
     ]
    },
    {
     "name": "stderr",
     "output_type": "stream",
     "text": [
      "bash: line 1: ./run.sh: No such file or directory\n"
     ]
    },
    {
     "name": "stdout",
     "output_type": "stream",
     "text": [
      "Retcode:  127\n",
      "Time:  0.6914358139038086\n"
     ]
    },
    {
     "name": "stderr",
     "output_type": "stream",
     "text": [
      "bash: line 1: ./run.sh: No such file or directory\n"
     ]
    },
    {
     "name": "stdout",
     "output_type": "stream",
     "text": [
      "Retcode:  127\n",
      "Time:  0.7054305076599121\n"
     ]
    },
    {
     "name": "stderr",
     "output_type": "stream",
     "text": [
      "bash: line 1: ./run.sh: No such file or directory\n"
     ]
    },
    {
     "name": "stdout",
     "output_type": "stream",
     "text": [
      "Retcode:  127\n",
      "Time:  0.7639787197113037\n"
     ]
    },
    {
     "name": "stderr",
     "output_type": "stream",
     "text": [
      "bash: line 1: ./run.sh: No such file or directory\n"
     ]
    },
    {
     "name": "stdout",
     "output_type": "stream",
     "text": [
      "Retcode:  127\n",
      "Time:  0.7069814205169678\n"
     ]
    },
    {
     "name": "stderr",
     "output_type": "stream",
     "text": [
      "bash: line 1: ./run.sh: No such file or directory\n"
     ]
    },
    {
     "name": "stdout",
     "output_type": "stream",
     "text": [
      "Retcode:  127\n",
      "Time:  0.6886069774627686\n"
     ]
    },
    {
     "name": "stderr",
     "output_type": "stream",
     "text": [
      "bash: line 1: ./run.sh: No such file or directory\n"
     ]
    },
    {
     "name": "stdout",
     "output_type": "stream",
     "text": [
      "Retcode:  127\n",
      "Time:  0.6615166664123535\n"
     ]
    },
    {
     "name": "stderr",
     "output_type": "stream",
     "text": [
      "bash: line 1: ./run.sh: No such file or directory\n"
     ]
    },
    {
     "name": "stdout",
     "output_type": "stream",
     "text": [
      "Retcode:  127\n",
      "Time:  0.711158275604248\n"
     ]
    },
    {
     "name": "stderr",
     "output_type": "stream",
     "text": [
      "bash: line 1: ./run.sh: No such file or directory\n"
     ]
    },
    {
     "name": "stdout",
     "output_type": "stream",
     "text": [
      "Retcode:  127\n",
      "Time:  0.6919009685516357\n"
     ]
    },
    {
     "name": "stderr",
     "output_type": "stream",
     "text": [
      "bash: line 1: ./run.sh: No such file or directory\n"
     ]
    },
    {
     "name": "stdout",
     "output_type": "stream",
     "text": [
      "Retcode:  127\n",
      "Time:  0.7083702087402344\n"
     ]
    },
    {
     "name": "stderr",
     "output_type": "stream",
     "text": [
      "bash: line 1: ./run.sh: No such file or directory\n"
     ]
    },
    {
     "name": "stdout",
     "output_type": "stream",
     "text": [
      "Retcode:  127\n",
      "Time:  0.7036724090576172\n"
     ]
    },
    {
     "name": "stderr",
     "output_type": "stream",
     "text": [
      "bash: line 1: ./run.sh: No such file or directory\n"
     ]
    },
    {
     "name": "stdout",
     "output_type": "stream",
     "text": [
      "Retcode:  127\n",
      "Time:  0.7207787036895752\n"
     ]
    },
    {
     "name": "stderr",
     "output_type": "stream",
     "text": [
      "bash: line 1: ./run.sh: No such file or directory\n"
     ]
    },
    {
     "name": "stdout",
     "output_type": "stream",
     "text": [
      "Retcode:  127\n",
      "Time:  0.6743721961975098\n"
     ]
    },
    {
     "name": "stderr",
     "output_type": "stream",
     "text": [
      "bash: line 1: ./run.sh: No such file or directory\n"
     ]
    },
    {
     "name": "stdout",
     "output_type": "stream",
     "text": [
      "Retcode:  127\n",
      "Time:  0.6662964820861816\n"
     ]
    },
    {
     "name": "stderr",
     "output_type": "stream",
     "text": [
      "bash: line 1: ./run.sh: No such file or directory\n"
     ]
    },
    {
     "name": "stdout",
     "output_type": "stream",
     "text": [
      "Retcode:  127\n",
      "Time:  0.6788301467895508\n"
     ]
    },
    {
     "name": "stderr",
     "output_type": "stream",
     "text": [
      "bash: line 1: ./run.sh: No such file or directory\n"
     ]
    },
    {
     "name": "stdout",
     "output_type": "stream",
     "text": [
      "Retcode:  127\n",
      "Time:  0.677990198135376\n"
     ]
    },
    {
     "name": "stderr",
     "output_type": "stream",
     "text": [
      "bash: line 1: ./run.sh: No such file or directory\n"
     ]
    },
    {
     "name": "stdout",
     "output_type": "stream",
     "text": [
      "Retcode:  127\n",
      "Time:  0.7048850059509277\n"
     ]
    },
    {
     "name": "stderr",
     "output_type": "stream",
     "text": [
      "bash: line 1: ./run.sh: No such file or directory\n"
     ]
    },
    {
     "name": "stdout",
     "output_type": "stream",
     "text": [
      "Retcode:  127\n",
      "Time:  0.6353988647460938\n"
     ]
    },
    {
     "name": "stderr",
     "output_type": "stream",
     "text": [
      "bash: line 1: ./run.sh: No such file or directory\n"
     ]
    },
    {
     "name": "stdout",
     "output_type": "stream",
     "text": [
      "Retcode:  127\n",
      "Time:  0.7133641242980957\n"
     ]
    },
    {
     "name": "stderr",
     "output_type": "stream",
     "text": [
      "bash: line 1: ./run.sh: No such file or directory\n"
     ]
    },
    {
     "name": "stdout",
     "output_type": "stream",
     "text": [
      "Retcode:  127\n",
      "Time:  0.6961343288421631\n"
     ]
    },
    {
     "name": "stderr",
     "output_type": "stream",
     "text": [
      "bash: line 1: ./run.sh: No such file or directory\n"
     ]
    },
    {
     "name": "stdout",
     "output_type": "stream",
     "text": [
      "Retcode:  127\n",
      "Time:  0.6870901584625244\n"
     ]
    },
    {
     "name": "stderr",
     "output_type": "stream",
     "text": [
      "bash: line 1: ./run.sh: No such file or directory\n"
     ]
    },
    {
     "name": "stdout",
     "output_type": "stream",
     "text": [
      "Retcode:  127\n",
      "Time:  0.7059845924377441\n"
     ]
    },
    {
     "name": "stderr",
     "output_type": "stream",
     "text": [
      "bash: line 1: ./run.sh: No such file or directory\n"
     ]
    },
    {
     "name": "stdout",
     "output_type": "stream",
     "text": [
      "Retcode:  127\n",
      "Time:  0.7144355773925781\n"
     ]
    },
    {
     "name": "stderr",
     "output_type": "stream",
     "text": [
      "bash: line 1: ./run.sh: No such file or directory\n"
     ]
    },
    {
     "name": "stdout",
     "output_type": "stream",
     "text": [
      "Retcode:  127\n",
      "Time:  0.6987912654876709\n"
     ]
    },
    {
     "name": "stderr",
     "output_type": "stream",
     "text": [
      "bash: line 1: ./run.sh: No such file or directory\n"
     ]
    },
    {
     "name": "stdout",
     "output_type": "stream",
     "text": [
      "Retcode:  127\n",
      "Time:  0.743905782699585\n"
     ]
    },
    {
     "name": "stderr",
     "output_type": "stream",
     "text": [
      "bash: line 1: ./run.sh: No such file or directory\n"
     ]
    },
    {
     "name": "stdout",
     "output_type": "stream",
     "text": [
      "Retcode:  127\n",
      "Time:  0.7159419059753418\n"
     ]
    },
    {
     "name": "stderr",
     "output_type": "stream",
     "text": [
      "bash: line 1: ./run.sh: No such file or directory\n"
     ]
    },
    {
     "name": "stdout",
     "output_type": "stream",
     "text": [
      "Retcode:  127\n",
      "Time:  0.6836786270141602\n"
     ]
    },
    {
     "name": "stderr",
     "output_type": "stream",
     "text": [
      "bash: line 1: ./run.sh: No such file or directory\n"
     ]
    },
    {
     "name": "stdout",
     "output_type": "stream",
     "text": [
      "Retcode:  127\n",
      "Time:  0.6719136238098145\n"
     ]
    },
    {
     "name": "stderr",
     "output_type": "stream",
     "text": [
      "bash: line 1: ./run.sh: No such file or directory\n"
     ]
    },
    {
     "name": "stdout",
     "output_type": "stream",
     "text": [
      "Retcode:  127\n",
      "Time:  0.6666736602783203\n"
     ]
    },
    {
     "name": "stderr",
     "output_type": "stream",
     "text": [
      "bash: line 1: ./run.sh: No such file or directory\n"
     ]
    },
    {
     "name": "stdout",
     "output_type": "stream",
     "text": [
      "Retcode:  127\n",
      "Time:  0.6927671432495117\n"
     ]
    },
    {
     "name": "stderr",
     "output_type": "stream",
     "text": [
      "bash: line 1: ./run.sh: No such file or directory\n"
     ]
    },
    {
     "name": "stdout",
     "output_type": "stream",
     "text": [
      "Retcode:  127\n",
      "Time:  0.6523983478546143\n"
     ]
    },
    {
     "name": "stderr",
     "output_type": "stream",
     "text": [
      "bash: line 1: ./run.sh: No such file or directory\n"
     ]
    },
    {
     "name": "stdout",
     "output_type": "stream",
     "text": [
      "Retcode:  127\n",
      "Time:  0.6473264694213867\n"
     ]
    },
    {
     "name": "stderr",
     "output_type": "stream",
     "text": [
      "bash: line 1: ./run.sh: No such file or directory\n"
     ]
    },
    {
     "name": "stdout",
     "output_type": "stream",
     "text": [
      "Retcode:  127\n",
      "Time:  0.7246990203857422\n"
     ]
    },
    {
     "ename": "KeyboardInterrupt",
     "evalue": "",
     "output_type": "error",
     "traceback": [
      "\u001b[0;31m---------------------------------------------------------------------------\u001b[0m",
      "\u001b[0;31mKeyboardInterrupt\u001b[0m                         Traceback (most recent call last)",
      "Cell \u001b[0;32mIn[11], line 17\u001b[0m\n\u001b[1;32m      7\u001b[0m theta0s \u001b[39m=\u001b[39m [\n\u001b[1;32m      8\u001b[0m     [FloatAdam(\u001b[39m150.\u001b[39m, \u001b[39m2\u001b[39m, \u001b[39m0.8\u001b[39m, \u001b[39m0.88\u001b[39m)],\n\u001b[1;32m      9\u001b[0m     [FloatAdam(\u001b[39m75.\u001b[39m, \u001b[39m2\u001b[39m, \u001b[39m0.8\u001b[39m, \u001b[39m0.88\u001b[39m)],\n\u001b[0;32m   (...)\u001b[0m\n\u001b[1;32m     12\u001b[0m     [FloatAdam(\u001b[39m5e-2\u001b[39m, \u001b[39m2\u001b[39m, \u001b[39m0.8\u001b[39m, \u001b[39m0.88\u001b[39m)]\n\u001b[1;32m     13\u001b[0m ]\n\u001b[1;32m     15\u001b[0m pdss \u001b[39m=\u001b[39m [[], [], [], [], []]\n\u001b[0;32m---> 17\u001b[0m optimize(\n\u001b[1;32m     18\u001b[0m     opt_run,\n\u001b[1;32m     19\u001b[0m     theta0s,\n\u001b[1;32m     20\u001b[0m     [],\n\u001b[1;32m     21\u001b[0m     pdss,\n\u001b[1;32m     22\u001b[0m     keep_go,\n\u001b[1;32m     23\u001b[0m     logger\n\u001b[1;32m     24\u001b[0m )\n",
      "File \u001b[0;32m~/cfd/openfoam/optimizer.py:80\u001b[0m, in \u001b[0;36moptimize\u001b[0;34m(f, thetas, ys, pdss, stop_f, log_f)\u001b[0m\n\u001b[1;32m     76\u001b[0m sleep(\u001b[39m0.3\u001b[39m)\n\u001b[1;32m     78\u001b[0m \u001b[39mif\u001b[39;00m \u001b[39mnot\u001b[39;00m stop_f(new_thetas, new_ys, new_pdss):\n\u001b[1;32m     79\u001b[0m     \u001b[39m# print(new_thetas)\u001b[39;00m\n\u001b[0;32m---> 80\u001b[0m     \u001b[39mreturn\u001b[39;00m optimize(f, new_thetas, new_ys, new_pdss, stop_f, log_f)\n\u001b[1;32m     81\u001b[0m \u001b[39melse\u001b[39;00m:\n\u001b[1;32m     82\u001b[0m     \u001b[39mreturn\u001b[39;00m (\u001b[39mlist\u001b[39m(\u001b[39mmap\u001b[39m(last, new_thetas)), last(new_ys))\n",
      "File \u001b[0;32m~/cfd/openfoam/optimizer.py:80\u001b[0m, in \u001b[0;36moptimize\u001b[0;34m(f, thetas, ys, pdss, stop_f, log_f)\u001b[0m\n\u001b[1;32m     76\u001b[0m sleep(\u001b[39m0.3\u001b[39m)\n\u001b[1;32m     78\u001b[0m \u001b[39mif\u001b[39;00m \u001b[39mnot\u001b[39;00m stop_f(new_thetas, new_ys, new_pdss):\n\u001b[1;32m     79\u001b[0m     \u001b[39m# print(new_thetas)\u001b[39;00m\n\u001b[0;32m---> 80\u001b[0m     \u001b[39mreturn\u001b[39;00m optimize(f, new_thetas, new_ys, new_pdss, stop_f, log_f)\n\u001b[1;32m     81\u001b[0m \u001b[39melse\u001b[39;00m:\n\u001b[1;32m     82\u001b[0m     \u001b[39mreturn\u001b[39;00m (\u001b[39mlist\u001b[39m(\u001b[39mmap\u001b[39m(last, new_thetas)), last(new_ys))\n",
      "    \u001b[0;31m[... skipping similar frames: optimize at line 80 (3 times)]\u001b[0m\n",
      "File \u001b[0;32m~/cfd/openfoam/optimizer.py:80\u001b[0m, in \u001b[0;36moptimize\u001b[0;34m(f, thetas, ys, pdss, stop_f, log_f)\u001b[0m\n\u001b[1;32m     76\u001b[0m sleep(\u001b[39m0.3\u001b[39m)\n\u001b[1;32m     78\u001b[0m \u001b[39mif\u001b[39;00m \u001b[39mnot\u001b[39;00m stop_f(new_thetas, new_ys, new_pdss):\n\u001b[1;32m     79\u001b[0m     \u001b[39m# print(new_thetas)\u001b[39;00m\n\u001b[0;32m---> 80\u001b[0m     \u001b[39mreturn\u001b[39;00m optimize(f, new_thetas, new_ys, new_pdss, stop_f, log_f)\n\u001b[1;32m     81\u001b[0m \u001b[39melse\u001b[39;00m:\n\u001b[1;32m     82\u001b[0m     \u001b[39mreturn\u001b[39;00m (\u001b[39mlist\u001b[39m(\u001b[39mmap\u001b[39m(last, new_thetas)), last(new_ys))\n",
      "File \u001b[0;32m~/cfd/openfoam/optimizer.py:60\u001b[0m, in \u001b[0;36moptimize\u001b[0;34m(f, thetas, ys, pdss, stop_f, log_f)\u001b[0m\n\u001b[1;32m     49\u001b[0m \u001b[39mdef\u001b[39;00m \u001b[39moptimize\u001b[39m(\n\u001b[1;32m     50\u001b[0m         f: Callable[[List[T]], \u001b[39mfloat\u001b[39m], \n\u001b[1;32m     51\u001b[0m         thetas : List[Theta], \n\u001b[0;32m   (...)\u001b[0m\n\u001b[1;32m     55\u001b[0m         log_f: Callable[[\u001b[39mint\u001b[39m, Theta, \u001b[39mfloat\u001b[39m, List[\u001b[39mfloat\u001b[39m]], \u001b[39mNone\u001b[39;00m]\n\u001b[1;32m     56\u001b[0m         ) \u001b[39m-\u001b[39m\u001b[39m>\u001b[39m Tuple[List[T], \u001b[39mfloat\u001b[39m]:\n\u001b[1;32m     58\u001b[0m     ts \u001b[39m=\u001b[39m \u001b[39mlist\u001b[39m(\u001b[39mmap\u001b[39m(last, thetas))\n\u001b[0;32m---> 60\u001b[0m     y, new_pds \u001b[39m=\u001b[39m gradient(f, ts)\n\u001b[1;32m     61\u001b[0m     \u001b[39m# print(\"new_pds: \", new_pds)\u001b[39;00m\n\u001b[1;32m     62\u001b[0m     new_ys \u001b[39m=\u001b[39m ys \u001b[39m+\u001b[39m [y]\n",
      "File \u001b[0;32m~/cfd/openfoam/optimizer.py:47\u001b[0m, in \u001b[0;36mgradient\u001b[0;34m(f, ts)\u001b[0m\n\u001b[1;32m     44\u001b[0m triples \u001b[39m=\u001b[39m \u001b[39mzip\u001b[39m(ts, ys, succ_ys)\n\u001b[1;32m     45\u001b[0m partial_diffs \u001b[39m=\u001b[39m \u001b[39mmap\u001b[39m(\u001b[39mlambda\u001b[39;00m t: t[\u001b[39m0\u001b[39m]\u001b[39m.\u001b[39mpartial_diff(t[\u001b[39m1\u001b[39m], t[\u001b[39m2\u001b[39m]), triples)\n\u001b[0;32m---> 47\u001b[0m \u001b[39mreturn\u001b[39;00m (y, \u001b[39mlist\u001b[39m(partial_diffs))\n",
      "Cell \u001b[0;32mIn[9], line 76\u001b[0m, in \u001b[0;36mopt_run\u001b[0;34m(ts)\u001b[0m\n\u001b[1;32m     58\u001b[0m maxCellSize, boundaryCellSize, localRefCellSize, residualP, residualOthers \u001b[39m=\u001b[39m \u001b[39mtuple\u001b[39m(ts)\n\u001b[1;32m     60\u001b[0m entries \u001b[39m=\u001b[39m [\n\u001b[1;32m     61\u001b[0m     (\u001b[39m\"\u001b[39m\u001b[39m0/U\u001b[39m\u001b[39m\"\u001b[39m, [\u001b[39m\"\u001b[39m\u001b[39mUinlet\u001b[39m\u001b[39m\"\u001b[39m], \u001b[39m\"\u001b[39m\u001b[39m(10 0 0)\u001b[39m\u001b[39m\"\u001b[39m),\n\u001b[1;32m     62\u001b[0m     (\u001b[39m\"\u001b[39m\u001b[39msystem/meshDict\u001b[39m\u001b[39m\"\u001b[39m, [\u001b[39m\"\u001b[39m\u001b[39msurfaceFile\u001b[39m\u001b[39m\"\u001b[39m], \u001b[39m\"\u001b[39m\u001b[39mconstant/triSurface/background3.stl\u001b[39m\u001b[39m\"\u001b[39m),\n\u001b[0;32m   (...)\u001b[0m\n\u001b[1;32m     73\u001b[0m     (\u001b[39m\"\u001b[39m\u001b[39msystem/decomposeParDict\u001b[39m\u001b[39m\"\u001b[39m, [\u001b[39m\"\u001b[39m\u001b[39mnumberOfSubdomains\u001b[39m\u001b[39m\"\u001b[39m], c\u001b[39m.\u001b[39mnum_proc),\n\u001b[1;32m     74\u001b[0m ]\n\u001b[0;32m---> 76\u001b[0m res \u001b[39m=\u001b[39m run_case(c, entries, \u001b[39m120\u001b[39;49m)\n\u001b[1;32m     78\u001b[0m \u001b[39mif\u001b[39;00m res \u001b[39m==\u001b[39m \u001b[39mNone\u001b[39;00m:\n\u001b[1;32m     79\u001b[0m     \u001b[39mreturn\u001b[39;00m \u001b[39m120\u001b[39m \u001b[39m*\u001b[39m \u001b[39m1\u001b[39m\n",
      "File \u001b[0;32m~/cfd/openfoam/core.py:219\u001b[0m, in \u001b[0;36mrun_case\u001b[0;34m(c, entries, timeout_s)\u001b[0m\n\u001b[1;32m    215\u001b[0m clear_case(c)\n\u001b[1;32m    217\u001b[0m set_case(c, entries)\n\u001b[0;32m--> 219\u001b[0m res \u001b[39m=\u001b[39m run_all(c, timeout_s)\n\u001b[1;32m    221\u001b[0m \u001b[39mif\u001b[39;00m res \u001b[39m!=\u001b[39m \u001b[39mNone\u001b[39;00m:\n\u001b[1;32m    222\u001b[0m     \u001b[39mreturn\u001b[39;00m (c\u001b[39m.\u001b[39mlocal_case_dir_path, res)\n",
      "File \u001b[0;32m~/cfd/openfoam/core.py:202\u001b[0m, in \u001b[0;36mrun_all\u001b[0;34m(c, timeout_s)\u001b[0m\n\u001b[1;32m    185\u001b[0m _ \u001b[39m=\u001b[39m write_foam_run(c)\n\u001b[1;32m    187\u001b[0m cmd \u001b[39m=\u001b[39m [\n\u001b[1;32m    188\u001b[0m     \u001b[39m\"\u001b[39m\u001b[39mdocker\u001b[39m\u001b[39m\"\u001b[39m,\n\u001b[1;32m    189\u001b[0m     \u001b[39m# \"exec\",\u001b[39;00m\n\u001b[0;32m   (...)\u001b[0m\n\u001b[1;32m    199\u001b[0m     \u001b[39mf\u001b[39m\u001b[39m'\u001b[39m\u001b[39m\"\u001b[39m\u001b[39m./\u001b[39m\u001b[39m{\u001b[39;00mc\u001b[39m.\u001b[39mscript_file_name\u001b[39m}\u001b[39;00m\u001b[39m\"\u001b[39m\u001b[39m'\u001b[39m\n\u001b[1;32m    200\u001b[0m ]\n\u001b[0;32m--> 202\u001b[0m result \u001b[39m=\u001b[39m time_process(cmd)\n\u001b[1;32m    204\u001b[0m \u001b[39mif\u001b[39;00m result \u001b[39m!=\u001b[39m \u001b[39mNone\u001b[39;00m:\n\u001b[1;32m    205\u001b[0m     \u001b[39mif\u001b[39;00m result[\u001b[39m0\u001b[39m] \u001b[39m==\u001b[39m \u001b[39m0\u001b[39m:\n",
      "File \u001b[0;32m~/cfd/openfoam/core.py:137\u001b[0m, in \u001b[0;36mtime_process\u001b[0;34m(cmd)\u001b[0m\n\u001b[1;32m    134\u001b[0m start \u001b[39m=\u001b[39m time()\n\u001b[1;32m    136\u001b[0m \u001b[39mwith\u001b[39;00m Popen(cmd) \u001b[39mas\u001b[39;00m p:\n\u001b[0;32m--> 137\u001b[0m     p\u001b[39m.\u001b[39;49mcommunicate()\n\u001b[1;32m    139\u001b[0m     retcode \u001b[39m=\u001b[39m p\u001b[39m.\u001b[39mpoll()\n\u001b[1;32m    141\u001b[0m end \u001b[39m=\u001b[39m time()\n",
      "File \u001b[0;32m/usr/lib/python3.11/subprocess.py:1201\u001b[0m, in \u001b[0;36mPopen.communicate\u001b[0;34m(self, input, timeout)\u001b[0m\n\u001b[1;32m   1199\u001b[0m         stderr \u001b[39m=\u001b[39m \u001b[39mself\u001b[39m\u001b[39m.\u001b[39mstderr\u001b[39m.\u001b[39mread()\n\u001b[1;32m   1200\u001b[0m         \u001b[39mself\u001b[39m\u001b[39m.\u001b[39mstderr\u001b[39m.\u001b[39mclose()\n\u001b[0;32m-> 1201\u001b[0m     \u001b[39mself\u001b[39;49m\u001b[39m.\u001b[39;49mwait()\n\u001b[1;32m   1202\u001b[0m \u001b[39melse\u001b[39;00m:\n\u001b[1;32m   1203\u001b[0m     \u001b[39mif\u001b[39;00m timeout \u001b[39mis\u001b[39;00m \u001b[39mnot\u001b[39;00m \u001b[39mNone\u001b[39;00m:\n",
      "File \u001b[0;32m/usr/lib/python3.11/subprocess.py:1264\u001b[0m, in \u001b[0;36mPopen.wait\u001b[0;34m(self, timeout)\u001b[0m\n\u001b[1;32m   1262\u001b[0m     endtime \u001b[39m=\u001b[39m _time() \u001b[39m+\u001b[39m timeout\n\u001b[1;32m   1263\u001b[0m \u001b[39mtry\u001b[39;00m:\n\u001b[0;32m-> 1264\u001b[0m     \u001b[39mreturn\u001b[39;00m \u001b[39mself\u001b[39;49m\u001b[39m.\u001b[39;49m_wait(timeout\u001b[39m=\u001b[39;49mtimeout)\n\u001b[1;32m   1265\u001b[0m \u001b[39mexcept\u001b[39;00m \u001b[39mKeyboardInterrupt\u001b[39;00m:\n\u001b[1;32m   1266\u001b[0m     \u001b[39m# https://bugs.python.org/issue25942\u001b[39;00m\n\u001b[1;32m   1267\u001b[0m     \u001b[39m# The first keyboard interrupt waits briefly for the child to\u001b[39;00m\n\u001b[1;32m   1268\u001b[0m     \u001b[39m# exit under the common assumption that it also received the ^C\u001b[39;00m\n\u001b[1;32m   1269\u001b[0m     \u001b[39m# generated SIGINT and will exit rapidly.\u001b[39;00m\n\u001b[1;32m   1270\u001b[0m     \u001b[39mif\u001b[39;00m timeout \u001b[39mis\u001b[39;00m \u001b[39mnot\u001b[39;00m \u001b[39mNone\u001b[39;00m:\n",
      "File \u001b[0;32m/usr/lib/python3.11/subprocess.py:2046\u001b[0m, in \u001b[0;36mPopen._wait\u001b[0;34m(self, timeout)\u001b[0m\n\u001b[1;32m   2044\u001b[0m \u001b[39mif\u001b[39;00m \u001b[39mself\u001b[39m\u001b[39m.\u001b[39mreturncode \u001b[39mis\u001b[39;00m \u001b[39mnot\u001b[39;00m \u001b[39mNone\u001b[39;00m:\n\u001b[1;32m   2045\u001b[0m     \u001b[39mbreak\u001b[39;00m  \u001b[39m# Another thread waited.\u001b[39;00m\n\u001b[0;32m-> 2046\u001b[0m (pid, sts) \u001b[39m=\u001b[39m \u001b[39mself\u001b[39;49m\u001b[39m.\u001b[39;49m_try_wait(\u001b[39m0\u001b[39;49m)\n\u001b[1;32m   2047\u001b[0m \u001b[39m# Check the pid and loop as waitpid has been known to\u001b[39;00m\n\u001b[1;32m   2048\u001b[0m \u001b[39m# return 0 even without WNOHANG in odd situations.\u001b[39;00m\n\u001b[1;32m   2049\u001b[0m \u001b[39m# http://bugs.python.org/issue14396.\u001b[39;00m\n\u001b[1;32m   2050\u001b[0m \u001b[39mif\u001b[39;00m pid \u001b[39m==\u001b[39m \u001b[39mself\u001b[39m\u001b[39m.\u001b[39mpid:\n",
      "File \u001b[0;32m/usr/lib/python3.11/subprocess.py:2004\u001b[0m, in \u001b[0;36mPopen._try_wait\u001b[0;34m(self, wait_flags)\u001b[0m\n\u001b[1;32m   2002\u001b[0m \u001b[39m\u001b[39m\u001b[39m\"\"\"All callers to this function MUST hold self._waitpid_lock.\"\"\"\u001b[39;00m\n\u001b[1;32m   2003\u001b[0m \u001b[39mtry\u001b[39;00m:\n\u001b[0;32m-> 2004\u001b[0m     (pid, sts) \u001b[39m=\u001b[39m os\u001b[39m.\u001b[39mwaitpid(\u001b[39mself\u001b[39m\u001b[39m.\u001b[39mpid, wait_flags)\n\u001b[1;32m   2005\u001b[0m \u001b[39mexcept\u001b[39;00m \u001b[39mChildProcessError\u001b[39;00m:\n\u001b[1;32m   2006\u001b[0m     \u001b[39m# This happens if SIGCLD is set to be ignored or waiting\u001b[39;00m\n\u001b[1;32m   2007\u001b[0m     \u001b[39m# for child processes has otherwise been disabled for our\u001b[39;00m\n\u001b[1;32m   2008\u001b[0m     \u001b[39m# process.  This child is dead, we can't get the status.\u001b[39;00m\n\u001b[1;32m   2009\u001b[0m     pid \u001b[39m=\u001b[39m \u001b[39mself\u001b[39m\u001b[39m.\u001b[39mpid\n",
      "\u001b[0;31mKeyboardInterrupt\u001b[0m: "
     ]
    },
    {
     "name": "stderr",
     "output_type": "stream",
     "text": [
      "bash: line 1: ./run.sh: No such file or directory\n"
     ]
    }
   ],
   "source": [
    "# maxCellSize, boundaryCellSize, localRefCellSize, residualP, residualOthers\n",
    "\n",
    "\n",
    "from openfoam.optimizer import optimize\n",
    "\n",
    "\n",
    "theta0s = [\n",
    "    [FloatAdam(150., 2, 0.8, 0.88)],\n",
    "    [FloatAdam(75., 2, 0.8, 0.88)],\n",
    "    [FloatAdam(8., 2, 0.8, 0.88)],\n",
    "    [FloatAdam(5e-1, 2, 0.8, 0.88)],\n",
    "    [FloatAdam(5e-2, 2, 0.8, 0.88)]\n",
    "]\n",
    "\n",
    "pdss = [[], [], [], [], []]\n",
    "\n",
    "optimize(\n",
    "    opt_run,\n",
    "    theta0s,\n",
    "    [],\n",
    "    pdss,\n",
    "    keep_go,\n",
    "    logger\n",
    ")"
   ]
  },
  {
   "cell_type": "code",
   "execution_count": null,
   "metadata": {},
   "outputs": [],
   "source": []
  },
  {
   "cell_type": "code",
   "execution_count": null,
   "metadata": {},
   "outputs": [],
   "source": []
  }
 ],
 "metadata": {
  "kernelspec": {
   "display_name": "venv",
   "language": "python",
   "name": "python3"
  },
  "language_info": {
   "codemirror_mode": {
    "name": "ipython",
    "version": 3
   },
   "file_extension": ".py",
   "mimetype": "text/x-python",
   "name": "python",
   "nbconvert_exporter": "python",
   "pygments_lexer": "ipython3",
   "version": "3.11.4"
  },
  "orig_nbformat": 4
 },
 "nbformat": 4,
 "nbformat_minor": 2
}
