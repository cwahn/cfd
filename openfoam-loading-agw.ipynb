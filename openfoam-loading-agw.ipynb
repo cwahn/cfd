{
 "cells": [
  {
   "cell_type": "code",
   "execution_count": 8,
   "metadata": {},
   "outputs": [],
   "source": [
    "from pyvista import OpenFOAMReader\n",
    "\n",
    "\n",
    "# FILE_PATH = \"./data/results/windAroundBuildingsOld/open.foam\"\n",
    "FILE_PATH = \"./testCase/open.foam\"\n",
    "\n",
    "\n",
    "reader = OpenFOAMReader(FILE_PATH)"
   ]
  },
  {
   "cell_type": "code",
   "execution_count": 28,
   "metadata": {},
   "outputs": [
    {
     "name": "stdout",
     "output_type": "stream",
     "text": [
      "(4096, 3)\n",
      "(4096,)\n"
     ]
    },
    {
     "data": {
      "text/plain": [
       "(20480,)"
      ]
     },
     "execution_count": 28,
     "metadata": {},
     "output_type": "execute_result"
    }
   ],
   "source": [
    "from openfoam.post import spatial_sample\n",
    "import numpy as np\n",
    "\n",
    "b_box = [-1.5, 1.5, 0, 3, -1.5, 1.5]\n",
    "\n",
    "amp = spatial_sample_(FILE_PATH, b_box, 0.185)\n",
    "U = amp[\"U\"]\n",
    "\n",
    "\n",
    "print(U.shape)\n",
    "U /= U.mean()\n",
    "p = amp[\"p\"]\n",
    "p /= p.mean()\n",
    "k = amp[\"k\"]\n",
    "k /= k.mean()\n",
    "print(k.shape)\n",
    "\n",
    "\n",
    "fs = [U, p, k]\n",
    "flats = list(map(lambda x: np.ravel(x), fs))\n",
    "flat = np.concatenate(flats)\n",
    "flat.shape\n",
    "\n"
   ]
  },
  {
   "cell_type": "code",
   "execution_count": 29,
   "metadata": {},
   "outputs": [
    {
     "data": {
      "text/plain": [
       "(4096, 3)"
      ]
     },
     "execution_count": 29,
     "metadata": {},
     "output_type": "execute_result"
    }
   ],
   "source": [
    "U.shape"
   ]
  },
  {
   "cell_type": "code",
   "execution_count": 35,
   "metadata": {},
   "outputs": [
    {
     "ename": "ValueError",
     "evalue": "setting an array element with a sequence.",
     "output_type": "error",
     "traceback": [
      "\u001b[1;31m---------------------------------------------------------------------------\u001b[0m",
      "\u001b[1;31mTypeError\u001b[0m                                 Traceback (most recent call last)",
      "\u001b[1;31mTypeError\u001b[0m: only size-1 arrays can be converted to Python scalars",
      "\nThe above exception was the direct cause of the following exception:\n",
      "\u001b[1;31mValueError\u001b[0m                                Traceback (most recent call last)",
      "Cell \u001b[1;32mIn[35], line 4\u001b[0m\n\u001b[0;32m      1\u001b[0m U[:,\u001b[39m0\u001b[39m]\u001b[39m.\u001b[39mreshape((\u001b[39m16\u001b[39m, \u001b[39m16\u001b[39m, \u001b[39m16\u001b[39m))\u001b[39m.\u001b[39mshape\n\u001b[0;32m      3\u001b[0m u \u001b[39m=\u001b[39m np\u001b[39m.\u001b[39marray((\u001b[39m3\u001b[39m,\u001b[39m16\u001b[39m,\u001b[39m16\u001b[39m,\u001b[39m16\u001b[39m))\n\u001b[1;32m----> 4\u001b[0m u[\u001b[39m0\u001b[39;49m] \u001b[39m=\u001b[39m U[:,\u001b[39m0\u001b[39m]\u001b[39m.\u001b[39mreshape((\u001b[39m16\u001b[39m, \u001b[39m16\u001b[39m, \u001b[39m16\u001b[39m))\n\u001b[0;32m      5\u001b[0m u[\u001b[39m1\u001b[39m] \u001b[39m=\u001b[39m U[:,\u001b[39m1\u001b[39m]\u001b[39m.\u001b[39mreshape((\u001b[39m16\u001b[39m, \u001b[39m16\u001b[39m, \u001b[39m16\u001b[39m))\n\u001b[0;32m      6\u001b[0m u[\u001b[39m2\u001b[39m] \u001b[39m=\u001b[39m U[:,\u001b[39m2\u001b[39m]\u001b[39m.\u001b[39mreshape((\u001b[39m16\u001b[39m, \u001b[39m16\u001b[39m, \u001b[39m16\u001b[39m))\n",
      "\u001b[1;31mValueError\u001b[0m: setting an array element with a sequence."
     ]
    }
   ],
   "source": [
    "U[:,0].reshape((16, 16, 16)).shape\n",
    "\n",
    "u = np.array((3,16,16,16))\n",
    "print(u.shape)\n",
    "u[0] = U[:,0].reshape((16, 16, 16))\n",
    "u[1] = U[:,1].reshape((16, 16, 16))\n",
    "u[2] = U[:,2].reshape((16, 16, 16))\n",
    "u = u[:].ravel()"
   ]
  },
  {
   "cell_type": "code",
   "execution_count": 10,
   "metadata": {},
   "outputs": [
    {
     "name": "stdout",
     "output_type": "stream",
     "text": [
      "All patch names: ['internalMesh', 'patch/inlet', 'patch/outlet', 'patch/ground', 'patch/object', 'patch/fixedWalls']\n",
      "All patch status: {'internalMesh': True, 'patch/inlet': True, 'patch/outlet': True, 'patch/ground': True, 'patch/object': True, 'patch/fixedWalls': True}\n"
     ]
    }
   ],
   "source": [
    "print(f\"All patch names: {reader.patch_array_names}\")\n",
    "print(f\"All patch status: {reader.all_patch_arrays_status}\")"
   ]
  },
  {
   "cell_type": "code",
   "execution_count": 11,
   "metadata": {},
   "outputs": [
    {
     "name": "stderr",
     "output_type": "stream",
     "text": [
      "ERROR:root:Error reading line 28 of ./testCase/0/U: Expected number, string or ( for uniform entry, found Uinlet\n",
      "ERROR:root:Error reading line 21 of ./testCase/0/epsilon: Expected number, string or ( for uniform entry, found epsilonInlet\n",
      "ERROR:root:Error reading line 21 of ./testCase/0/k: Expected number, string or ( for uniform entry, found kInlet\n",
      "ERROR:root:Error reading line 70 of ./testCase/0/nut: Unsupported directive includeEtc\n",
      "ERROR:root:Error reading line 66 of ./testCase/0/p: Unsupported directive includeEtc\n"
     ]
    }
   ],
   "source": [
    "mesh = reader.read()\n",
    "internal_mesh = mesh[\"internalMesh\"]  # or internal_mesh = mesh[0]"
   ]
  },
  {
   "cell_type": "code",
   "execution_count": 12,
   "metadata": {},
   "outputs": [
    {
     "name": "stdout",
     "output_type": "stream",
     "text": [
      "Mesh patches: ['internalMesh', 'boundary']\n"
     ]
    }
   ],
   "source": [
    "print(f\"Mesh patches: {mesh.keys()}\")"
   ]
  },
  {
   "cell_type": "code",
   "execution_count": 13,
   "metadata": {},
   "outputs": [
    {
     "name": "stdout",
     "output_type": "stream",
     "text": [
      "UnstructuredGrid (0x20936947640)\n",
      "  N Cells:    62188\n",
      "  N Points:   77648\n",
      "  X Bounds:   -1.500e+00, 1.500e+00\n",
      "  Y Bounds:   1.000e-02, 3.000e+00\n",
      "  Z Bounds:   -1.500e+00, 1.500e+00\n",
      "  N Arrays:   0\n"
     ]
    }
   ],
   "source": [
    "print(internal_mesh)"
   ]
  },
  {
   "cell_type": "code",
   "execution_count": 14,
   "metadata": {},
   "outputs": [
    {
     "name": "stdout",
     "output_type": "stream",
     "text": [
      "pyvista DataSetAttributes\n",
      "Association     : CELL\n",
      "Active Scalars  : None\n",
      "Active Vectors  : None\n",
      "Active Texture  : None\n",
      "Active Normals  : None\n",
      "Contains arrays : None\n",
      "pyvista DataSetAttributes\n",
      "Association     : POINT\n",
      "Active Scalars  : None\n",
      "Active Vectors  : None\n",
      "Active Texture  : None\n",
      "Active Normals  : None\n",
      "Contains arrays : None\n",
      "Available Time Values: [0.0, 50.0, 73.0]\n"
     ]
    }
   ],
   "source": [
    "print(internal_mesh.cell_data)\n",
    "print(internal_mesh.point_data)\n",
    "print(f\"Available Time Values: {reader.time_values}\")\n",
    "reader.set_active_time_value(73)\n",
    "mesh = reader.read()\n",
    "internal_mesh = mesh[\"internalMesh\"]"
   ]
  },
  {
   "cell_type": "code",
   "execution_count": 15,
   "metadata": {},
   "outputs": [],
   "source": [
    "# mesh.plot()"
   ]
  },
  {
   "cell_type": "code",
   "execution_count": 16,
   "metadata": {},
   "outputs": [
    {
     "data": {
      "text/plain": [
       "pyvista.core.composite.MultiBlock"
      ]
     },
     "execution_count": 16,
     "metadata": {},
     "output_type": "execute_result"
    }
   ],
   "source": [
    "type(mesh)"
   ]
  },
  {
   "cell_type": "code",
   "execution_count": 17,
   "metadata": {},
   "outputs": [
    {
     "data": {
      "text/plain": [
       "float"
      ]
     },
     "execution_count": 17,
     "metadata": {},
     "output_type": "execute_result"
    }
   ],
   "source": [
    "type(reader.time_values[0])"
   ]
  },
  {
   "cell_type": "code",
   "execution_count": 18,
   "metadata": {},
   "outputs": [
    {
     "data": {
      "text/plain": [
       "pyvista.utilities.reader.OpenFOAMReader"
      ]
     },
     "execution_count": 18,
     "metadata": {},
     "output_type": "execute_result"
    }
   ],
   "source": [
    "type(reader)"
   ]
  },
  {
   "cell_type": "code",
   "execution_count": 19,
   "metadata": {},
   "outputs": [
    {
     "data": {
      "text/plain": [
       "pyvista.core.pointset.UnstructuredGrid"
      ]
     },
     "execution_count": 19,
     "metadata": {},
     "output_type": "execute_result"
    }
   ],
   "source": [
    "type(internal_mesh)"
   ]
  },
  {
   "cell_type": "code",
   "execution_count": 20,
   "metadata": {},
   "outputs": [
    {
     "data": {
      "text/plain": [
       "[('N Cells', 62188, '{}'),\n",
       " ('N Points', 77648, '{}'),\n",
       " ('X Bounds', (-1.5, 1.5), '{:.3e}, {:.3e}'),\n",
       " ('Y Bounds', (0.009999999776482582, 3.0), '{:.3e}, {:.3e}'),\n",
       " ('Z Bounds', (-1.5, 1.5), '{:.3e}, {:.3e}')]"
      ]
     },
     "execution_count": 20,
     "metadata": {},
     "output_type": "execute_result"
    }
   ],
   "source": [
    "internal_mesh._get_attrs()"
   ]
  },
  {
   "cell_type": "code",
   "execution_count": 21,
   "metadata": {},
   "outputs": [
    {
     "data": {
      "text/plain": [
       "('Y Bounds', (0.009999999776482582, 3.0), '{:.3e}, {:.3e}')"
      ]
     },
     "execution_count": 21,
     "metadata": {},
     "output_type": "execute_result"
    }
   ],
   "source": [
    "internal_mesh._get_attrs()[3]"
   ]
  },
  {
   "cell_type": "code",
   "execution_count": 22,
   "metadata": {},
   "outputs": [
    {
     "data": {
      "text/plain": [
       "0.009999999776482582"
      ]
     },
     "execution_count": 22,
     "metadata": {},
     "output_type": "execute_result"
    }
   ],
   "source": [
    "internal_mesh._get_attrs()[3][1][0]"
   ]
  },
  {
   "cell_type": "code",
   "execution_count": 23,
   "metadata": {},
   "outputs": [
    {
     "data": {
      "text/plain": [
       "(-1.5, 1.5, 0.009999999776482582, 3.0, -1.5, 1.5)"
      ]
     },
     "execution_count": 23,
     "metadata": {},
     "output_type": "execute_result"
    }
   ],
   "source": [
    "from openfoam.post import get_bbox\n",
    "\n",
    "\n",
    "get_bbox(internal_mesh)"
   ]
  },
  {
   "cell_type": "code",
   "execution_count": 24,
   "metadata": {},
   "outputs": [
    {
     "data": {
      "text/html": [
       "<table><tr><th>Header</th><th>Data Arrays</th></tr><tr><td>\n",
       "<table>\n",
       "<tr><th>UnstructuredGrid</th><th>Information</th></tr>\n",
       "<tr><td>N Cells</td><td>62188</td></tr>\n",
       "<tr><td>N Points</td><td>77648</td></tr>\n",
       "<tr><td>X Bounds</td><td>-1.500e+00, 1.500e+00</td></tr>\n",
       "<tr><td>Y Bounds</td><td>1.000e-02, 3.000e+00</td></tr>\n",
       "<tr><td>Z Bounds</td><td>-1.500e+00, 1.500e+00</td></tr>\n",
       "<tr><td>N Arrays</td><td>10</td></tr>\n",
       "</table>\n",
       "\n",
       "</td><td>\n",
       "<table>\n",
       "<tr><th>Name</th><th>Field</th><th>Type</th><th>N Comp</th><th>Min</th><th>Max</th></tr>\n",
       "<tr><td>U</td><td>Points</td><td>float32</td><td>3</td><td>-1.568e+01</td><td>2.416e+01</td></tr>\n",
       "<tr><td>epsilon</td><td>Points</td><td>float32</td><td>1</td><td>3.000e-02</td><td>2.677e+04</td></tr>\n",
       "<tr><td>k</td><td>Points</td><td>float32</td><td>1</td><td>2.192e-01</td><td>1.269e+02</td></tr>\n",
       "<tr><td>nut</td><td>Points</td><td>float32</td><td>1</td><td>3.294e-05</td><td>9.538e+00</td></tr>\n",
       "<tr><td><b>p</b></td><td>Points</td><td>float32</td><td>1</td><td>-2.141e+02</td><td>2.917e+02</td></tr>\n",
       "<tr><td>U</td><td>Cells</td><td>float32</td><td>3</td><td>-1.995e+01</td><td>2.437e+01</td></tr>\n",
       "<tr><td>epsilon</td><td>Cells</td><td>float32</td><td>1</td><td>3.284e-02</td><td>3.581e+04</td></tr>\n",
       "<tr><td>k</td><td>Cells</td><td>float32</td><td>1</td><td>2.102e-01</td><td>1.276e+02</td></tr>\n",
       "<tr><td>nut</td><td>Cells</td><td>float32</td><td>1</td><td>2.726e-04</td><td>9.546e+00</td></tr>\n",
       "<tr><td><b>p</b></td><td>Cells</td><td>float32</td><td>1</td><td>-2.929e+02</td><td>3.335e+02</td></tr>\n",
       "</table>\n",
       "\n",
       "</td></tr> </table>"
      ],
      "text/plain": [
       "UnstructuredGrid (0x20968d06f80)\n",
       "  N Cells:    62188\n",
       "  N Points:   77648\n",
       "  X Bounds:   -1.500e+00, 1.500e+00\n",
       "  Y Bounds:   1.000e-02, 3.000e+00\n",
       "  Z Bounds:   -1.500e+00, 1.500e+00\n",
       "  N Arrays:   10"
      ]
     },
     "execution_count": 24,
     "metadata": {},
     "output_type": "execute_result"
    }
   ],
   "source": [
    "internal_mesh"
   ]
  },
  {
   "cell_type": "code",
   "execution_count": 25,
   "metadata": {},
   "outputs": [
    {
     "data": {
      "text/html": [
       "<table><tr><th>Header</th><th>Data Arrays</th></tr><tr><td>\n",
       "<table>\n",
       "<tr><th>StructuredGrid</th><th>Information</th></tr>\n",
       "<tr><td>N Cells</td><td>3375</td></tr>\n",
       "<tr><td>N Points</td><td>4096</td></tr>\n",
       "<tr><td>X Bounds</td><td>-1.387e+00, 1.387e+00</td></tr>\n",
       "<tr><td>Y Bounds</td><td>9.250e-02, 2.867e+00</td></tr>\n",
       "<tr><td>Z Bounds</td><td>-1.387e+00, 1.387e+00</td></tr>\n",
       "<tr><td>Dimensions</td><td>16, 16, 16</td></tr>\n",
       "<tr><td>N Arrays</td><td>5</td></tr>\n",
       "</table>\n",
       "\n",
       "</td><td>\n",
       "<table>\n",
       "<tr><th>Name</th><th>Field</th><th>Type</th><th>N Comp</th><th>Min</th><th>Max</th></tr>\n",
       "<tr><td>U</td><td>Points</td><td>float32</td><td>3</td><td>-3.739e+00</td><td>1.592e+01</td></tr>\n",
       "<tr><td>epsilon</td><td>Points</td><td>float32</td><td>1</td><td>2.173e+00</td><td>1.477e+03</td></tr>\n",
       "<tr><td>k</td><td>Points</td><td>float32</td><td>1</td><td>1.700e+00</td><td>6.922e+01</td></tr>\n",
       "<tr><td>nut</td><td>Points</td><td>float32</td><td>1</td><td>3.873e-02</td><td>5.914e+00</td></tr>\n",
       "<tr><td><b>p</b></td><td>Points</td><td>float32</td><td>1</td><td>-4.383e+01</td><td>1.894e+02</td></tr>\n",
       "</table>\n",
       "\n",
       "</td></tr> </table>"
      ],
      "text/plain": [
       "StructuredGrid (0x209693514e0)\n",
       "  N Cells:      3375\n",
       "  N Points:     4096\n",
       "  X Bounds:     -1.387e+00, 1.387e+00\n",
       "  Y Bounds:     9.250e-02, 2.867e+00\n",
       "  Z Bounds:     -1.387e+00, 1.387e+00\n",
       "  Dimensions:   16, 16, 16\n",
       "  N Arrays:     5"
      ]
     },
     "execution_count": 25,
     "metadata": {},
     "output_type": "execute_result"
    }
   ],
   "source": [
    "from openfoam.post import spatial_sample_\n",
    "\n",
    "\n",
    "b_box = [-1.5, 1.5, 0, 3, -1.5, 1.5]\n",
    "\n",
    "sampled = spatial_sample_(FILE_PATH, b_box, 0.185)\n",
    "sampled"
   ]
  },
  {
   "cell_type": "code",
   "execution_count": 26,
   "metadata": {},
   "outputs": [
    {
     "ename": "ValueError",
     "evalue": "cannot reshape array of size 12288 into shape (3,15,15,15)",
     "output_type": "error",
     "traceback": [
      "\u001b[1;31m---------------------------------------------------------------------------\u001b[0m",
      "\u001b[1;31mValueError\u001b[0m                                Traceback (most recent call last)",
      "Cell \u001b[1;32mIn[26], line 1\u001b[0m\n\u001b[1;32m----> 1\u001b[0m sampled[\u001b[39m\"\u001b[39;49m\u001b[39mU\u001b[39;49m\u001b[39m\"\u001b[39;49m]\u001b[39m.\u001b[39;49mreshape((\u001b[39m3\u001b[39;49m, \u001b[39m15\u001b[39;49m, \u001b[39m15\u001b[39;49m, \u001b[39m15\u001b[39;49m))\n",
      "\u001b[1;31mValueError\u001b[0m: cannot reshape array of size 12288 into shape (3,15,15,15)"
     ]
    }
   ],
   "source": [
    "sampled[\"U\"].reshape((3, 15, 15, 15))"
   ]
  },
  {
   "cell_type": "code",
   "execution_count": null,
   "metadata": {},
   "outputs": [
    {
     "data": {
      "text/plain": [
       "pyvista.core.pointset.StructuredGrid"
      ]
     },
     "execution_count": 20,
     "metadata": {},
     "output_type": "execute_result"
    }
   ],
   "source": [
    "type(sampled)"
   ]
  },
  {
   "cell_type": "code",
   "execution_count": null,
   "metadata": {},
   "outputs": [
    {
     "data": {
      "text/plain": [
       "pyvista.core.pointset.StructuredGrid"
      ]
     },
     "execution_count": 21,
     "metadata": {},
     "output_type": "execute_result"
    }
   ],
   "source": [
    "type(sampled)"
   ]
  },
  {
   "cell_type": "code",
   "execution_count": null,
   "metadata": {},
   "outputs": [
    {
     "name": "stdout",
     "output_type": "stream",
     "text": [
      "<class 'pyvista.core.pyvista_ndarray.pyvista_ndarray'>\n"
     ]
    },
    {
     "data": {
      "text/plain": [
       "pyvista_ndarray([[ 2.2390141 , -0.50837547, -1.222868  ],\n",
       "                 [ 2.2599409 , -0.57924896, -1.2229254 ],\n",
       "                 [ 2.2949314 , -0.65328676, -1.2153988 ],\n",
       "                 ...,\n",
       "                 [ 6.101565  , -0.63350886, -0.10682932],\n",
       "                 [ 5.396949  , -0.44429392, -0.06287695],\n",
       "                 [ 4.805408  , -0.2977851 , -0.03961771]], dtype=float32)"
      ]
     },
     "execution_count": 22,
     "metadata": {},
     "output_type": "execute_result"
    }
   ],
   "source": [
    "print(type(sampled[\"U\"]))\n",
    "sampled[\"U\"]"
   ]
  },
  {
   "cell_type": "code",
   "execution_count": null,
   "metadata": {},
   "outputs": [
    {
     "name": "stdout",
     "output_type": "stream",
     "text": [
      "<class 'vtkmodules.vtkCommonCore.vtkTypeFloat32Array'>\n",
      "vtkTypeFloat32Array (000001EE0D70B070)\n",
      "  Debug: Off\n",
      "  Modified Time: 7526\n",
      "  Reference Count: 1\n",
      "  Registered Events: (none)\n",
      "  Name: (none)\n",
      "  Data type: float\n",
      "  Size: 10125\n",
      "  MaxId: 10124\n",
      "  NumberOfComponents: 3\n",
      "  Information: 0000000000000000\n",
      "  Name: (none)\n",
      "  Number Of Components: 3\n",
      "  Number Of Tuples: 3375\n",
      "  Size: 10125\n",
      "  MaxId: 10124\n",
      "  LookupTable: (none)\n",
      "\n",
      "\n"
     ]
    }
   ],
   "source": [
    "from pyvista import convert_array\n",
    "\n",
    "\n",
    "converted = convert_array(sampled[\"U\"])\n",
    "print(type(converted))\n",
    "print(converted)"
   ]
  },
  {
   "cell_type": "code",
   "execution_count": null,
   "metadata": {},
   "outputs": [
    {
     "name": "stdout",
     "output_type": "stream",
     "text": [
      "<class 'numpy.ndarray'>\n"
     ]
    }
   ],
   "source": [
    "print(type(convert_array(converted)))"
   ]
  },
  {
   "cell_type": "code",
   "execution_count": null,
   "metadata": {},
   "outputs": [
    {
     "data": {
      "text/plain": [
       "pyvista.core.pyvista_ndarray.pyvista_ndarray"
      ]
     },
     "execution_count": 25,
     "metadata": {},
     "output_type": "execute_result"
    }
   ],
   "source": [
    "type(sampled[\"U\"])"
   ]
  },
  {
   "cell_type": "code",
   "execution_count": null,
   "metadata": {},
   "outputs": [
    {
     "name": "stdout",
     "output_type": "stream",
     "text": [
      "<class 'numpy.ndarray'>\n",
      "[[ 0.8607115  -0.19542736 -0.47008926]\n",
      " [ 0.8579602  -0.21990512 -0.46426937]\n",
      " [ 0.85701674 -0.2439627  -0.4538772 ]\n",
      " ...\n",
      " [ 0.9945023  -0.10325646 -0.01741226]\n",
      " [ 0.9965614  -0.08204009 -0.0116104 ]\n",
      " [ 0.99805164 -0.06184801 -0.00822834]]\n"
     ]
    }
   ],
   "source": [
    "from sklearn.preprocessing import normalize\n",
    "\n",
    "\n",
    "normalized = normalize(sampled[\"U\"])\n",
    "print(type(normalized))\n",
    "print(normalized)"
   ]
  },
  {
   "cell_type": "code",
   "execution_count": null,
   "metadata": {},
   "outputs": [
    {
     "name": "stdout",
     "output_type": "stream",
     "text": [
      "[[ 1.]\n",
      " [-1.]\n",
      " [-1.]\n",
      " ...\n",
      " [ 1.]\n",
      " [-1.]\n",
      " [-1.]]\n"
     ]
    }
   ],
   "source": [
    "from openfoam.post import normalize_upk\n",
    "\n",
    "\n",
    "nu, np, nk = normalize_upk(sampled)\n",
    "print(nu)"
   ]
  },
  {
   "cell_type": "code",
   "execution_count": null,
   "metadata": {},
   "outputs": [
    {
     "name": "stdout",
     "output_type": "stream",
     "text": [
      "<class 'numpy.ndarray'>\n",
      "[[1.]\n",
      " [1.]\n",
      " [1.]\n",
      " ...\n",
      " [1.]\n",
      " [1.]\n",
      " [1.]]\n"
     ]
    }
   ],
   "source": [
    "normalized = normalize(sampled[\"p\"].reshape(-1,1))\n",
    "print(type(normalized))\n",
    "print(normalized)"
   ]
  },
  {
   "cell_type": "code",
   "execution_count": null,
   "metadata": {},
   "outputs": [
    {
     "ename": "ImportError",
     "evalue": "cannot import name 'rms' from 'openfoam.post' (c:\\Users\\pale\\repos\\pygan\\openfoam\\post.py)",
     "output_type": "error",
     "traceback": [
      "\u001b[1;31m---------------------------------------------------------------------------\u001b[0m",
      "\u001b[1;31mImportError\u001b[0m                               Traceback (most recent call last)",
      "Cell \u001b[1;32mIn[29], line 1\u001b[0m\n\u001b[1;32m----> 1\u001b[0m \u001b[39mfrom\u001b[39;00m \u001b[39mopenfoam\u001b[39;00m\u001b[39m.\u001b[39;00m\u001b[39mpost\u001b[39;00m \u001b[39mimport\u001b[39;00m rms\n\u001b[0;32m      3\u001b[0m rms_of_sampled(sampled, sampled)\n",
      "\u001b[1;31mImportError\u001b[0m: cannot import name 'rms' from 'openfoam.post' (c:\\Users\\pale\\repos\\pygan\\openfoam\\post.py)"
     ]
    }
   ],
   "source": [
    "from openfoam.post import rms\n",
    "\n",
    "rms_of_sampled(sampled, sampled)"
   ]
  },
  {
   "cell_type": "code",
   "execution_count": null,
   "metadata": {},
   "outputs": [],
   "source": []
  }
 ],
 "metadata": {
  "kernelspec": {
   "display_name": "venv",
   "language": "python",
   "name": "python3"
  },
  "language_info": {
   "codemirror_mode": {
    "name": "ipython",
    "version": 3
   },
   "file_extension": ".py",
   "mimetype": "text/x-python",
   "name": "python",
   "nbconvert_exporter": "python",
   "pygments_lexer": "ipython3",
   "version": "3.11.4"
  },
  "orig_nbformat": 4
 },
 "nbformat": 4,
 "nbformat_minor": 2
}
