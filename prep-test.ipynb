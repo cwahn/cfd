{
 "cells": [
  {
   "cell_type": "code",
   "execution_count": 1,
   "metadata": {},
   "outputs": [],
   "source": [
    "from prep import *"
   ]
  },
  {
   "cell_type": "code",
   "execution_count": 2,
   "metadata": {},
   "outputs": [
    {
     "data": {
      "text/plain": [
       "pyvista.core.pointset.PolyData"
      ]
     },
     "execution_count": 2,
     "metadata": {},
     "output_type": "execute_result"
    }
   ],
   "source": [
    "mesh = read_stl(\"./data/darkstarSplited.stl\")\n",
    "type(mesh)"
   ]
  },
  {
   "cell_type": "code",
   "execution_count": 3,
   "metadata": {},
   "outputs": [],
   "source": [
    "save_stl(mesh, \"./data/darkstarSaved.stl\")"
   ]
  },
  {
   "cell_type": "code",
   "execution_count": 4,
   "metadata": {},
   "outputs": [],
   "source": [
    "mesh.plot()"
   ]
  },
  {
   "cell_type": "code",
   "execution_count": 5,
   "metadata": {},
   "outputs": [],
   "source": [
    "rotated = rotate(mesh, (0, 0, 1), 180, (0, 0, 0))\n",
    "rotated.plot()"
   ]
  },
  {
   "cell_type": "code",
   "execution_count": 6,
   "metadata": {},
   "outputs": [
    {
     "data": {
      "text/plain": [
       "[(-50, -10, -20),\n",
       " (100, -10, -20),\n",
       " (100, 10, -20),\n",
       " (-50, 10, -20),\n",
       " (-50, -10, 20),\n",
       " (100, -10, 20),\n",
       " (100, 10, 20),\n",
       " (-50, 10, 20)]"
      ]
     },
     "execution_count": 6,
     "metadata": {},
     "output_type": "execute_result"
    }
   ],
   "source": [
    "ps = get_points(-50, 100, -10, +10, -20, 20)\n",
    "ps"
   ]
  },
  {
   "attachments": {},
   "cell_type": "markdown",
   "metadata": {},
   "source": []
  },
  {
   "cell_type": "code",
   "execution_count": 7,
   "metadata": {},
   "outputs": [
    {
     "data": {
      "text/plain": [
       "['solid xMin',\n",
       " ' facet normal -1 0 0',\n",
       " '  outer loop',\n",
       " '    vertex -50 -10 -20',\n",
       " '    vertex -50 -10 20',\n",
       " '    vertex -50 10 20',\n",
       " '  endloop',\n",
       " ' endfacet',\n",
       " ' facet normal -1 0 0',\n",
       " '  outer loop',\n",
       " '    vertex -50 -10 -20',\n",
       " '    vertex -50 10 -20',\n",
       " '    vertex -50 10 20',\n",
       " '  endloop',\n",
       " ' endfacet',\n",
       " 'endsolid']"
      ]
     },
     "execution_count": 7,
     "metadata": {},
     "output_type": "execute_result"
    }
   ],
   "source": [
    "get_face_stl(ps, 0)"
   ]
  },
  {
   "cell_type": "code",
   "execution_count": 8,
   "metadata": {},
   "outputs": [
    {
     "data": {
      "text/plain": [
       "['solid xMin',\n",
       " ' facet normal -1 0 0',\n",
       " '  outer loop',\n",
       " '    vertex -50 -10 -20',\n",
       " '    vertex -50 -10 20',\n",
       " '    vertex -50 10 20',\n",
       " '  endloop',\n",
       " ' endfacet',\n",
       " ' facet normal -1 0 0',\n",
       " '  outer loop',\n",
       " '    vertex -50 -10 -20',\n",
       " '    vertex -50 10 -20',\n",
       " '    vertex -50 10 20',\n",
       " '  endloop',\n",
       " ' endfacet',\n",
       " 'endsolid',\n",
       " 'solid xMax',\n",
       " ' facet normal 1 0 0',\n",
       " '  outer loop',\n",
       " '    vertex 100 -10 -20',\n",
       " '    vertex 100 10 -20',\n",
       " '    vertex 100 10 20',\n",
       " '  endloop',\n",
       " ' endfacet',\n",
       " ' facet normal 1 0 0',\n",
       " '  outer loop',\n",
       " '    vertex 100 -10 -20',\n",
       " '    vertex 100 10 20',\n",
       " '    vertex 100 -10 20',\n",
       " '  endloop',\n",
       " ' endfacet',\n",
       " 'endsolid',\n",
       " 'solid yMin',\n",
       " ' facet normal 0 -1 0',\n",
       " '  outer loop',\n",
       " '    vertex -50 -10 -20',\n",
       " '    vertex 100 -10 -20',\n",
       " '    vertex 100 -10 20',\n",
       " '  endloop',\n",
       " ' endfacet',\n",
       " ' facet normal 0 -1 0',\n",
       " '  outer loop',\n",
       " '    vertex -50 -10 -20',\n",
       " '    vertex 100 -10 20',\n",
       " '    vertex -50 -10 20',\n",
       " '  endloop',\n",
       " ' endfacet',\n",
       " 'endsolid',\n",
       " 'solid yMax',\n",
       " ' facet normal 0 1 0',\n",
       " '  outer loop',\n",
       " '    vertex 100 10 -20',\n",
       " '    vertex -50 10 -20',\n",
       " '    vertex -50 10 20',\n",
       " '  endloop',\n",
       " ' endfacet',\n",
       " ' facet normal 0 1 0',\n",
       " '  outer loop',\n",
       " '    vertex 100 10 -20',\n",
       " '    vertex -50 10 20',\n",
       " '    vertex 100 10 20',\n",
       " '  endloop',\n",
       " ' endfacet',\n",
       " 'endsolid',\n",
       " 'solid zMin',\n",
       " ' facet normal 0 0 -1',\n",
       " '  outer loop',\n",
       " '    vertex -50 -10 -20',\n",
       " '    vertex -50 10 -20',\n",
       " '    vertex 100 10 -20',\n",
       " '  endloop',\n",
       " ' endfacet',\n",
       " ' facet normal 0 0 -1',\n",
       " '  outer loop',\n",
       " '    vertex -50 -10 -20',\n",
       " '    vertex 100 10 -20',\n",
       " '    vertex 100 -10 -20',\n",
       " '  endloop',\n",
       " ' endfacet',\n",
       " 'endsolid',\n",
       " 'solid zMax',\n",
       " ' facet normal 0 0 1',\n",
       " '  outer loop',\n",
       " '    vertex -50 -10 20',\n",
       " '    vertex 100 -10 20',\n",
       " '    vertex 100 10 20',\n",
       " '  endloop',\n",
       " ' endfacet',\n",
       " ' facet normal 0 0 1',\n",
       " '  outer loop',\n",
       " '    vertex -50 -10 20',\n",
       " '    vertex 100 10 20',\n",
       " '    vertex -50 10 20',\n",
       " '  endloop',\n",
       " ' endfacet',\n",
       " 'endsolid']"
      ]
     },
     "execution_count": 8,
     "metadata": {},
     "output_type": "execute_result"
    }
   ],
   "source": [
    "get_faces_stl(ps)"
   ]
  },
  {
   "cell_type": "code",
   "execution_count": 9,
   "metadata": {},
   "outputs": [],
   "source": [
    "# save_stl(x_min_surf, \"./data/xmin.stl\")"
   ]
  },
  {
   "cell_type": "code",
   "execution_count": 10,
   "metadata": {},
   "outputs": [],
   "source": [
    "# x_min_surf.faces"
   ]
  },
  {
   "cell_type": "code",
   "execution_count": 11,
   "metadata": {},
   "outputs": [],
   "source": [
    "save_with_boundary(\"./data/test_dsBoxed.stl\", mesh, -50, 100, -10, +10, -20, 20)"
   ]
  },
  {
   "cell_type": "code",
   "execution_count": 12,
   "metadata": {},
   "outputs": [],
   "source": [
    "test_mesh = read_stl(\"./data/test_dsBoxed.stl\")\n",
    "test_mesh.plot()"
   ]
  },
  {
   "cell_type": "code",
   "execution_count": 13,
   "metadata": {},
   "outputs": [
    {
     "name": "stdout",
     "output_type": "stream",
     "text": [
      "./output/darkstarPrepared.stl\n"
     ]
    }
   ],
   "source": [
    "prepare(\n",
    "    \"./data/darkstar.stl\",\n",
    "    \"./output/darkstarPrepared.stl\",\n",
    "    (0, 0, 1),\n",
    "    -10,\n",
    "    (0, 0, 0),\n",
    "    -50, 100, -10, +10, -20, 20\n",
    ")"
   ]
  },
  {
   "cell_type": "code",
   "execution_count": 14,
   "metadata": {},
   "outputs": [
    {
     "data": {
      "application/vnd.jupyter.widget-view+json": {
       "model_id": "94c4841bf09045148941cae50dc1d076",
       "version_major": 2,
       "version_minor": 0
      },
      "text/plain": [
       "Widget(value=\"<iframe src='http://localhost:57008/index.html?ui=P_0x1728bc910_0&reconnect=auto' style='width: …"
      ]
     },
     "metadata": {},
     "output_type": "display_data"
    }
   ],
   "source": [
    "prepared = read_stl(\"./output/darkstarPrepared.stl\")\n",
    "prepared.plot()"
   ]
  },
  {
   "cell_type": "code",
   "execution_count": null,
   "metadata": {},
   "outputs": [],
   "source": []
  }
 ],
 "metadata": {
  "kernelspec": {
   "display_name": "venv",
   "language": "python",
   "name": "python3"
  },
  "language_info": {
   "codemirror_mode": {
    "name": "ipython",
    "version": 3
   },
   "file_extension": ".py",
   "mimetype": "text/x-python",
   "name": "python",
   "nbconvert_exporter": "python",
   "pygments_lexer": "ipython3",
   "version": "3.9.6"
  },
  "orig_nbformat": 4
 },
 "nbformat": 4,
 "nbformat_minor": 2
}
