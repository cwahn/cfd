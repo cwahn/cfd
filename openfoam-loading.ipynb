{
 "cells": [
  {
   "cell_type": "code",
   "execution_count": 1,
   "metadata": {},
   "outputs": [],
   "source": [
    "from pyvista import OpenFOAMReader\n",
    "\n",
    "\n",
    "# FILE_PATH = \"./data/results/windAroundBuildingsOld/open.foam\"\n",
    "FILE_PATH = \"./data/results/buildingWindRef/open.foam\"\n",
    "\n",
    "\n",
    "reader = OpenFOAMReader(FILE_PATH)"
   ]
  },
  {
   "cell_type": "code",
   "execution_count": 2,
   "metadata": {},
   "outputs": [
    {
     "name": "stdout",
     "output_type": "stream",
     "text": [
      "All patch names: ['internalMesh', 'patch/inlet', 'patch/outlet', 'patch/ground', 'patch/object', 'patch/fixedWalls']\n",
      "All patch status: {'internalMesh': True, 'patch/inlet': True, 'patch/outlet': True, 'patch/ground': True, 'patch/object': True, 'patch/fixedWalls': True}\n"
     ]
    }
   ],
   "source": [
    "print(f\"All patch names: {reader.patch_array_names}\")\n",
    "print(f\"All patch status: {reader.all_patch_arrays_status}\")"
   ]
  },
  {
   "cell_type": "code",
   "execution_count": 3,
   "metadata": {},
   "outputs": [
    {
     "name": "stderr",
     "output_type": "stream",
     "text": [
      "\u001b[0m\u001b[31m2023-06-17 23:32:15.567 (   1.068s) [          162BE3]  vtkOpenFOAMReader.cxx:8654   ERR| vtkOpenFOAMReaderPrivate (0x137cdae90): Error reading line 28 of ./data/results/buildingWindRef/0/U: Expected number, string or ( for uniform entry, found Uinlet\u001b[0m\n",
      "ERROR:root:Error reading line 28 of ./data/results/buildingWindRef/0/U: Expected number, string or ( for uniform entry, found Uinlet\n",
      "ERROR:root:Error reading line 21 of ./data/results/buildingWindRef/0/epsilon: Expected number, string or ( for uniform entry, found epsilonInlet\n",
      "\u001b[0m\u001b[31m2023-06-17 23:32:15.568 (   1.069s) [          162BE3]  vtkOpenFOAMReader.cxx:8654   ERR| vtkOpenFOAMReaderPrivate (0x137cdae90): Error reading line 21 of ./data/results/buildingWindRef/0/epsilon: Expected number, string or ( for uniform entry, found epsilonInlet\u001b[0m\n",
      "ERROR:root:Error reading line 21 of ./data/results/buildingWindRef/0/k: Expected number, string or ( for uniform entry, found kInlet\n",
      "\u001b[0m\u001b[31m2023-06-17 23:32:15.569 (   1.070s) [          162BE3]  vtkOpenFOAMReader.cxx:8654   ERR| vtkOpenFOAMReaderPrivate (0x137cdae90): Error reading line 21 of ./data/results/buildingWindRef/0/k: Expected number, string or ( for uniform entry, found kInlet\u001b[0m\n",
      "ERROR:root:Error reading line 70 of ./data/results/buildingWindRef/0/nut: Unsupported directive includeEtc\n",
      "\u001b[0m\u001b[31m2023-06-17 23:32:15.569 (   1.071s) [          162BE3]  vtkOpenFOAMReader.cxx:8654   ERR| vtkOpenFOAMReaderPrivate (0x137cdae90): Error reading line 70 of ./data/results/buildingWindRef/0/nut: Unsupported directive includeEtc\u001b[0m\n",
      "ERROR:root:Error reading line 66 of ./data/results/buildingWindRef/0/p: Unsupported directive includeEtc\n",
      "\u001b[0m\u001b[31m2023-06-17 23:32:15.570 (   1.072s) [          162BE3]  vtkOpenFOAMReader.cxx:8654   ERR| vtkOpenFOAMReaderPrivate (0x137cdae90): Error reading line 66 of ./data/results/buildingWindRef/0/p: Unsupported directive includeEtc\u001b[0m\n"
     ]
    }
   ],
   "source": [
    "mesh = reader.read()\n",
    "internal_mesh = mesh[\"internalMesh\"]  # or internal_mesh = mesh[0]"
   ]
  },
  {
   "cell_type": "code",
   "execution_count": 4,
   "metadata": {},
   "outputs": [
    {
     "name": "stdout",
     "output_type": "stream",
     "text": [
      "Mesh patches: ['internalMesh', 'boundary']\n"
     ]
    }
   ],
   "source": [
    "print(f\"Mesh patches: {mesh.keys()}\")"
   ]
  },
  {
   "cell_type": "code",
   "execution_count": 5,
   "metadata": {},
   "outputs": [
    {
     "name": "stdout",
     "output_type": "stream",
     "text": [
      "UnstructuredGrid (0x111d81c60)\n",
      "  N Cells:    2075341\n",
      "  N Points:   2332548\n",
      "  X Bounds:   -1.000e+03, 1.000e+03\n",
      "  Y Bounds:   -1.354e+00, 1.000e+03\n",
      "  Z Bounds:   -1.000e+03, 1.000e+03\n",
      "  N Arrays:   0\n"
     ]
    }
   ],
   "source": [
    "print(internal_mesh)"
   ]
  },
  {
   "cell_type": "code",
   "execution_count": 6,
   "metadata": {},
   "outputs": [
    {
     "name": "stdout",
     "output_type": "stream",
     "text": [
      "pyvista DataSetAttributes\n",
      "Association     : CELL\n",
      "Active Scalars  : None\n",
      "Active Vectors  : None\n",
      "Active Texture  : None\n",
      "Active Normals  : None\n",
      "Contains arrays : None\n",
      "pyvista DataSetAttributes\n",
      "Association     : POINT\n",
      "Active Scalars  : None\n",
      "Active Vectors  : None\n",
      "Active Texture  : None\n",
      "Active Normals  : None\n",
      "Contains arrays : None\n",
      "Available Time Values: [0.0, 50.0]\n"
     ]
    }
   ],
   "source": [
    "print(internal_mesh.cell_data)\n",
    "print(internal_mesh.point_data)\n",
    "print(f\"Available Time Values: {reader.time_values}\")\n",
    "reader.set_active_time_value(50)\n",
    "mesh = reader.read()\n",
    "internal_mesh = mesh[\"internalMesh\"]"
   ]
  },
  {
   "cell_type": "code",
   "execution_count": 7,
   "metadata": {},
   "outputs": [],
   "source": [
    "# mesh.plot()"
   ]
  },
  {
   "cell_type": "code",
   "execution_count": 8,
   "metadata": {},
   "outputs": [
    {
     "data": {
      "text/plain": [
       "pyvista.core.composite.MultiBlock"
      ]
     },
     "execution_count": 8,
     "metadata": {},
     "output_type": "execute_result"
    }
   ],
   "source": [
    "type(mesh)"
   ]
  },
  {
   "cell_type": "code",
   "execution_count": 9,
   "metadata": {},
   "outputs": [
    {
     "data": {
      "text/plain": [
       "float"
      ]
     },
     "execution_count": 9,
     "metadata": {},
     "output_type": "execute_result"
    }
   ],
   "source": [
    "type(reader.time_values[0])"
   ]
  },
  {
   "cell_type": "code",
   "execution_count": 10,
   "metadata": {},
   "outputs": [
    {
     "data": {
      "text/plain": [
       "pyvista.utilities.reader.OpenFOAMReader"
      ]
     },
     "execution_count": 10,
     "metadata": {},
     "output_type": "execute_result"
    }
   ],
   "source": [
    "type(reader)"
   ]
  },
  {
   "cell_type": "code",
   "execution_count": 11,
   "metadata": {},
   "outputs": [
    {
     "data": {
      "text/plain": [
       "pyvista.core.pointset.UnstructuredGrid"
      ]
     },
     "execution_count": 11,
     "metadata": {},
     "output_type": "execute_result"
    }
   ],
   "source": [
    "type(internal_mesh)"
   ]
  },
  {
   "cell_type": "code",
   "execution_count": 12,
   "metadata": {},
   "outputs": [
    {
     "data": {
      "text/plain": [
       "[('N Cells', 2075341, '{}'),\n",
       " ('N Points', 2332548, '{}'),\n",
       " ('X Bounds', (-1000.0, 1000.0), '{:.3e}, {:.3e}'),\n",
       " ('Y Bounds', (-1.3538024425506592, 1000.0), '{:.3e}, {:.3e}'),\n",
       " ('Z Bounds', (-1000.0, 1000.0), '{:.3e}, {:.3e}')]"
      ]
     },
     "execution_count": 12,
     "metadata": {},
     "output_type": "execute_result"
    }
   ],
   "source": [
    "internal_mesh._get_attrs()"
   ]
  },
  {
   "cell_type": "code",
   "execution_count": 13,
   "metadata": {},
   "outputs": [
    {
     "data": {
      "text/plain": [
       "('Y Bounds', (-1.3538024425506592, 1000.0), '{:.3e}, {:.3e}')"
      ]
     },
     "execution_count": 13,
     "metadata": {},
     "output_type": "execute_result"
    }
   ],
   "source": [
    "internal_mesh._get_attrs()[3]"
   ]
  },
  {
   "cell_type": "code",
   "execution_count": 14,
   "metadata": {},
   "outputs": [
    {
     "data": {
      "text/plain": [
       "-1.3538024425506592"
      ]
     },
     "execution_count": 14,
     "metadata": {},
     "output_type": "execute_result"
    }
   ],
   "source": [
    "internal_mesh._get_attrs()[3][1][0]"
   ]
  },
  {
   "cell_type": "code",
   "execution_count": 15,
   "metadata": {},
   "outputs": [
    {
     "data": {
      "text/plain": [
       "(-1000.0, 1000.0, -1.3538024425506592, 1000.0, -1000.0, 1000.0)"
      ]
     },
     "execution_count": 15,
     "metadata": {},
     "output_type": "execute_result"
    }
   ],
   "source": [
    "from openfoam.post import get_bbox\n",
    "\n",
    "\n",
    "get_bbox(internal_mesh)"
   ]
  },
  {
   "cell_type": "code",
   "execution_count": 16,
   "metadata": {},
   "outputs": [
    {
     "data": {
      "text/html": [
       "<table><tr><th>Header</th><th>Data Arrays</th></tr><tr><td>\n",
       "<table>\n",
       "<tr><th>UnstructuredGrid</th><th>Information</th></tr>\n",
       "<tr><td>N Cells</td><td>2075341</td></tr>\n",
       "<tr><td>N Points</td><td>2332548</td></tr>\n",
       "<tr><td>X Bounds</td><td>-1.000e+03, 1.000e+03</td></tr>\n",
       "<tr><td>Y Bounds</td><td>-1.354e+00, 1.000e+03</td></tr>\n",
       "<tr><td>Z Bounds</td><td>-1.000e+03, 1.000e+03</td></tr>\n",
       "<tr><td>N Arrays</td><td>10</td></tr>\n",
       "</table>\n",
       "\n",
       "</td><td>\n",
       "<table>\n",
       "<tr><th>Name</th><th>Field</th><th>Type</th><th>N Comp</th><th>Min</th><th>Max</th></tr>\n",
       "<tr><td>U</td><td>Points</td><td>float32</td><td>3</td><td>-1.063e+01</td><td>1.282e+01</td></tr>\n",
       "<tr><td>epsilon</td><td>Points</td><td>float32</td><td>1</td><td>8.715e-07</td><td>1.968e+02</td></tr>\n",
       "<tr><td>k</td><td>Points</td><td>float32</td><td>1</td><td>1.904e-05</td><td>2.565e+01</td></tr>\n",
       "<tr><td>nut</td><td>Points</td><td>float32</td><td>1</td><td>0.000e+00</td><td>4.543e+01</td></tr>\n",
       "<tr><td><b>p</b></td><td>Points</td><td>float32</td><td>1</td><td>-1.515e+02</td><td>1.222e+02</td></tr>\n",
       "<tr><td>U</td><td>Cells</td><td>float32</td><td>3</td><td>-1.241e+01</td><td>1.552e+01</td></tr>\n",
       "<tr><td>epsilon</td><td>Cells</td><td>float32</td><td>1</td><td>2.176e-07</td><td>2.801e+02</td></tr>\n",
       "<tr><td>k</td><td>Cells</td><td>float32</td><td>1</td><td>6.490e-06</td><td>2.720e+01</td></tr>\n",
       "<tr><td>nut</td><td>Cells</td><td>float32</td><td>1</td><td>1.293e-05</td><td>4.660e+01</td></tr>\n",
       "<tr><td><b>p</b></td><td>Cells</td><td>float32</td><td>1</td><td>-1.923e+02</td><td>1.412e+02</td></tr>\n",
       "</table>\n",
       "\n",
       "</td></tr> </table>"
      ],
      "text/plain": [
       "UnstructuredGrid (0x17af023e0)\n",
       "  N Cells:    2075341\n",
       "  N Points:   2332548\n",
       "  X Bounds:   -1.000e+03, 1.000e+03\n",
       "  Y Bounds:   -1.354e+00, 1.000e+03\n",
       "  Z Bounds:   -1.000e+03, 1.000e+03\n",
       "  N Arrays:   10"
      ]
     },
     "execution_count": 16,
     "metadata": {},
     "output_type": "execute_result"
    }
   ],
   "source": [
    "internal_mesh"
   ]
  },
  {
   "cell_type": "code",
   "execution_count": 17,
   "metadata": {},
   "outputs": [
    {
     "data": {
      "text/html": [
       "<table><tr><th>Header</th><th>Data Arrays</th></tr><tr><td>\n",
       "<table>\n",
       "<tr><th>StructuredGrid</th><th>Information</th></tr>\n",
       "<tr><td>N Cells</td><td>31522396</td></tr>\n",
       "<tr><td>N Points</td><td>31840200</td></tr>\n",
       "<tr><td>X Bounds</td><td>-9.950e+02, 9.950e+02</td></tr>\n",
       "<tr><td>Y Bounds</td><td>0.000e+00, 9.950e+02</td></tr>\n",
       "<tr><td>Z Bounds</td><td>-9.950e+02, 9.950e+02</td></tr>\n",
       "<tr><td>Dimensions</td><td>200, 399, 399</td></tr>\n",
       "<tr><td>N Arrays</td><td>5</td></tr>\n",
       "</table>\n",
       "\n",
       "</td><td>\n",
       "<table>\n",
       "<tr><th>Name</th><th>Field</th><th>Type</th><th>N Comp</th><th>Min</th><th>Max</th></tr>\n",
       "<tr><td>U</td><td>Points</td><td>float32</td><td>3</td><td>-1.054e+01</td><td>1.238e+01</td></tr>\n",
       "<tr><td>epsilon</td><td>Points</td><td>float32</td><td>1</td><td>0.000e+00</td><td>7.546e+01</td></tr>\n",
       "<tr><td>k</td><td>Points</td><td>float32</td><td>1</td><td>0.000e+00</td><td>2.319e+01</td></tr>\n",
       "<tr><td>nut</td><td>Points</td><td>float32</td><td>1</td><td>0.000e+00</td><td>3.894e+01</td></tr>\n",
       "<tr><td><b>p</b></td><td>Points</td><td>float32</td><td>1</td><td>-1.132e+02</td><td>8.658e+01</td></tr>\n",
       "</table>\n",
       "\n",
       "</td></tr> </table>"
      ],
      "text/plain": [
       "StructuredGrid (0x2c13728c0)\n",
       "  N Cells:      31522396\n",
       "  N Points:     31840200\n",
       "  X Bounds:     -9.950e+02, 9.950e+02\n",
       "  Y Bounds:     0.000e+00, 9.950e+02\n",
       "  Z Bounds:     -9.950e+02, 9.950e+02\n",
       "  Dimensions:   200, 399, 399\n",
       "  N Arrays:     5"
      ]
     },
     "execution_count": 17,
     "metadata": {},
     "output_type": "execute_result"
    }
   ],
   "source": [
    "from openfoam.post import spatial_sample\n",
    "\n",
    "\n",
    "b_box = [-1e3, 1e3, 1e-2, 1e3, -1e3, 1e3]\n",
    "\n",
    "sampled = spatial_sample(FILE_PATH, b_box, 5)\n",
    "sampled"
   ]
  },
  {
   "cell_type": "code",
   "execution_count": 18,
   "metadata": {},
   "outputs": [
    {
     "data": {
      "text/plain": [
       "pyvista_ndarray([[[[0.        , 0.        , 0.        , ...,\n",
       "                    0.        , 0.        , 0.        ],\n",
       "                   [0.        , 0.        , 0.        , ...,\n",
       "                    0.        , 0.        , 0.        ],\n",
       "                   [0.        , 0.        , 0.        , ...,\n",
       "                    0.        , 0.        , 0.        ],\n",
       "                   ...,\n",
       "                   [0.        , 0.        , 0.        , ...,\n",
       "                    0.43510443, 0.00666059, 0.27913767],\n",
       "                   [0.        , 0.        , 0.        , ...,\n",
       "                    0.        , 0.        , 0.        ],\n",
       "                   [0.        , 0.        , 0.        , ...,\n",
       "                    0.        , 0.        , 0.        ]],\n",
       "\n",
       "                  [[0.        , 0.        , 0.        , ...,\n",
       "                    0.        , 0.        , 0.        ],\n",
       "                   [0.        , 0.        , 0.        , ...,\n",
       "                    0.        , 0.        , 0.        ],\n",
       "                   [0.        , 0.        , 0.        , ...,\n",
       "                    0.        , 0.        , 0.        ],\n",
       "                   ...,\n",
       "                   [0.        , 0.        , 0.        , ...,\n",
       "                    0.        , 0.        , 0.        ],\n",
       "                   [0.        , 0.        , 0.        , ...,\n",
       "                    0.        , 0.        , 0.        ],\n",
       "                   [0.        , 0.        , 0.        , ...,\n",
       "                    0.        , 0.        , 0.        ]],\n",
       "\n",
       "                  [[0.        , 0.        , 0.        , ...,\n",
       "                    0.        , 0.        , 0.        ],\n",
       "                   [0.        , 0.        , 0.        , ...,\n",
       "                    0.        , 0.        , 0.        ],\n",
       "                   [0.        , 0.        , 0.        , ...,\n",
       "                    0.        , 0.        , 0.        ],\n",
       "                   ...,\n",
       "                   [0.        , 0.        , 0.        , ...,\n",
       "                    0.        , 0.        , 0.        ],\n",
       "                   [0.        , 0.        , 0.        , ...,\n",
       "                    0.        , 0.        , 0.        ],\n",
       "                   [0.        , 0.        , 0.        , ...,\n",
       "                    0.        , 0.        , 0.        ]],\n",
       "\n",
       "                  ...,\n",
       "\n",
       "                  [[0.        , 0.        , 0.        , ...,\n",
       "                    0.        , 0.        , 0.        ],\n",
       "                   [0.        , 0.        , 0.        , ...,\n",
       "                    0.        , 0.        , 0.        ],\n",
       "                   [0.        , 0.        , 0.        , ...,\n",
       "                    0.        , 0.        , 0.        ],\n",
       "                   ...,\n",
       "                   [0.        , 0.        , 0.        , ...,\n",
       "                    0.        , 0.        , 0.        ],\n",
       "                   [0.        , 0.        , 0.        , ...,\n",
       "                    0.        , 0.        , 0.        ],\n",
       "                   [0.        , 0.        , 0.        , ...,\n",
       "                    0.        , 0.        , 0.        ]],\n",
       "\n",
       "                  [[0.        , 0.        , 0.        , ...,\n",
       "                    0.        , 0.        , 0.        ],\n",
       "                   [0.        , 0.        , 0.        , ...,\n",
       "                    0.        , 0.        , 0.        ],\n",
       "                   [0.        , 0.        , 0.        , ...,\n",
       "                    0.        , 0.        , 0.        ],\n",
       "                   ...,\n",
       "                   [0.        , 0.        , 0.        , ...,\n",
       "                    0.        , 0.        , 0.        ],\n",
       "                   [0.        , 0.        , 0.        , ...,\n",
       "                    0.        , 0.        , 0.        ],\n",
       "                   [0.        , 0.        , 0.        , ...,\n",
       "                    0.        , 0.        , 0.        ]],\n",
       "\n",
       "                  [[0.        , 0.        , 0.        , ...,\n",
       "                    0.        , 0.        , 0.        ],\n",
       "                   [0.        , 0.        , 0.        , ...,\n",
       "                    0.        , 0.        , 0.        ],\n",
       "                   [0.        , 0.        , 0.        , ...,\n",
       "                    0.        , 0.        , 0.        ],\n",
       "                   ...,\n",
       "                   [0.        , 0.        , 0.        , ...,\n",
       "                    0.        , 0.        , 0.        ],\n",
       "                   [0.        , 0.        , 0.        , ...,\n",
       "                    0.        , 0.        , 0.        ],\n",
       "                   [0.        , 0.        , 0.        , ...,\n",
       "                    0.        , 0.        , 0.        ]]],\n",
       "\n",
       "\n",
       "                 [[[0.        , 0.        , 0.        , ...,\n",
       "                    0.        , 0.        , 0.        ],\n",
       "                   [0.        , 0.        , 0.        , ...,\n",
       "                    0.        , 0.        , 0.        ],\n",
       "                   [0.        , 0.        , 0.        , ...,\n",
       "                    0.        , 0.        , 0.        ],\n",
       "                   ...,\n",
       "                   [0.        , 0.        , 0.        , ...,\n",
       "                    0.        , 0.        , 0.        ],\n",
       "                   [0.        , 0.        , 0.        , ...,\n",
       "                    0.        , 0.        , 0.        ],\n",
       "                   [0.        , 0.        , 0.        , ...,\n",
       "                    0.        , 0.        , 0.        ]],\n",
       "\n",
       "                  [[0.        , 0.        , 0.        , ...,\n",
       "                    0.        , 0.        , 0.        ],\n",
       "                   [0.        , 0.        , 0.        , ...,\n",
       "                    0.        , 0.        , 0.        ],\n",
       "                   [0.        , 0.        , 0.        , ...,\n",
       "                    0.        , 0.        , 0.        ],\n",
       "                   ...,\n",
       "                   [0.        , 0.        , 0.        , ...,\n",
       "                    0.        , 0.        , 0.        ],\n",
       "                   [0.        , 0.        , 0.        , ...,\n",
       "                    0.        , 0.        , 0.        ],\n",
       "                   [0.        , 0.        , 0.        , ...,\n",
       "                    0.        , 0.        , 0.        ]],\n",
       "\n",
       "                  [[0.        , 0.        , 0.        , ...,\n",
       "                    0.        , 0.        , 0.        ],\n",
       "                   [0.        , 0.        , 0.        , ...,\n",
       "                    0.        , 0.        , 0.        ],\n",
       "                   [0.        , 0.        , 0.        , ...,\n",
       "                    0.        , 0.        , 0.        ],\n",
       "                   ...,\n",
       "                   [0.        , 0.        , 0.        , ...,\n",
       "                    0.        , 0.        , 0.        ],\n",
       "                   [0.        , 0.        , 0.        , ...,\n",
       "                    0.        , 0.        , 0.        ],\n",
       "                   [0.        , 0.        , 0.        , ...,\n",
       "                    0.        , 0.        , 0.        ]],\n",
       "\n",
       "                  ...,\n",
       "\n",
       "                  [[0.        , 0.        , 0.        , ...,\n",
       "                    0.        , 0.        , 0.        ],\n",
       "                   [0.        , 0.        , 0.        , ...,\n",
       "                    0.        , 0.        , 0.        ],\n",
       "                   [0.        , 0.        , 0.        , ...,\n",
       "                    0.        , 0.        , 0.        ],\n",
       "                   ...,\n",
       "                   [0.        , 0.        , 0.        , ...,\n",
       "                    0.        , 0.        , 0.        ],\n",
       "                   [0.        , 0.        , 0.        , ...,\n",
       "                    0.        , 0.        , 0.        ],\n",
       "                   [0.        , 0.        , 0.        , ...,\n",
       "                    0.        , 0.        , 0.        ]],\n",
       "\n",
       "                  [[0.        , 0.        , 0.        , ...,\n",
       "                    0.        , 0.        , 0.        ],\n",
       "                   [0.        , 0.        , 0.        , ...,\n",
       "                    0.        , 0.        , 0.        ],\n",
       "                   [0.        , 0.        , 0.        , ...,\n",
       "                    0.        , 0.        , 0.        ],\n",
       "                   ...,\n",
       "                   [0.        , 0.        , 0.        , ...,\n",
       "                    0.        , 0.        , 0.        ],\n",
       "                   [0.        , 0.        , 0.        , ...,\n",
       "                    0.        , 0.        , 0.        ],\n",
       "                   [0.        , 0.        , 0.        , ...,\n",
       "                    0.        , 0.        , 0.        ]],\n",
       "\n",
       "                  [[0.        , 0.        , 0.        , ...,\n",
       "                    0.        , 0.        , 0.        ],\n",
       "                   [0.        , 0.        , 0.        , ...,\n",
       "                    0.        , 0.        , 0.        ],\n",
       "                   [0.        , 0.        , 0.        , ...,\n",
       "                    0.        , 0.        , 0.        ],\n",
       "                   ...,\n",
       "                   [0.        , 0.        , 0.        , ...,\n",
       "                    0.        , 0.        , 0.        ],\n",
       "                   [0.        , 0.        , 0.        , ...,\n",
       "                    0.        , 0.        , 0.        ],\n",
       "                   [0.        , 0.        , 0.        , ...,\n",
       "                    0.        , 0.        , 0.        ]]],\n",
       "\n",
       "\n",
       "                 [[[0.        , 0.        , 0.        , ...,\n",
       "                    0.        , 0.        , 0.        ],\n",
       "                   [0.        , 0.        , 0.        , ...,\n",
       "                    0.        , 0.        , 0.        ],\n",
       "                   [0.        , 0.        , 0.        , ...,\n",
       "                    0.        , 0.        , 0.        ],\n",
       "                   ...,\n",
       "                   [0.        , 0.        , 0.        , ...,\n",
       "                    0.        , 0.        , 0.        ],\n",
       "                   [0.        , 0.        , 0.        , ...,\n",
       "                    0.        , 0.        , 0.        ],\n",
       "                   [0.        , 0.        , 0.        , ...,\n",
       "                    0.        , 0.        , 0.        ]],\n",
       "\n",
       "                  [[0.        , 0.        , 0.        , ...,\n",
       "                    0.        , 0.        , 0.        ],\n",
       "                   [0.        , 0.        , 0.        , ...,\n",
       "                    0.        , 0.        , 0.        ],\n",
       "                   [0.        , 0.        , 0.        , ...,\n",
       "                    0.        , 0.        , 0.        ],\n",
       "                   ...,\n",
       "                   [0.        , 0.        , 0.        , ...,\n",
       "                    0.        , 0.        , 0.        ],\n",
       "                   [0.        , 0.        , 0.        , ...,\n",
       "                    0.        , 0.        , 0.        ],\n",
       "                   [0.        , 0.        , 0.        , ...,\n",
       "                    0.        , 0.        , 0.        ]],\n",
       "\n",
       "                  [[0.        , 0.        , 0.        , ...,\n",
       "                    0.        , 0.        , 0.        ],\n",
       "                   [0.        , 0.        , 0.        , ...,\n",
       "                    0.        , 0.        , 0.        ],\n",
       "                   [0.        , 0.        , 0.        , ...,\n",
       "                    0.        , 0.        , 0.        ],\n",
       "                   ...,\n",
       "                   [0.        , 0.        , 0.        , ...,\n",
       "                    0.        , 0.        , 0.        ],\n",
       "                   [0.        , 0.        , 0.        , ...,\n",
       "                    0.        , 0.        , 0.        ],\n",
       "                   [0.        , 0.        , 0.        , ...,\n",
       "                    0.        , 0.        , 0.        ]],\n",
       "\n",
       "                  ...,\n",
       "\n",
       "                  [[0.        , 0.        , 0.        , ...,\n",
       "                    0.        , 0.        , 0.        ],\n",
       "                   [0.        , 0.        , 0.        , ...,\n",
       "                    0.        , 0.        , 0.        ],\n",
       "                   [0.        , 0.        , 0.        , ...,\n",
       "                    0.        , 0.        , 0.        ],\n",
       "                   ...,\n",
       "                   [0.        , 0.        , 0.        , ...,\n",
       "                    0.        , 0.        , 0.        ],\n",
       "                   [0.        , 0.        , 0.        , ...,\n",
       "                    0.        , 0.        , 0.        ],\n",
       "                   [0.        , 0.        , 0.        , ...,\n",
       "                    0.        , 0.        , 0.        ]],\n",
       "\n",
       "                  [[0.        , 0.        , 0.        , ...,\n",
       "                    0.        , 0.        , 0.        ],\n",
       "                   [0.        , 0.        , 0.        , ...,\n",
       "                    0.        , 0.        , 0.        ],\n",
       "                   [0.        , 0.        , 0.        , ...,\n",
       "                    0.        , 0.        , 0.        ],\n",
       "                   ...,\n",
       "                   [0.        , 0.        , 0.        , ...,\n",
       "                    0.        , 0.        , 0.        ],\n",
       "                   [0.        , 0.        , 0.        , ...,\n",
       "                    0.        , 0.        , 0.        ],\n",
       "                   [0.        , 0.        , 0.        , ...,\n",
       "                    0.        , 0.        , 0.        ]],\n",
       "\n",
       "                  [[0.        , 0.        , 0.        , ...,\n",
       "                    0.        , 0.        , 0.        ],\n",
       "                   [0.        , 0.        , 0.        , ...,\n",
       "                    0.        , 0.        , 0.        ],\n",
       "                   [0.        , 0.        , 0.        , ...,\n",
       "                    0.        , 0.        , 0.        ],\n",
       "                   ...,\n",
       "                   [0.        , 0.        , 0.        , ...,\n",
       "                    0.        , 0.        , 0.        ],\n",
       "                   [0.        , 0.        , 0.        , ...,\n",
       "                    0.        , 0.        , 0.        ],\n",
       "                   [0.        , 0.        , 0.        , ...,\n",
       "                    0.        , 0.        , 0.        ]]]], dtype=float32)"
      ]
     },
     "execution_count": 18,
     "metadata": {},
     "output_type": "execute_result"
    }
   ],
   "source": [
    "sampled[\"U\"].reshape((3, 200, 399, 399))"
   ]
  },
  {
   "cell_type": "code",
   "execution_count": 19,
   "metadata": {},
   "outputs": [
    {
     "data": {
      "text/plain": [
       "pyvista.core.pointset.StructuredGrid"
      ]
     },
     "execution_count": 19,
     "metadata": {},
     "output_type": "execute_result"
    }
   ],
   "source": [
    "type(sampled)"
   ]
  },
  {
   "cell_type": "code",
   "execution_count": 20,
   "metadata": {},
   "outputs": [
    {
     "data": {
      "text/plain": [
       "pyvista.core.pointset.StructuredGrid"
      ]
     },
     "execution_count": 20,
     "metadata": {},
     "output_type": "execute_result"
    }
   ],
   "source": [
    "type(sampled)"
   ]
  },
  {
   "cell_type": "code",
   "execution_count": 21,
   "metadata": {},
   "outputs": [
    {
     "name": "stdout",
     "output_type": "stream",
     "text": [
      "<class 'pyvista.core.pyvista_ndarray.pyvista_ndarray'>\n"
     ]
    },
    {
     "data": {
      "text/plain": [
       "pyvista_ndarray([[0., 0., 0.],\n",
       "                 [0., 0., 0.],\n",
       "                 [0., 0., 0.],\n",
       "                 ...,\n",
       "                 [0., 0., 0.],\n",
       "                 [0., 0., 0.],\n",
       "                 [0., 0., 0.]], dtype=float32)"
      ]
     },
     "execution_count": 21,
     "metadata": {},
     "output_type": "execute_result"
    }
   ],
   "source": [
    "print(type(sampled[\"U\"]))\n",
    "sampled[\"U\"]"
   ]
  },
  {
   "cell_type": "code",
   "execution_count": 22,
   "metadata": {},
   "outputs": [
    {
     "name": "stdout",
     "output_type": "stream",
     "text": [
      "<class 'vtkmodules.vtkCommonCore.vtkTypeFloat32Array'>\n",
      "vtkTypeFloat32Array (0x130672090)\n",
      "  Debug: Off\n",
      "  Modified Time: 4805\n",
      "  Reference Count: 1\n",
      "  Registered Events: (none)\n",
      "  Name: (none)\n",
      "  Data type: float\n",
      "  Size: 95520600\n",
      "  MaxId: 95520599\n",
      "  NumberOfComponents: 3\n",
      "  Information: 0x0\n",
      "  Name: (none)\n",
      "  Number Of Components: 3\n",
      "  Number Of Tuples: 31840200\n",
      "  Size: 95520600\n",
      "  MaxId: 95520599\n",
      "  LookupTable: (none)\n",
      "\n",
      "\n"
     ]
    }
   ],
   "source": [
    "from pyvista import convert_array\n",
    "\n",
    "\n",
    "converted = convert_array(sampled[\"U\"])\n",
    "print(type(converted))\n",
    "print(converted)"
   ]
  },
  {
   "cell_type": "code",
   "execution_count": 23,
   "metadata": {},
   "outputs": [
    {
     "name": "stdout",
     "output_type": "stream",
     "text": [
      "<class 'numpy.ndarray'>\n"
     ]
    }
   ],
   "source": [
    "print(type(convert_array(converted)))"
   ]
  },
  {
   "cell_type": "code",
   "execution_count": 24,
   "metadata": {},
   "outputs": [
    {
     "data": {
      "text/plain": [
       "pyvista.core.pyvista_ndarray.pyvista_ndarray"
      ]
     },
     "execution_count": 24,
     "metadata": {},
     "output_type": "execute_result"
    }
   ],
   "source": [
    "type(sampled[\"U\"])"
   ]
  },
  {
   "cell_type": "code",
   "execution_count": 25,
   "metadata": {},
   "outputs": [
    {
     "name": "stdout",
     "output_type": "stream",
     "text": [
      "<class 'numpy.ndarray'>\n",
      "[[0. 0. 0.]\n",
      " [0. 0. 0.]\n",
      " [0. 0. 0.]\n",
      " ...\n",
      " [0. 0. 0.]\n",
      " [0. 0. 0.]\n",
      " [0. 0. 0.]]\n"
     ]
    }
   ],
   "source": [
    "from sklearn.preprocessing import normalize\n",
    "\n",
    "\n",
    "normalized = normalize(sampled[\"U\"])\n",
    "print(type(normalized))\n",
    "print(normalized)"
   ]
  },
  {
   "cell_type": "code",
   "execution_count": 26,
   "metadata": {},
   "outputs": [
    {
     "name": "stdout",
     "output_type": "stream",
     "text": [
      "[[0.]\n",
      " [0.]\n",
      " [0.]\n",
      " ...\n",
      " [0.]\n",
      " [0.]\n",
      " [0.]]\n"
     ]
    }
   ],
   "source": [
    "from openfoam.post import normalize_upk\n",
    "\n",
    "\n",
    "nu, np, nk = normalize_upk(sampled)\n",
    "print(nu)"
   ]
  },
  {
   "cell_type": "code",
   "execution_count": 27,
   "metadata": {},
   "outputs": [
    {
     "name": "stdout",
     "output_type": "stream",
     "text": [
      "<class 'numpy.ndarray'>\n",
      "[[0.]\n",
      " [0.]\n",
      " [0.]\n",
      " ...\n",
      " [0.]\n",
      " [0.]\n",
      " [0.]]\n"
     ]
    }
   ],
   "source": [
    "normalized = normalize(sampled[\"p\"].reshape(-1,1))\n",
    "print(type(normalized))\n",
    "print(normalized)"
   ]
  },
  {
   "cell_type": "code",
   "execution_count": 28,
   "metadata": {},
   "outputs": [
    {
     "data": {
      "text/plain": [
       "0.0"
      ]
     },
     "execution_count": 28,
     "metadata": {},
     "output_type": "execute_result"
    }
   ],
   "source": [
    "from openfoam.post import rms\n",
    "\n",
    "rms_of_sampled(sampled, sampled)"
   ]
  },
  {
   "cell_type": "code",
   "execution_count": null,
   "metadata": {},
   "outputs": [],
   "source": []
  }
 ],
 "metadata": {
  "kernelspec": {
   "display_name": "venv",
   "language": "python",
   "name": "python3"
  },
  "language_info": {
   "codemirror_mode": {
    "name": "ipython",
    "version": 3
   },
   "file_extension": ".py",
   "mimetype": "text/x-python",
   "name": "python",
   "nbconvert_exporter": "python",
   "pygments_lexer": "ipython3",
   "version": "3.11.3"
  },
  "orig_nbformat": 4
 },
 "nbformat": 4,
 "nbformat_minor": 2
}
