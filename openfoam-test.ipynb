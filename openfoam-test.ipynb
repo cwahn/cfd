{
 "cells": [
  {
   "cell_type": "code",
   "execution_count": 1,
   "metadata": {},
   "outputs": [],
   "source": [
    "from openfoam import *"
   ]
  },
  {
   "cell_type": "code",
   "execution_count": 2,
   "metadata": {},
   "outputs": [],
   "source": [
    "from openfoam.cfd import DataFileHeader, DataFileHeaderClass, DataFileHeaderFormat, DataFileHeaderObject, DataFileHeaderVersion\n",
    "\n",
    "\n",
    "header = DataFileHeader(\n",
    "    \"FoamFile\",\n",
    "    (\n",
    "        DataFileHeaderVersion(\"version\", (\"V1\",)),\n",
    "        DataFileHeaderFormat(\"format\", (\"ASCII\",)),\n",
    "        None,\n",
    "        DataFileHeaderClass(\"class\", (\"Dictionary\",)),\n",
    "        DataFileHeaderObject(\"object\", (\"controlDict\",))\n",
    "    )\n",
    ")"
   ]
  },
  {
   "cell_type": "code",
   "execution_count": 3,
   "metadata": {},
   "outputs": [
    {
     "data": {
      "text/plain": [
       "DataFileHeader(keyword='FoamFile', entries=(DataFileHeaderVersion(keyword='version', data=('V1',)), DataFileHeaderFormat(keyword='format', data=('ASCII',)), None, DataFileHeaderClass(keyword='class', data=('Dictionary',)), DataFileHeaderObject(keyword='object', data=('controlDict',))))"
      ]
     },
     "execution_count": 3,
     "metadata": {},
     "output_type": "execute_result"
    }
   ],
   "source": [
    "header"
   ]
  },
  {
   "cell_type": "code",
   "execution_count": 6,
   "metadata": {},
   "outputs": [
    {
     "data": {
      "text/plain": [
       "True"
      ]
     },
     "execution_count": 6,
     "metadata": {},
     "output_type": "execute_result"
    }
   ],
   "source": [
    "from openfoam.cfd import KeywordE\n",
    "\n",
    "\n",
    "isinstance(header.entries[0], KeywordE)"
   ]
  },
  {
   "cell_type": "code",
   "execution_count": 8,
   "metadata": {},
   "outputs": [
    {
     "ename": "TypeError",
     "evalue": "unhashable type: 'Dictioanry'",
     "output_type": "error",
     "traceback": [
      "\u001b[0;31m---------------------------------------------------------------------------\u001b[0m",
      "\u001b[0;31mTypeError\u001b[0m                                 Traceback (most recent call last)",
      "Cell \u001b[0;32mIn[8], line 6\u001b[0m\n\u001b[1;32m      1\u001b[0m \u001b[39mfrom\u001b[39;00m \u001b[39memail\u001b[39;00m\u001b[39m.\u001b[39;00m\u001b[39mheader\u001b[39;00m \u001b[39mimport\u001b[39;00m Header\n\u001b[1;32m      2\u001b[0m \u001b[39mfrom\u001b[39;00m \u001b[39mopenfoam\u001b[39;00m\u001b[39m.\u001b[39;00m\u001b[39mcfd\u001b[39;00m \u001b[39mimport\u001b[39;00m DataFile, Dictioanry\n\u001b[1;32m      5\u001b[0m ctrdict \u001b[39m=\u001b[39m DataFile(\n\u001b[0;32m----> 6\u001b[0m     header, {Dictioanry(\u001b[39m\"\u001b[39m\u001b[39m\"\u001b[39m, (\u001b[39m\"\u001b[39m\u001b[39m\"\u001b[39m,))}\n\u001b[1;32m      7\u001b[0m )\n",
      "\u001b[0;31mTypeError\u001b[0m: unhashable type: 'Dictioanry'"
     ]
    }
   ],
   "source": [
    "from email.header import Header\n",
    "from openfoam.cfd import DataFile, Dictioanry\n",
    "\n",
    "\n",
    "ctrdict = DataFile(\n",
    "    header, {Dictioanry(\"\", (\"\",))}\n",
    ")"
   ]
  },
  {
   "cell_type": "code",
   "execution_count": null,
   "metadata": {},
   "outputs": [],
   "source": []
  }
 ],
 "metadata": {
  "kernelspec": {
   "display_name": "venv",
   "language": "python",
   "name": "python3"
  },
  "language_info": {
   "codemirror_mode": {
    "name": "ipython",
    "version": 3
   },
   "file_extension": ".py",
   "mimetype": "text/x-python",
   "name": "python",
   "nbconvert_exporter": "python",
   "pygments_lexer": "ipython3",
   "version": "3.11.3"
  },
  "orig_nbformat": 4
 },
 "nbformat": 4,
 "nbformat_minor": 2
}
