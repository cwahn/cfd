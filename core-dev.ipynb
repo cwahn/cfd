{
 "cells": [
  {
   "cell_type": "code",
   "execution_count": 1,
   "metadata": {},
   "outputs": [
    {
     "name": "stdout",
     "output_type": "stream",
     "text": [
      "Config(open_foam_img='opencfd/openfoam-default', local_volum_path='/home/ubuntu/openfoam/', container_mount_path='/home/sudofoam/', rel_case_path='OpenFOAM/openfoam-v2212/run/testCase/', script_file_name='run.sh', log_file_name='log', local_case_dir_path='/home/ubuntu/openfoam/OpenFOAM/openfoam-v2212/run/testCase/', container_case_dir_path='/home/sudofoam/OpenFOAM/openfoam-v2212/run/testCase/', local_script_file_path='/home/ubuntu/openfoam/OpenFOAM/openfoam-v2212/run/testCase/run.sh', container_script_file_path='/home/sudofoam/OpenFOAM/openfoam-v2212/run/testCase/run.sh', local_log_file_path='/home/ubuntu/openfoam/OpenFOAM/openfoam-v2212/run/testCase/log', container_log_file_path='/home/sudofoam/OpenFOAM/openfoam-v2212/run/testCase/log', num_proc=96)\n"
     ]
    }
   ],
   "source": [
    "from openfoam.core import configure, time_process\n",
    "\n",
    "OPENFOAM_IMG = \"opencfd/openfoam-default\"\n",
    "LOCAL_VOL_PATH = \"/home/ubuntu/openfoam/\"\n",
    "CONTAINER_MNT_PATH = \"/home/sudofoam/\"\n",
    "REL_CASE_PATH = \"OpenFOAM/openfoam-v2212/run/testCase/\"\n",
    "SCRIPT_FILE_NAME = \"run.sh\"\n",
    "LOG_FILE_NAME = \"log\"\n",
    "\n",
    "\n",
    "c = configure(\n",
    "    OPENFOAM_IMG,\n",
    "    LOCAL_VOL_PATH,\n",
    "    CONTAINER_MNT_PATH,\n",
    "    REL_CASE_PATH,\n",
    "    SCRIPT_FILE_NAME,\n",
    "    LOG_FILE_NAME,\n",
    ")\n",
    "\n",
    "print(c)\n"
   ]
  },
  {
   "cell_type": "code",
   "execution_count": 2,
   "metadata": {},
   "outputs": [],
   "source": [
    "# time_script([\"tail\", \"-f\", \"./data/outputs/meshes/1-90-17.01279757684226-11.683327258121242.stl\"], 2)"
   ]
  },
  {
   "cell_type": "code",
   "execution_count": 3,
   "metadata": {},
   "outputs": [],
   "source": [
    "# time_script([\"pwd\", \"&&\", \"cd\", \"./data\", \"&&\", \"pwd\"], 10)"
   ]
  },
  {
   "cell_type": "code",
   "execution_count": 4,
   "metadata": {},
   "outputs": [],
   "source": [
    "with open(\"./_script\", \"w\") as f:\n",
    "    f.writelines(\n",
    "        [\n",
    "            \"pwd;\",\n",
    "            \"cd ./data;\",\n",
    "            \"pwd\"\n",
    "        ]\n",
    "    )\n",
    "    \n",
    "# time_script([\"sh\", \"./_script\"], 10)"
   ]
  },
  {
   "cell_type": "code",
   "execution_count": 5,
   "metadata": {},
   "outputs": [],
   "source": [
    "# time_script([\"pwd && cd ./data && pwd\"], 10)"
   ]
  },
  {
   "cell_type": "code",
   "execution_count": 6,
   "metadata": {},
   "outputs": [],
   "source": [
    "# time_script([\"pwd\\n\", \"cd ./data && pwd\"], 10)"
   ]
  },
  {
   "cell_type": "code",
   "execution_count": 7,
   "metadata": {},
   "outputs": [
    {
     "data": {
      "text/plain": [
       "96"
      ]
     },
     "execution_count": 7,
     "metadata": {},
     "output_type": "execute_result"
    }
   ],
   "source": [
    "from psutil import cpu_count\n",
    "\n",
    "\n",
    "cpu_count(logical=True)"
   ]
  },
  {
   "cell_type": "code",
   "execution_count": 8,
   "metadata": {},
   "outputs": [],
   "source": [
    "# case_path = \"/Users/chanwooahn/openfoam/OpenFOAM/openfoam-2212/run/testCase/\"\n",
    "# "
   ]
  },
  {
   "cell_type": "code",
   "execution_count": 9,
   "metadata": {},
   "outputs": [],
   "source": [
    "# from copy import deepcopy\n",
    "# from os import listdir\n",
    "# import re\n",
    "\n",
    "# def is_numeric_dir_name(string:str)-> bool:\n",
    "#     matches = re.match(\"^\\d+$\", string)\n",
    "#     return matches != None\n",
    "\n",
    "# contents = listdir(case_path)\n",
    "# numeric_dirs = list(filter(is_numeric_dir_name, contents))\n",
    "\n",
    "# time_dirs =  deepcopy(numeric_dirs)\n",
    "# if \"0\" in numeric_dirs:\n",
    "#     time_dirs.remove(\"0\")\n",
    "\n",
    "# print(contents)\n",
    "# print(numeric_dirs)\n",
    "# print(time_dirs)"
   ]
  },
  {
   "cell_type": "code",
   "execution_count": 10,
   "metadata": {},
   "outputs": [],
   "source": [
    "# def is_processor_dir_name(string: str) -> bool:\n",
    "#     matches = re.match(\"^processor\\d+$\", string)\n",
    "#     return matches != None\n",
    "\n",
    "# print(list(filter(is_processor_dir_name, contents)))"
   ]
  },
  {
   "cell_type": "code",
   "execution_count": 11,
   "metadata": {},
   "outputs": [],
   "source": [
    "# def is_exact_file_name(string: str, file_name: str) -> bool: \n",
    "#     return string == file_name\n",
    "\n",
    "# print(list(filter(lambda s: is_exact_file_name(s, \"log\"), contents)))"
   ]
  },
  {
   "cell_type": "code",
   "execution_count": 12,
   "metadata": {},
   "outputs": [],
   "source": [
    "# from os import path, remove\n",
    "# from shutil import rmtree\n",
    "# from more_itertools import side_effect, consume\n",
    "\n",
    "\n",
    "# def clear_case(case_dir: str):\n",
    "#     contents = listdir(case_dir)\n",
    "\n",
    "#     numeric_dirs = list(filter(is_numeric_dir_name, contents))\n",
    "\n",
    "#     time_dirs =  deepcopy(numeric_dirs)\n",
    "#     if \"0\" in time_dirs:\n",
    "#         time_dirs.remove(\"0\")\n",
    "    \n",
    "#     proc_dirs = list(filter(is_processor_dir_name, contents))\n",
    "#     log_files = list(filter(lambda s: is_exact_file_name(s, \"log\"), contents))\n",
    "\n",
    "#     time_dir_paths = list(map(lambda x: path.join(case_dir, x), time_dirs))\n",
    "#     proc_dir_paths = list(map(lambda x: path.join(case_dir, x), proc_dirs))\n",
    "#     log_file_paths = list(map(lambda x: path.join(case_dir, x), log_files))\n",
    "\n",
    "#     # print(time_dir_paths)\n",
    "#     # print(proc_dir_paths)\n",
    "#     # print(log_file_paths)\n",
    "\n",
    "#     consume(side_effect(rmtree, time_dir_paths))\n",
    "#     consume(side_effect(rmtree, proc_dir_paths))\n",
    "#     consume(side_effect(remove, log_file_paths))\n",
    "\n",
    "# clear_case(case_path)\n",
    "\n",
    "# print(listdir(case_path))\n"
   ]
  },
  {
   "cell_type": "code",
   "execution_count": 13,
   "metadata": {},
   "outputs": [],
   "source": [
    "# - Meshing\n",
    "#     - maxCellSize\n",
    "#     - boundaryCellSize\n",
    "#     - localRefinement / object / cellSize\n",
    "#     - patchBoundaryLayers\n",
    "#     - thicknessRatio\n",
    "# - Filed\n",
    "#     - wind speed\n",
    "# - control Dict\n",
    "#     - N/A\n",
    "# - solution\n",
    "#     - residual p\n",
    "#     - residual k\n",
    "#     - residual koe\n",
    "\n",
    "from typing import List\n",
    "\n",
    "\n",
    "# def set_param(case_path: str, rel_path: str, dict_path: List[str], value:str):\n",
    "#     file_path = path.join(case_path, rel_path)\n",
    "#     with open(file_path, \"r+\") as f:\n",
    "#         contents = f.read()"
   ]
  },
  {
   "cell_type": "code",
   "execution_count": 14,
   "metadata": {},
   "outputs": [],
   "source": [
    "# from os import path\n",
    "\n",
    "\n",
    "# rel_path = \"system/fvSolution\"\n",
    "# file_path = path.join(case_path, rel_path)\n",
    "# print(file_path)"
   ]
  },
  {
   "cell_type": "code",
   "execution_count": 15,
   "metadata": {},
   "outputs": [],
   "source": [
    "# with open(file_path, \"r+\") as f:\n",
    "#         contents = f.read()\n",
    "#         print(contents)"
   ]
  },
  {
   "cell_type": "code",
   "execution_count": 16,
   "metadata": {},
   "outputs": [],
   "source": [
    "# from PyFoam.RunDictionary.ParsedParameterFile import ParsedParameterFile\n",
    "\n",
    "# # f=ParsedParameterFile(file_path)\n",
    "# # f[\"maxCellSize\"] = 0.101\n",
    "# # f.writeFile()\n",
    "\n",
    "# f=ParsedParameterFile(file_path)\n",
    "# f[\"maxCellSize\"]"
   ]
  },
  {
   "cell_type": "code",
   "execution_count": 17,
   "metadata": {},
   "outputs": [],
   "source": [
    "# from functools import reduce\n",
    "# from typing import Any\n",
    "\n",
    "# def get_multi(data: Any, keys: List[Any]) -> Any:\n",
    "#     return reduce(lambda data, key: data[key], keys, data)\n",
    "\n",
    "# def get_dict_entry(file_path: str, entry_path: List[str]) -> Any:\n",
    "#     f=ParsedParameterFile(file_path)\n",
    "#     return get_multi(f, entry_path)"
   ]
  },
  {
   "cell_type": "code",
   "execution_count": 18,
   "metadata": {},
   "outputs": [],
   "source": [
    "from openfoam.core import get_dict_entry\n",
    "\n",
    "\n",
    "# get_dict_entry(file_path, [\"SIMPLE\", \"residualControl\", \"p\"])"
   ]
  },
  {
   "cell_type": "code",
   "execution_count": 19,
   "metadata": {},
   "outputs": [],
   "source": [
    "# def set_multi(data: Any, keys: List[Any], value: Any) -> Any:\n",
    "#     init = keys[:-1]\n",
    "#     last = keys[-1]\n",
    "#     reduce(lambda data, key: data[key], init, data).__setitem__(last, value)\n",
    "\n",
    "# def set_dict_entry(file_path: str, entry_path: List[str], value: Any) -> Any:\n",
    "#     f=ParsedParameterFile(file_path)\n",
    "#     set_multi(f, entry_path, value)\n",
    "#     f.writeFile()"
   ]
  },
  {
   "cell_type": "code",
   "execution_count": 20,
   "metadata": {},
   "outputs": [],
   "source": [
    "from openfoam.core import set_dict_entry\n",
    "\n",
    "\n",
    "# set_dict_entry(file_path, [\"SIMPLE\", \"residualControl\", \"p\"], 0.0102)\n",
    "# print(get_dict_entry(file_path, [\"SIMPLE\", \"residualControl\", \"p\"]))"
   ]
  },
  {
   "cell_type": "code",
   "execution_count": 21,
   "metadata": {},
   "outputs": [],
   "source": [
    "from openfoam.core import set_case\n",
    "\n",
    "# params = [\n",
    "#     (\"system/controlDict\", [\"application\"], \"HaHa\"),\n",
    "#     (\"system/fvSolution\", [\"SIMPLE\", \"residualControl\", \"p\"], 0.1)\n",
    "# ]\n",
    "\n",
    "# set_case(case_path, params)\n"
   ]
  },
  {
   "cell_type": "code",
   "execution_count": 22,
   "metadata": {},
   "outputs": [],
   "source": [
    "from os import remove\n",
    "from subprocess import Popen, TimeoutExpired, run\n",
    "from time import process_time\n",
    "from typing import Optional, Tuple\n",
    "from openfoam.core import get_foam_app\n",
    "\n",
    "# def time_script_docker_(script_path: str, kill_path: str, timeout_s: float) -> Optional[Tuple[int, float]]:\n",
    "#     start = process_time()\n",
    "\n",
    "#     with Popen([\"sh\", script_path]) as p:\n",
    "#         try:\n",
    "#             stdout, stderr = p.communicate(input, timeout=timeout_s)\n",
    "#         except TimeoutExpired as exc:\n",
    "#             print(\"timeout\")\n",
    "#             # with Popen([\"sleep\", \"1004\"]) as q:\n",
    "#             #     q.communicate()\n",
    "#             # print(\"execute cmd\")\n",
    "#             # run(kill_cmd, shell=True)\n",
    "#             p.kill()\n",
    "#             p.wait()\n",
    "#             return \n",
    "#         except:  # Including KeyboardInterrupt, communicate handled that.\n",
    "#             p.kill()\n",
    "#             # We don't call process.wait() as .__exit__ does that for us.\n",
    "#             return \n",
    "#         retcode = p.poll()\n",
    "\n",
    "#     end = process_time()\n",
    "#     time = end-start\n",
    "#     return (retcode, time)\n",
    "\n",
    "# def time_script_docker(script: List[str], kill_cmd: List[str], timeout_s: float) -> Optional[Tuple[int, float]]:\n",
    "#     KILL_SCRIPT_PATH = \"./_kill\"\n",
    "\n",
    "#     with open(SCRIPT_PATH, \"w\") as f:\n",
    "#         f.writelines(script)\n",
    "\n",
    "#     with open(KILL_SCRIPT_PATH, \"w\") as f:\n",
    "#         f.writelines(kill_cmd)\n",
    "\n",
    "#     result = time_script_docker_(SCRIPT_PATH, KILL_SCRIPT_PATH, timeout_s)\n",
    "    \n",
    "#     remove(SCRIPT_PATH)\n",
    "\n",
    "#     return result\n",
    "\n",
    "\n",
    "# def run_all_docker(case_path: str, docker_id: str) -> Optional[float]:\n",
    "#     foam_app = get_foam_app(case_path)\n",
    "\n",
    "#     inner_script = f\"(cartesianMesh && decomposePar && mpirun -np {NUM_PROC} {foam_app} -parallel && reconstructPar) >> {LOG_PATH} & tail -f {LOG_PATH}\"\n",
    "\n",
    "#     script = [\n",
    "#         f\"\"\"docker exec -w /home/openfoam/ {docker_id} bash -c \"{inner_script}\" \"\"\"\n",
    "#     ]\n",
    "\n",
    "#     kill_cmd = f\"\"\"docker exec -w /home/openfoam/ {docker_id} bash -c \"pkill bash*\" \"\"\"\n",
    "    \n",
    "#     f\"\"\"docker exec -w /home/openfoam/ {docker_id} bash -c \"pkill bash*\" \"\"\"\n",
    "\n",
    "#     result = time_script(script, kill_cmd, timeout_s=TIME_OUT)\n",
    "    \n",
    "#     if isinstance(result, Tuple[int, float]):\n",
    "#         if result[0] == 0:\n",
    "#             return float\n",
    "#         else:\n",
    "#             return\n",
    "#     else:\n",
    "#         return"
   ]
  },
  {
   "cell_type": "code",
   "execution_count": 23,
   "metadata": {},
   "outputs": [],
   "source": [
    "# docker_id = \"b6c1259eddb5\"\n",
    "\n",
    "# inner_script = f\"sleep 6 && pwd\"\n",
    "\n",
    "# # script = [\n",
    "# #         f\"\"\"docker exec -w /home/openfoam/ {docker_id} bash -c \"{inner_script}\" \"\"\"\n",
    "# #     ]\n",
    "\n",
    "# script = [\n",
    "#         f\"\"\"docker exec -w /home/openfoam/ {docker_id} bash -c \"timeout 7 {inner_script}\" \"\"\"\n",
    "#     ]\n",
    "\n",
    "# # kill_cmd = f\"\"\"docker exec -w /home/openfoam/ {docker_id} bash -c \"pkill bash*\" \"\"\"\n",
    "# kill_script = [\n",
    "#     f\"\"\"docker exec -w /home/openfoam/ {docker_id} bash -c \"pkill bash*\" \"\"\",\n",
    "# ]\n",
    "# # kill_cmd = [\"docker\", \"exec\", \"-w\", \"/home/openfoam/\", docker_id, \"bash\", \"-c\" '\"pkill bash*\"']\n",
    "\n",
    "# time_script(script)"
   ]
  },
  {
   "cell_type": "code",
   "execution_count": 24,
   "metadata": {},
   "outputs": [],
   "source": [
    "# from subprocess import check_output\n",
    "\n",
    "# LOCAL_VOL_PATH = \"/Users/chanwooahn/openfoam\"\n",
    "# OPENFOAM_IMG = \"gerlero/openfoam-default\"\n",
    "\n",
    "# result = str(check_output([\"docker\", \"ps\"]), \"utf-8\")\n",
    "# # cleaned = re.sub(\"[\\s\\t\\n]+\", \" \", result)\n",
    "\n",
    "# ms = re.findall(f\"\\n(.*)\\s+{OPENFOAM_IMG}*\", result)\n",
    "\n",
    "# print(\"cleaned: \", result)\n",
    "\n",
    "# print(ms[0])"
   ]
  },
  {
   "cell_type": "code",
   "execution_count": 25,
   "metadata": {},
   "outputs": [],
   "source": [
    "\n",
    "\n",
    "# from subprocess import check_output\n",
    "\n",
    "# from openfoam.core import CONTAINER_MNT_PATH, LOCAL_VOL_PATH, OPENFOAM_IMG\n",
    "\n",
    "\n",
    "# def run_openfoam_docker():\n",
    "#     run([\"docker\", \"run\", \"--rm\", \"-itd\", f\"--volume={LOCAL_VOL_PATH}:{CONTAINER_MNT_PATH}\", f\"{OPENFOAM_IMG}\"])\n",
    "\n",
    "# def assert_docker_id() -> str:\n",
    "#     docker_ps = str(check_output([\"docker\", \"ps\"]), \"utf-8\")\n",
    "#     matches = re.findall(f\"\\n(.*)\\s+{OPENFOAM_IMG}*\", docker_ps)\n",
    "\n",
    "#     if len(matches) == 0:\n",
    "#         run_openfoam_docker()\n",
    "#         return assert_docker_id()\n",
    "#     else:\n",
    "#         return matches[0].strip()"
   ]
  },
  {
   "cell_type": "code",
   "execution_count": 26,
   "metadata": {},
   "outputs": [
    {
     "name": "stdout",
     "output_type": "stream",
     "text": [
      "a85fd27ea0707b6e4695dd5d0b482467bec9156db6bf4f59d50e6d21a95f20a2\n"
     ]
    },
    {
     "data": {
      "text/plain": [
       "'a85fd27ea070'"
      ]
     },
     "execution_count": 26,
     "metadata": {},
     "output_type": "execute_result"
    }
   ],
   "source": [
    "from openfoam.core import assert_docker_id\n",
    "\n",
    "\n",
    "assert_docker_id(c)"
   ]
  },
  {
   "cell_type": "code",
   "execution_count": 27,
   "metadata": {},
   "outputs": [],
   "source": [
    "# from openfoam.core import assert_docker_id\n",
    "\n",
    "# docker_id = assert_docker_id(c)\n",
    "# foam_app = get_foam_app(c.local_case_dir_path)\n",
    "# timeout = 5\n",
    "\n",
    "# inner_script = f\"sleep 10 && pwd\"\n",
    "\n",
    "# script = [\n",
    "#         f\"\"\"docker exec -w /home/openfoam/ {docker_id} bash -c \"timeout {timeout} {inner_script} >> {c.container_log_file_path} \" \"\"\"\n",
    "#     ]\n",
    "\n",
    "# # print(script)\n",
    "\n",
    "# time_script(c, script)"
   ]
  },
  {
   "cell_type": "code",
   "execution_count": 28,
   "metadata": {},
   "outputs": [],
   "source": [
    "from openfoam.core import assert_docker_id\n",
    "\n",
    "\n",
    "# docker_id = assert_docker_id(c)\n",
    "# print(\"docker_id: \", docker_id)\n",
    "# foam_app = get_foam_app(c.local_case_dir_path)\n",
    "# timeout = 100\n",
    "\n",
    "# inner_script = f\"cartesianMesh && decomposePar && mpirun -np {c.num_proc} {foam_app} -parallel && reconstructPar\"\n",
    "# # inner_script = \"echo \\$UID\"\n",
    "\n",
    "# script = [\n",
    "#         f\"\"\"docker exec -w {c.container_case_dir_path} {docker_id} bash -lc \"timeout {timeout} {inner_script} >> {c.container_log_file_path}\" \"\"\"\n",
    "#     ]\n",
    "\n",
    "# print(script)\n",
    "\n",
    "# time_script(c, script)"
   ]
  },
  {
   "cell_type": "code",
   "execution_count": 29,
   "metadata": {},
   "outputs": [
    {
     "name": "stdout",
     "output_type": "stream",
     "text": [
      "Retcode:  0\n",
      "Time:  7.587403297424316\n"
     ]
    },
    {
     "data": {
      "text/plain": [
       "('/home/ubuntu/openfoam/OpenFOAM/openfoam-v2212/run/testCase/',\n",
       " 7.587403297424316)"
      ]
     },
     "execution_count": 29,
     "metadata": {},
     "output_type": "execute_result"
    }
   ],
   "source": [
    "from openfoam.core import run_case\n",
    "\n",
    "entries = [\n",
    "    (\"system/controlDict\", [\"application\"], \"simpleFoam\"),\n",
    "    (\"system/fvSolution\", [\"SIMPLE\", \"residualControl\", \"p\"], 0.02),\n",
    "    (\"system/decomposeParDict\", [\"numberOfSubdomains\"], c.num_proc),\n",
    "]\n",
    "\n",
    "run_case(c, entries, 100)"
   ]
  },
  {
   "cell_type": "code",
   "execution_count": null,
   "metadata": {},
   "outputs": [],
   "source": []
  },
  {
   "cell_type": "code",
   "execution_count": null,
   "metadata": {},
   "outputs": [],
   "source": []
  }
 ],
 "metadata": {
  "kernelspec": {
   "display_name": "venv",
   "language": "python",
   "name": "python3"
  },
  "language_info": {
   "codemirror_mode": {
    "name": "ipython",
    "version": 3
   },
   "file_extension": ".py",
   "mimetype": "text/x-python",
   "name": "python",
   "nbconvert_exporter": "python",
   "pygments_lexer": "ipython3",
   "version": "3.11.4"
  },
  "orig_nbformat": 4
 },
 "nbformat": 4,
 "nbformat_minor": 2
}
