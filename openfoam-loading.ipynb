{
 "cells": [
  {
   "cell_type": "code",
   "execution_count": 2,
   "metadata": {},
   "outputs": [],
   "source": [
    "from pyvista import OpenFOAMReader\n",
    "\n",
    "\n",
    "# FILE_PATH = \"./data/results/windAroundBuildingsOld/open.foam\"\n",
    "FILE_PATH = \"/home/ubuntu/openfoam/OpenFOAM/openfoam-v2212/run/testCase/open.foam\"\n",
    "\n",
    "\n",
    "reader = OpenFOAMReader(FILE_PATH)"
   ]
  },
  {
   "cell_type": "code",
   "execution_count": 3,
   "metadata": {},
   "outputs": [
    {
     "name": "stdout",
     "output_type": "stream",
     "text": [
      "All patch names: ['internalMesh', 'patch/inlet', 'patch/outlet', 'patch/ground', 'patch/object', 'patch/fixedWalls']\n",
      "All patch status: {'internalMesh': True, 'patch/inlet': True, 'patch/outlet': True, 'patch/ground': True, 'patch/object': True, 'patch/fixedWalls': True}\n"
     ]
    }
   ],
   "source": [
    "print(f\"All patch names: {reader.patch_array_names}\")\n",
    "print(f\"All patch status: {reader.all_patch_arrays_status}\")"
   ]
  },
  {
   "cell_type": "code",
   "execution_count": 4,
   "metadata": {},
   "outputs": [
    {
     "name": "stderr",
     "output_type": "stream",
     "text": [
      "\u001b[0m\u001b[31m2023-06-19 15:32:49.132 ( 128.856s) [        B3AB4000]  vtkOpenFOAMReader.cxx:8653   ERR| vtkOpenFOAMReaderPrivate (0x3b90d10): Error reading line 28 of /home/ubuntu/openfoam/OpenFOAM/openfoam-v2212/run/testCase/0/U: Expected number, string or ( for uniform entry, found Uinlet\u001b[0m\n",
      "ERROR:root:Error reading line 28 of /home/ubuntu/openfoam/OpenFOAM/openfoam-v2212/run/testCase/0/U: Expected number, string or ( for uniform entry, found Uinlet\n",
      "ERROR:root:Error reading line 21 of /home/ubuntu/openfoam/OpenFOAM/openfoam-v2212/run/testCase/0/epsilon: Expected number, string or ( for uniform entry, found epsilonInlet\n",
      "\u001b[0m\u001b[31m2023-06-19 15:32:49.133 ( 128.857s) [        B3AB4000]  vtkOpenFOAMReader.cxx:8653   ERR| vtkOpenFOAMReaderPrivate (0x3b90d10): Error reading line 21 of /home/ubuntu/openfoam/OpenFOAM/openfoam-v2212/run/testCase/0/epsilon: Expected number, string or ( for uniform entry, found epsilonInlet\u001b[0m\n",
      "ERROR:root:Error reading line 21 of /home/ubuntu/openfoam/OpenFOAM/openfoam-v2212/run/testCase/0/k: Expected number, string or ( for uniform entry, found kInlet\n",
      "\u001b[0m\u001b[31m2023-06-19 15:32:49.133 ( 128.857s) [        B3AB4000]  vtkOpenFOAMReader.cxx:8653   ERR| vtkOpenFOAMReaderPrivate (0x3b90d10): Error reading line 21 of /home/ubuntu/openfoam/OpenFOAM/openfoam-v2212/run/testCase/0/k: Expected number, string or ( for uniform entry, found kInlet\u001b[0m\n",
      "ERROR:root:Error reading line 70 of /home/ubuntu/openfoam/OpenFOAM/openfoam-v2212/run/testCase/0/nut: Unsupported directive includeEtc\n",
      "\u001b[0m\u001b[31m2023-06-19 15:32:49.134 ( 128.858s) [        B3AB4000]  vtkOpenFOAMReader.cxx:8653   ERR| vtkOpenFOAMReaderPrivate (0x3b90d10): Error reading line 70 of /home/ubuntu/openfoam/OpenFOAM/openfoam-v2212/run/testCase/0/nut: Unsupported directive includeEtc\u001b[0m\n",
      "ERROR:root:Error reading line 66 of /home/ubuntu/openfoam/OpenFOAM/openfoam-v2212/run/testCase/0/p: Unsupported directive includeEtc\n",
      "\u001b[0m\u001b[31m2023-06-19 15:32:49.134 ( 128.858s) [        B3AB4000]  vtkOpenFOAMReader.cxx:8653   ERR| vtkOpenFOAMReaderPrivate (0x3b90d10): Error reading line 66 of /home/ubuntu/openfoam/OpenFOAM/openfoam-v2212/run/testCase/0/p: Unsupported directive includeEtc\u001b[0m\n"
     ]
    }
   ],
   "source": [
    "mesh = reader.read()\n",
    "internal_mesh = mesh[\"internalMesh\"]  # or internal_mesh = mesh[0]"
   ]
  },
  {
   "cell_type": "code",
   "execution_count": 5,
   "metadata": {},
   "outputs": [
    {
     "name": "stdout",
     "output_type": "stream",
     "text": [
      "Mesh patches: ['internalMesh', 'boundary']\n"
     ]
    }
   ],
   "source": [
    "print(f\"Mesh patches: {mesh.keys()}\")"
   ]
  },
  {
   "cell_type": "code",
   "execution_count": 6,
   "metadata": {},
   "outputs": [
    {
     "name": "stdout",
     "output_type": "stream",
     "text": [
      "UnstructuredGrid (0x7fc0dad50f40)\n",
      "  N Cells:    62188\n",
      "  N Points:   77648\n",
      "  X Bounds:   -1.500e+00, 1.500e+00\n",
      "  Y Bounds:   1.000e-02, 3.000e+00\n",
      "  Z Bounds:   -1.500e+00, 1.500e+00\n",
      "  N Arrays:   0\n"
     ]
    }
   ],
   "source": [
    "print(internal_mesh)"
   ]
  },
  {
   "cell_type": "code",
   "execution_count": 7,
   "metadata": {},
   "outputs": [
    {
     "name": "stdout",
     "output_type": "stream",
     "text": [
      "pyvista DataSetAttributes\n",
      "Association     : CELL\n",
      "Active Scalars  : None\n",
      "Active Vectors  : None\n",
      "Active Texture  : None\n",
      "Active Normals  : None\n",
      "Contains arrays : None\n",
      "pyvista DataSetAttributes\n",
      "Association     : POINT\n",
      "Active Scalars  : None\n",
      "Active Vectors  : None\n",
      "Active Texture  : None\n",
      "Active Normals  : None\n",
      "Contains arrays : None\n",
      "Available Time Values: [0.0, 50.0, 73.0]\n"
     ]
    }
   ],
   "source": [
    "print(internal_mesh.cell_data)\n",
    "print(internal_mesh.point_data)\n",
    "print(f\"Available Time Values: {reader.time_values}\")\n",
    "reader.set_active_time_value(50)\n",
    "mesh = reader.read()\n",
    "internal_mesh = mesh[\"internalMesh\"]"
   ]
  },
  {
   "cell_type": "code",
   "execution_count": 8,
   "metadata": {},
   "outputs": [],
   "source": [
    "# mesh.plot()"
   ]
  },
  {
   "cell_type": "code",
   "execution_count": 9,
   "metadata": {},
   "outputs": [
    {
     "data": {
      "text/plain": [
       "pyvista.core.composite.MultiBlock"
      ]
     },
     "execution_count": 9,
     "metadata": {},
     "output_type": "execute_result"
    }
   ],
   "source": [
    "type(mesh)"
   ]
  },
  {
   "cell_type": "code",
   "execution_count": 10,
   "metadata": {},
   "outputs": [
    {
     "data": {
      "text/plain": [
       "float"
      ]
     },
     "execution_count": 10,
     "metadata": {},
     "output_type": "execute_result"
    }
   ],
   "source": [
    "type(reader.time_values[0])"
   ]
  },
  {
   "cell_type": "code",
   "execution_count": 11,
   "metadata": {},
   "outputs": [
    {
     "data": {
      "text/plain": [
       "pyvista.utilities.reader.OpenFOAMReader"
      ]
     },
     "execution_count": 11,
     "metadata": {},
     "output_type": "execute_result"
    }
   ],
   "source": [
    "type(reader)"
   ]
  },
  {
   "cell_type": "code",
   "execution_count": 12,
   "metadata": {},
   "outputs": [
    {
     "data": {
      "text/plain": [
       "pyvista.core.pointset.UnstructuredGrid"
      ]
     },
     "execution_count": 12,
     "metadata": {},
     "output_type": "execute_result"
    }
   ],
   "source": [
    "type(internal_mesh)"
   ]
  },
  {
   "cell_type": "code",
   "execution_count": 13,
   "metadata": {},
   "outputs": [
    {
     "data": {
      "text/plain": [
       "[('N Cells', 62188, '{}'),\n",
       " ('N Points', 77648, '{}'),\n",
       " ('X Bounds', (-1.5, 1.5), '{:.3e}, {:.3e}'),\n",
       " ('Y Bounds', (0.009999999776482582, 3.0), '{:.3e}, {:.3e}'),\n",
       " ('Z Bounds', (-1.5, 1.5), '{:.3e}, {:.3e}')]"
      ]
     },
     "execution_count": 13,
     "metadata": {},
     "output_type": "execute_result"
    }
   ],
   "source": [
    "internal_mesh._get_attrs()"
   ]
  },
  {
   "cell_type": "code",
   "execution_count": 14,
   "metadata": {},
   "outputs": [
    {
     "data": {
      "text/plain": [
       "('Y Bounds', (0.009999999776482582, 3.0), '{:.3e}, {:.3e}')"
      ]
     },
     "execution_count": 14,
     "metadata": {},
     "output_type": "execute_result"
    }
   ],
   "source": [
    "internal_mesh._get_attrs()[3]"
   ]
  },
  {
   "cell_type": "code",
   "execution_count": 15,
   "metadata": {},
   "outputs": [
    {
     "data": {
      "text/plain": [
       "0.009999999776482582"
      ]
     },
     "execution_count": 15,
     "metadata": {},
     "output_type": "execute_result"
    }
   ],
   "source": [
    "internal_mesh._get_attrs()[3][1][0]"
   ]
  },
  {
   "cell_type": "code",
   "execution_count": 16,
   "metadata": {},
   "outputs": [
    {
     "data": {
      "text/plain": [
       "(-1.5, 1.5, 0.009999999776482582, 3.0, -1.5, 1.5)"
      ]
     },
     "execution_count": 16,
     "metadata": {},
     "output_type": "execute_result"
    }
   ],
   "source": [
    "from openfoam.post import get_bbox\n",
    "\n",
    "\n",
    "get_bbox(internal_mesh)"
   ]
  },
  {
   "cell_type": "code",
   "execution_count": 17,
   "metadata": {},
   "outputs": [
    {
     "data": {
      "text/html": [
       "<table><tr><th>Header</th><th>Data Arrays</th></tr><tr><td>\n",
       "<table>\n",
       "<tr><th>UnstructuredGrid</th><th>Information</th></tr>\n",
       "<tr><td>N Cells</td><td>62188</td></tr>\n",
       "<tr><td>N Points</td><td>77648</td></tr>\n",
       "<tr><td>X Bounds</td><td>-1.500e+00, 1.500e+00</td></tr>\n",
       "<tr><td>Y Bounds</td><td>1.000e-02, 3.000e+00</td></tr>\n",
       "<tr><td>Z Bounds</td><td>-1.500e+00, 1.500e+00</td></tr>\n",
       "<tr><td>N Arrays</td><td>10</td></tr>\n",
       "</table>\n",
       "\n",
       "</td><td>\n",
       "<table>\n",
       "<tr><th>Name</th><th>Field</th><th>Type</th><th>N Comp</th><th>Min</th><th>Max</th></tr>\n",
       "<tr><td>U</td><td>Points</td><td>float32</td><td>3</td><td>-1.776e+01</td><td>3.632e+01</td></tr>\n",
       "<tr><td>epsilon</td><td>Points</td><td>float32</td><td>1</td><td>3.000e-02</td><td>4.379e+04</td></tr>\n",
       "<tr><td>k</td><td>Points</td><td>float32</td><td>1</td><td>5.024e-01</td><td>3.503e+02</td></tr>\n",
       "<tr><td>nut</td><td>Points</td><td>float32</td><td>1</td><td>6.130e-05</td><td>1.352e+01</td></tr>\n",
       "<tr><td><b>p</b></td><td>Points</td><td>float32</td><td>1</td><td>-2.961e+02</td><td>5.471e+02</td></tr>\n",
       "<tr><td>U</td><td>Cells</td><td>float32</td><td>3</td><td>-2.293e+01</td><td>3.647e+01</td></tr>\n",
       "<tr><td>epsilon</td><td>Cells</td><td>float32</td><td>1</td><td>3.458e-02</td><td>5.706e+04</td></tr>\n",
       "<tr><td>k</td><td>Cells</td><td>float32</td><td>1</td><td>4.870e-01</td><td>3.507e+02</td></tr>\n",
       "<tr><td>nut</td><td>Cells</td><td>float32</td><td>1</td><td>4.305e-04</td><td>1.354e+01</td></tr>\n",
       "<tr><td><b>p</b></td><td>Cells</td><td>float32</td><td>1</td><td>-4.178e+02</td><td>5.471e+02</td></tr>\n",
       "</table>\n",
       "\n",
       "</td></tr> </table>"
      ],
      "text/plain": [
       "UnstructuredGrid (0x7fc0dad50d00)\n",
       "  N Cells:    62188\n",
       "  N Points:   77648\n",
       "  X Bounds:   -1.500e+00, 1.500e+00\n",
       "  Y Bounds:   1.000e-02, 3.000e+00\n",
       "  Z Bounds:   -1.500e+00, 1.500e+00\n",
       "  N Arrays:   10"
      ]
     },
     "execution_count": 17,
     "metadata": {},
     "output_type": "execute_result"
    }
   ],
   "source": [
    "internal_mesh"
   ]
  },
  {
   "cell_type": "code",
   "execution_count": 46,
   "metadata": {},
   "outputs": [
    {
     "data": {
      "text/html": [
       "<table><tr><th>Header</th><th>Data Arrays</th></tr><tr><td>\n",
       "<table>\n",
       "<tr><th>StructuredGrid</th><th>Information</th></tr>\n",
       "<tr><td>N Cells</td><td>2744</td></tr>\n",
       "<tr><td>N Points</td><td>3375</td></tr>\n",
       "<tr><td>X Bounds</td><td>-1.400e+00, 1.400e+00</td></tr>\n",
       "<tr><td>Y Bounds</td><td>0.000e+00, 2.800e+00</td></tr>\n",
       "<tr><td>Z Bounds</td><td>-1.400e+00, 1.400e+00</td></tr>\n",
       "<tr><td>Dimensions</td><td>15, 15, 15</td></tr>\n",
       "<tr><td>N Arrays</td><td>5</td></tr>\n",
       "</table>\n",
       "\n",
       "</td><td>\n",
       "<table>\n",
       "<tr><th>Name</th><th>Field</th><th>Type</th><th>N Comp</th><th>Min</th><th>Max</th></tr>\n",
       "<tr><td>U</td><td>Points</td><td>float32</td><td>3</td><td>-3.729e+00</td><td>1.598e+01</td></tr>\n",
       "<tr><td>epsilon</td><td>Points</td><td>float32</td><td>1</td><td>1.986e+00</td><td>1.461e+03</td></tr>\n",
       "<tr><td>k</td><td>Points</td><td>float32</td><td>1</td><td>1.643e+00</td><td>6.956e+01</td></tr>\n",
       "<tr><td>nut</td><td>Points</td><td>float32</td><td>1</td><td>3.628e-02</td><td>5.829e+00</td></tr>\n",
       "<tr><td><b>p</b></td><td>Points</td><td>float32</td><td>1</td><td>-4.478e+01</td><td>1.905e+02</td></tr>\n",
       "</table>\n",
       "\n",
       "</td></tr> </table>"
      ],
      "text/plain": [
       "StructuredGrid (0x7fc03702eec0)\n",
       "  N Cells:      2744\n",
       "  N Points:     3375\n",
       "  X Bounds:     -1.400e+00, 1.400e+00\n",
       "  Y Bounds:     0.000e+00, 2.800e+00\n",
       "  Z Bounds:     -1.400e+00, 1.400e+00\n",
       "  Dimensions:   15, 15, 15\n",
       "  N Arrays:     5"
      ]
     },
     "execution_count": 46,
     "metadata": {},
     "output_type": "execute_result"
    }
   ],
   "source": [
    "from openfoam.post import spatial_sample_case\n",
    "\n",
    "\n",
    "# b_box = [-1e3, 1e3, 1e-2, 1e3, -1e3, 1e3]\n",
    "b_box = [-1.5e0, 1.5e0, 1e-2, 3e0, -1.5e0, 1.5e0]\n",
    "\n",
    "sampled = spatial_sample_case(FILE_PATH, b_box, 0.2)\n",
    "sampled"
   ]
  },
  {
   "cell_type": "code",
   "execution_count": 19,
   "metadata": {},
   "outputs": [
    {
     "data": {
      "text/plain": [
       "pyvista_ndarray([[[[0., 0., 0., ..., 0., 0., 0.],\n",
       "                   [0., 0., 0., ..., 0., 0., 0.],\n",
       "                   [0., 0., 0., ..., 0., 0., 0.],\n",
       "                   ...,\n",
       "                   [0., 0., 0., ..., 0., 0., 0.],\n",
       "                   [0., 0., 0., ..., 0., 0., 0.],\n",
       "                   [0., 0., 0., ..., 0., 0., 0.]],\n",
       "\n",
       "                  [[0., 0., 0., ..., 0., 0., 0.],\n",
       "                   [0., 0., 0., ..., 0., 0., 0.],\n",
       "                   [0., 0., 0., ..., 0., 0., 0.],\n",
       "                   ...,\n",
       "                   [0., 0., 0., ..., 0., 0., 0.],\n",
       "                   [0., 0., 0., ..., 0., 0., 0.],\n",
       "                   [0., 0., 0., ..., 0., 0., 0.]],\n",
       "\n",
       "                  [[0., 0., 0., ..., 0., 0., 0.],\n",
       "                   [0., 0., 0., ..., 0., 0., 0.],\n",
       "                   [0., 0., 0., ..., 0., 0., 0.],\n",
       "                   ...,\n",
       "                   [0., 0., 0., ..., 0., 0., 0.],\n",
       "                   [0., 0., 0., ..., 0., 0., 0.],\n",
       "                   [0., 0., 0., ..., 0., 0., 0.]],\n",
       "\n",
       "                  ...,\n",
       "\n",
       "                  [[0., 0., 0., ..., 0., 0., 0.],\n",
       "                   [0., 0., 0., ..., 0., 0., 0.],\n",
       "                   [0., 0., 0., ..., 0., 0., 0.],\n",
       "                   ...,\n",
       "                   [0., 0., 0., ..., 0., 0., 0.],\n",
       "                   [0., 0., 0., ..., 0., 0., 0.],\n",
       "                   [0., 0., 0., ..., 0., 0., 0.]],\n",
       "\n",
       "                  [[0., 0., 0., ..., 0., 0., 0.],\n",
       "                   [0., 0., 0., ..., 0., 0., 0.],\n",
       "                   [0., 0., 0., ..., 0., 0., 0.],\n",
       "                   ...,\n",
       "                   [0., 0., 0., ..., 0., 0., 0.],\n",
       "                   [0., 0., 0., ..., 0., 0., 0.],\n",
       "                   [0., 0., 0., ..., 0., 0., 0.]],\n",
       "\n",
       "                  [[0., 0., 0., ..., 0., 0., 0.],\n",
       "                   [0., 0., 0., ..., 0., 0., 0.],\n",
       "                   [0., 0., 0., ..., 0., 0., 0.],\n",
       "                   ...,\n",
       "                   [0., 0., 0., ..., 0., 0., 0.],\n",
       "                   [0., 0., 0., ..., 0., 0., 0.],\n",
       "                   [0., 0., 0., ..., 0., 0., 0.]]],\n",
       "\n",
       "\n",
       "                 [[[0., 0., 0., ..., 0., 0., 0.],\n",
       "                   [0., 0., 0., ..., 0., 0., 0.],\n",
       "                   [0., 0., 0., ..., 0., 0., 0.],\n",
       "                   ...,\n",
       "                   [0., 0., 0., ..., 0., 0., 0.],\n",
       "                   [0., 0., 0., ..., 0., 0., 0.],\n",
       "                   [0., 0., 0., ..., 0., 0., 0.]],\n",
       "\n",
       "                  [[0., 0., 0., ..., 0., 0., 0.],\n",
       "                   [0., 0., 0., ..., 0., 0., 0.],\n",
       "                   [0., 0., 0., ..., 0., 0., 0.],\n",
       "                   ...,\n",
       "                   [0., 0., 0., ..., 0., 0., 0.],\n",
       "                   [0., 0., 0., ..., 0., 0., 0.],\n",
       "                   [0., 0., 0., ..., 0., 0., 0.]],\n",
       "\n",
       "                  [[0., 0., 0., ..., 0., 0., 0.],\n",
       "                   [0., 0., 0., ..., 0., 0., 0.],\n",
       "                   [0., 0., 0., ..., 0., 0., 0.],\n",
       "                   ...,\n",
       "                   [0., 0., 0., ..., 0., 0., 0.],\n",
       "                   [0., 0., 0., ..., 0., 0., 0.],\n",
       "                   [0., 0., 0., ..., 0., 0., 0.]],\n",
       "\n",
       "                  ...,\n",
       "\n",
       "                  [[0., 0., 0., ..., 0., 0., 0.],\n",
       "                   [0., 0., 0., ..., 0., 0., 0.],\n",
       "                   [0., 0., 0., ..., 0., 0., 0.],\n",
       "                   ...,\n",
       "                   [0., 0., 0., ..., 0., 0., 0.],\n",
       "                   [0., 0., 0., ..., 0., 0., 0.],\n",
       "                   [0., 0., 0., ..., 0., 0., 0.]],\n",
       "\n",
       "                  [[0., 0., 0., ..., 0., 0., 0.],\n",
       "                   [0., 0., 0., ..., 0., 0., 0.],\n",
       "                   [0., 0., 0., ..., 0., 0., 0.],\n",
       "                   ...,\n",
       "                   [0., 0., 0., ..., 0., 0., 0.],\n",
       "                   [0., 0., 0., ..., 0., 0., 0.],\n",
       "                   [0., 0., 0., ..., 0., 0., 0.]],\n",
       "\n",
       "                  [[0., 0., 0., ..., 0., 0., 0.],\n",
       "                   [0., 0., 0., ..., 0., 0., 0.],\n",
       "                   [0., 0., 0., ..., 0., 0., 0.],\n",
       "                   ...,\n",
       "                   [0., 0., 0., ..., 0., 0., 0.],\n",
       "                   [0., 0., 0., ..., 0., 0., 0.],\n",
       "                   [0., 0., 0., ..., 0., 0., 0.]]],\n",
       "\n",
       "\n",
       "                 [[[0., 0., 0., ..., 0., 0., 0.],\n",
       "                   [0., 0., 0., ..., 0., 0., 0.],\n",
       "                   [0., 0., 0., ..., 0., 0., 0.],\n",
       "                   ...,\n",
       "                   [0., 0., 0., ..., 0., 0., 0.],\n",
       "                   [0., 0., 0., ..., 0., 0., 0.],\n",
       "                   [0., 0., 0., ..., 0., 0., 0.]],\n",
       "\n",
       "                  [[0., 0., 0., ..., 0., 0., 0.],\n",
       "                   [0., 0., 0., ..., 0., 0., 0.],\n",
       "                   [0., 0., 0., ..., 0., 0., 0.],\n",
       "                   ...,\n",
       "                   [0., 0., 0., ..., 0., 0., 0.],\n",
       "                   [0., 0., 0., ..., 0., 0., 0.],\n",
       "                   [0., 0., 0., ..., 0., 0., 0.]],\n",
       "\n",
       "                  [[0., 0., 0., ..., 0., 0., 0.],\n",
       "                   [0., 0., 0., ..., 0., 0., 0.],\n",
       "                   [0., 0., 0., ..., 0., 0., 0.],\n",
       "                   ...,\n",
       "                   [0., 0., 0., ..., 0., 0., 0.],\n",
       "                   [0., 0., 0., ..., 0., 0., 0.],\n",
       "                   [0., 0., 0., ..., 0., 0., 0.]],\n",
       "\n",
       "                  ...,\n",
       "\n",
       "                  [[0., 0., 0., ..., 0., 0., 0.],\n",
       "                   [0., 0., 0., ..., 0., 0., 0.],\n",
       "                   [0., 0., 0., ..., 0., 0., 0.],\n",
       "                   ...,\n",
       "                   [0., 0., 0., ..., 0., 0., 0.],\n",
       "                   [0., 0., 0., ..., 0., 0., 0.],\n",
       "                   [0., 0., 0., ..., 0., 0., 0.]],\n",
       "\n",
       "                  [[0., 0., 0., ..., 0., 0., 0.],\n",
       "                   [0., 0., 0., ..., 0., 0., 0.],\n",
       "                   [0., 0., 0., ..., 0., 0., 0.],\n",
       "                   ...,\n",
       "                   [0., 0., 0., ..., 0., 0., 0.],\n",
       "                   [0., 0., 0., ..., 0., 0., 0.],\n",
       "                   [0., 0., 0., ..., 0., 0., 0.]],\n",
       "\n",
       "                  [[0., 0., 0., ..., 0., 0., 0.],\n",
       "                   [0., 0., 0., ..., 0., 0., 0.],\n",
       "                   [0., 0., 0., ..., 0., 0., 0.],\n",
       "                   ...,\n",
       "                   [0., 0., 0., ..., 0., 0., 0.],\n",
       "                   [0., 0., 0., ..., 0., 0., 0.],\n",
       "                   [0., 0., 0., ..., 0., 0., 0.]]]], dtype=float32)"
      ]
     },
     "execution_count": 19,
     "metadata": {},
     "output_type": "execute_result"
    }
   ],
   "source": [
    "sampled[\"U\"].reshape((3, 200, 399, 399))"
   ]
  },
  {
   "cell_type": "code",
   "execution_count": 20,
   "metadata": {},
   "outputs": [
    {
     "data": {
      "text/plain": [
       "pyvista.core.pointset.StructuredGrid"
      ]
     },
     "execution_count": 20,
     "metadata": {},
     "output_type": "execute_result"
    }
   ],
   "source": [
    "type(sampled)"
   ]
  },
  {
   "cell_type": "code",
   "execution_count": 21,
   "metadata": {},
   "outputs": [
    {
     "data": {
      "text/plain": [
       "pyvista.core.pointset.StructuredGrid"
      ]
     },
     "execution_count": 21,
     "metadata": {},
     "output_type": "execute_result"
    }
   ],
   "source": [
    "type(sampled)"
   ]
  },
  {
   "cell_type": "code",
   "execution_count": 22,
   "metadata": {},
   "outputs": [
    {
     "name": "stdout",
     "output_type": "stream",
     "text": [
      "<class 'pyvista.core.pyvista_ndarray.pyvista_ndarray'>\n"
     ]
    },
    {
     "data": {
      "text/plain": [
       "pyvista_ndarray([[0., 0., 0.],\n",
       "                 [0., 0., 0.],\n",
       "                 [0., 0., 0.],\n",
       "                 ...,\n",
       "                 [0., 0., 0.],\n",
       "                 [0., 0., 0.],\n",
       "                 [0., 0., 0.]], dtype=float32)"
      ]
     },
     "execution_count": 22,
     "metadata": {},
     "output_type": "execute_result"
    }
   ],
   "source": [
    "print(type(sampled[\"U\"]))\n",
    "sampled[\"U\"]"
   ]
  },
  {
   "cell_type": "code",
   "execution_count": 23,
   "metadata": {},
   "outputs": [
    {
     "name": "stdout",
     "output_type": "stream",
     "text": [
      "<class 'vtkmodules.vtkCommonCore.vtkTypeFloat32Array'>\n",
      "vtkTypeFloat32Array (0x58dbe60)\n",
      "  Debug: Off\n",
      "  Modified Time: 4841\n",
      "  Reference Count: 1\n",
      "  Registered Events: (none)\n",
      "  Name: (none)\n",
      "  Data type: float\n",
      "  Size: 95520600\n",
      "  MaxId: 95520599\n",
      "  NumberOfComponents: 3\n",
      "  Information: 0\n",
      "  Name: (none)\n",
      "  Number Of Components: 3\n",
      "  Number Of Tuples: 31840200\n",
      "  Size: 95520600\n",
      "  MaxId: 95520599\n",
      "  LookupTable: (none)\n",
      "\n",
      "\n"
     ]
    }
   ],
   "source": [
    "from pyvista import convert_array\n",
    "\n",
    "\n",
    "converted = convert_array(sampled[\"U\"])\n",
    "print(type(converted))\n",
    "print(converted)"
   ]
  },
  {
   "cell_type": "code",
   "execution_count": 24,
   "metadata": {},
   "outputs": [
    {
     "name": "stdout",
     "output_type": "stream",
     "text": [
      "<class 'numpy.ndarray'>\n"
     ]
    }
   ],
   "source": [
    "print(type(convert_array(converted)))"
   ]
  },
  {
   "cell_type": "code",
   "execution_count": 25,
   "metadata": {},
   "outputs": [
    {
     "data": {
      "text/plain": [
       "pyvista.core.pyvista_ndarray.pyvista_ndarray"
      ]
     },
     "execution_count": 25,
     "metadata": {},
     "output_type": "execute_result"
    }
   ],
   "source": [
    "type(sampled[\"U\"])"
   ]
  },
  {
   "cell_type": "code",
   "execution_count": 26,
   "metadata": {},
   "outputs": [
    {
     "name": "stdout",
     "output_type": "stream",
     "text": [
      "<class 'numpy.ndarray'>\n",
      "[[0. 0. 0.]\n",
      " [0. 0. 0.]\n",
      " [0. 0. 0.]\n",
      " ...\n",
      " [0. 0. 0.]\n",
      " [0. 0. 0.]\n",
      " [0. 0. 0.]]\n"
     ]
    }
   ],
   "source": [
    "from sklearn.preprocessing import normalize\n",
    "\n",
    "\n",
    "normalized = normalize(sampled[\"U\"])\n",
    "print(type(normalized))\n",
    "print(normalized)"
   ]
  },
  {
   "cell_type": "code",
   "execution_count": 27,
   "metadata": {},
   "outputs": [
    {
     "name": "stdout",
     "output_type": "stream",
     "text": [
      "[[0.]\n",
      " [0.]\n",
      " [0.]\n",
      " ...\n",
      " [0.]\n",
      " [0.]\n",
      " [0.]]\n"
     ]
    }
   ],
   "source": [
    "from openfoam.post import normalize_upk\n",
    "\n",
    "\n",
    "nu, np, nk = normalize_upk(sampled)\n",
    "print(nu)"
   ]
  },
  {
   "cell_type": "code",
   "execution_count": 28,
   "metadata": {},
   "outputs": [
    {
     "name": "stdout",
     "output_type": "stream",
     "text": [
      "<class 'numpy.ndarray'>\n",
      "[[0.]\n",
      " [0.]\n",
      " [0.]\n",
      " ...\n",
      " [0.]\n",
      " [0.]\n",
      " [0.]]\n"
     ]
    }
   ],
   "source": [
    "normalized = normalize(sampled[\"p\"].reshape(-1,1))\n",
    "print(type(normalized))\n",
    "print(normalized)"
   ]
  },
  {
   "cell_type": "code",
   "execution_count": 29,
   "metadata": {},
   "outputs": [
    {
     "ename": "ImportError",
     "evalue": "cannot import name 'rms' from 'openfoam.post' (/home/ubuntu/cfd/openfoam/post.py)",
     "output_type": "error",
     "traceback": [
      "\u001b[0;31m---------------------------------------------------------------------------\u001b[0m",
      "\u001b[0;31mImportError\u001b[0m                               Traceback (most recent call last)",
      "Cell \u001b[0;32mIn[29], line 1\u001b[0m\n\u001b[0;32m----> 1\u001b[0m \u001b[39mfrom\u001b[39;00m \u001b[39mopenfoam\u001b[39;00m\u001b[39m.\u001b[39;00m\u001b[39mpost\u001b[39;00m \u001b[39mimport\u001b[39;00m rms\n\u001b[1;32m      3\u001b[0m rms_of_sampled(sampled, sampled)\n",
      "\u001b[0;31mImportError\u001b[0m: cannot import name 'rms' from 'openfoam.post' (/home/ubuntu/cfd/openfoam/post.py)"
     ]
    }
   ],
   "source": [
    "from openfoam.post import rms\n",
    "\n",
    "rms_of_sampled(sampled, sampled)"
   ]
  },
  {
   "cell_type": "code",
   "execution_count": null,
   "metadata": {},
   "outputs": [],
   "source": []
  }
 ],
 "metadata": {
  "kernelspec": {
   "display_name": "venv",
   "language": "python",
   "name": "python3"
  },
  "language_info": {
   "codemirror_mode": {
    "name": "ipython",
    "version": 3
   },
   "file_extension": ".py",
   "mimetype": "text/x-python",
   "name": "python",
   "nbconvert_exporter": "python",
   "pygments_lexer": "ipython3",
   "version": "3.11.4"
  },
  "orig_nbformat": 4
 },
 "nbformat": 4,
 "nbformat_minor": 2
}
