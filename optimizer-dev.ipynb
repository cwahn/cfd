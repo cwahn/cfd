{
 "cells": [
  {
   "cell_type": "code",
   "execution_count": 1,
   "metadata": {},
   "outputs": [],
   "source": [
    "# from cProfile import label\n",
    "\n",
    "\n",
    "# a = [1, 3, 4]\n",
    "# b = [5, 4, 2]\n",
    "# print(list(map(lambda (x, y): x+y, zip(a, b))))"
   ]
  },
  {
   "cell_type": "code",
   "execution_count": 2,
   "metadata": {},
   "outputs": [],
   "source": [
    "from math import sqrt\n",
    "import pdb\n",
    "from typing import List\n",
    "\n",
    "from openfoam.optimizer import T, last\n",
    "\n",
    "\n",
    "FLOAT_MACHINE_EPSILON = 2.22e-16\n",
    "FLOAT_EPSILON = sqrt(FLOAT_MACHINE_EPSILON)\n",
    "\n",
    "\n",
    "class FloatGd(T):\n",
    "    def __init__(self, inner: float, eta: float) -> None:\n",
    "        super().__init__()\n",
    "        self.inner = inner\n",
    "        self.eta = eta\n",
    "\n",
    "    def succ(self) -> \"FloatGd\":\n",
    "        return FloatGd(self.inner + FLOAT_EPSILON, self.eta)\n",
    "\n",
    "    def partial_diff(self, y: float, succ_y: float) -> float:\n",
    "        pd = (succ_y - y)/FLOAT_EPSILON\n",
    "        return pd\n",
    "    \n",
    "    def update(self, pds: List[float]) -> T:\n",
    "        pd = last(pds)\n",
    "        return FloatGd(self.inner - self.eta * pd, self.eta)\n",
    "\n",
    "    def __repr__(self):\n",
    "        return f\"Float<inner: {self.inner}>\""
   ]
  },
  {
   "cell_type": "code",
   "execution_count": 3,
   "metadata": {},
   "outputs": [],
   "source": [
    "from openfoam.optimizer import optimize\n",
    "\n",
    "# def stop_if_small_y(_thetas, ys, _pdss) -> bool:\n",
    "#     return last(ys) < 0.01\n",
    "\n",
    "# def log_by_print(thetas, ys, pdss):\n",
    "#     print(\"Interation: \", len(ys))\n",
    "#     print(\"Theta: \", list(map(last, thetas)))\n",
    "#     print(\"y: \", last(ys))\n",
    "#     print(\"pds: \", list(map(last, pdss)), \"\\n\")\n",
    "\n",
    "\n",
    "# def square(ts: List[T]) -> float: \n",
    "#     # print(\"ts of square: \", ts)\n",
    "#     return (ts[0].inner - 1) ** 2\n",
    "\n",
    "# optimize(square, [[FloatGd(100., 0.1)]], [], [[]], stop_if_small_y, log_by_print)"
   ]
  },
  {
   "cell_type": "code",
   "execution_count": 4,
   "metadata": {},
   "outputs": [],
   "source": [
    "from copy import deepcopy\n",
    "\n",
    "\n",
    "class FloatAdam(T):\n",
    "    def __init__(\n",
    "            self, inner: float, \n",
    "            alpha: float, \n",
    "            beta1: float = 0.9, \n",
    "            beta2: float=0.99\n",
    "            ) -> None:\n",
    "        \n",
    "        super().__init__()\n",
    "        self.inner = inner\n",
    "        self.alpha = alpha\n",
    "        self.beta1 = beta1\n",
    "        self.beta2 = beta2\n",
    "        self.m1 = 0.\n",
    "        self.m2 = 0.\n",
    "\n",
    "    def succ(self) -> \"FloatGd\":\n",
    "        new = deepcopy(self)\n",
    "        new.inner = self.inner + FLOAT_EPSILON\n",
    "        return new\n",
    "\n",
    "    def partial_diff(self, y: float, succ_y: float) -> float:\n",
    "        pd = (succ_y - y)/FLOAT_EPSILON\n",
    "        return pd\n",
    "    \n",
    "    def update(self, pds: List[float]) -> T:\n",
    "        pd = last(pds)\n",
    "        m1_ = self.beta1 * self.m1 + (1-self.beta1) * pd\n",
    "        m2_ = self.beta2 * self.m2 + (1-self.beta2) * (pd**2)\n",
    "        inner_ = self.inner - self.alpha * (m1_ / sqrt(m2_ + FLOAT_EPSILON))\n",
    "\n",
    "        new = deepcopy(self)\n",
    "        new.m1 = m1_\n",
    "        new.m2 = m2_\n",
    "        new.inner = inner_\n",
    "\n",
    "        return new\n",
    "\n",
    "    def __repr__(self):\n",
    "        return f\"Float<inner: {self.inner}>\""
   ]
  },
  {
   "cell_type": "code",
   "execution_count": 11,
   "metadata": {},
   "outputs": [
    {
     "data": {
      "text/plain": [
       "([Float<inner: 0.4094398286438612>], 0.0009313902147921448)"
      ]
     },
     "execution_count": 11,
     "metadata": {},
     "output_type": "execute_result"
    }
   ],
   "source": [
    "from openfoam.graph import *\n",
    "from openfoam.optimizer import *\n",
    "from typing import List\n",
    "\n",
    "\n",
    "def stop_if_small_y(_thetas, ys, _pdss) -> bool:\n",
    "    return last(ys) < 0.01\n",
    "\n",
    "def log_by_print(i, ts, y, pds):\n",
    "    print(\"Interation: \", i)\n",
    "    print(\"Theta: \", ts)\n",
    "    print(\"y: \", y)\n",
    "    print(\"pds: \",pds, \"\\n\")\n",
    "\n",
    "logger = to_csv(\"./adam-test.csv\", [\"t\", \"y\", \"t_d\"])\n",
    "\n",
    "def square(ts: List[T]) -> float: \n",
    "    # print(\"ts of square: \", ts)\n",
    "    return (ts[0].inner - 1) ** 2\n",
    "\n",
    "optimize(square, [[FloatAdam(100., 2, 0.8, 0.88)]], [], [[]], stop_if_small_y, logger)"
   ]
  },
  {
   "cell_type": "code",
   "execution_count": 6,
   "metadata": {},
   "outputs": [],
   "source": [
    "# from math import copysign\n",
    "# from gd.src import Arg\n",
    "\n",
    "\n",
    "# class Int(Arg):\n",
    "#     def __init__(self, inner: int) -> None:\n",
    "#         super().__init__()\n",
    "#         self.inner = inner\n",
    "\n",
    "#     def succ(self) -> Arg:\n",
    "#         return Int(self.inner + 1)\n",
    "    \n",
    "#     def update(self, cost: float, succ_cost: float) -> Arg:\n",
    "#         diff = (succ_cost - cost)\n",
    "#         return Int(self.inner - copysign(1, diff))\n",
    "    \n",
    "    \n",
    "#     def __repr__(self) -> str:\n",
    "#         return f\"Int<inner: {self.inner}>\""
   ]
  },
  {
   "cell_type": "code",
   "execution_count": 7,
   "metadata": {},
   "outputs": [],
   "source": [
    "# i = Int(1)\n",
    "# print(i.succ())\n",
    "# print(i.update(3., 2.))\n",
    "# print(i.update(3., 2.))\n",
    "# print(i.update(1., 2.))"
   ]
  },
  {
   "cell_type": "code",
   "execution_count": 8,
   "metadata": {},
   "outputs": [],
   "source": [
    "# def square(args: Args) -> float:\n",
    "#     return (args[0].inner - 7) ** 2 + (args[1].inner - 2) ** 2\n",
    "\n",
    "# optimize(square, [Float(100.), Int(20)])"
   ]
  },
  {
   "cell_type": "code",
   "execution_count": 9,
   "metadata": {},
   "outputs": [],
   "source": [
    "# a = [Float(100.), Int(20)]\n",
    "# succ_i(1, a)"
   ]
  },
  {
   "cell_type": "code",
   "execution_count": 10,
   "metadata": {},
   "outputs": [],
   "source": [
    "# a"
   ]
  },
  {
   "cell_type": "code",
   "execution_count": null,
   "metadata": {},
   "outputs": [],
   "source": []
  }
 ],
 "metadata": {
  "kernelspec": {
   "display_name": "venv",
   "language": "python",
   "name": "python3"
  },
  "language_info": {
   "codemirror_mode": {
    "name": "ipython",
    "version": 3
   },
   "file_extension": ".py",
   "mimetype": "text/x-python",
   "name": "python",
   "nbconvert_exporter": "python",
   "pygments_lexer": "ipython3",
   "version": "3.11.3"
  },
  "orig_nbformat": 4
 },
 "nbformat": 4,
 "nbformat_minor": 2
}
